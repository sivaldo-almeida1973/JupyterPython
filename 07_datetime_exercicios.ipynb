{
 "cells": [
  {
   "cell_type": "markdown",
   "metadata": {},
   "source": [
    "## Oferecendo desconto para cliente com base na última compra\n",
    "\n",
    "Suponha que você está trabalhando para uma empresa que deseja rastrear a atividade do cliente. Uma métrica que eles estão interessados é o tempo que passou desde a última transação do cliente. Se for muito tempo, eles podem oferecer um desconto para o cliente. Crie um script Python que mostra quanto tempo se passou desde a última compra do cliente. Se faz mais de 30 dias, mostre uma mensagem oferecendo um desconto para o cliente."
   ]
  },
  {
   "cell_type": "code",
   "execution_count": 1,
   "metadata": {},
   "outputs": [
    {
     "name": "stdout",
     "output_type": "stream",
     "text": [
      "2023-05-10 00:00:00\n",
      "2024-06-05 11:27:43.864514\n"
     ]
    }
   ],
   "source": [
    "#armazenar a data\n",
    "from datetime import datetime\n",
    "#variavel que vai armazenar\n",
    "ultima_compra = datetime(2023, 5, 10)\n",
    "\n",
    "data_hora_atual = datetime.now()\n",
    "\n",
    "print(ultima_compra)\n",
    "print(data_hora_atual)\n"
   ]
  },
  {
   "cell_type": "code",
   "execution_count": 3,
   "metadata": {},
   "outputs": [
    {
     "name": "stdout",
     "output_type": "stream",
     "text": [
      "392 days, 11:27:43.864514\n"
     ]
    }
   ],
   "source": [
    "#achar a diferença entre a hora atual e a ultima compra\n",
    "diferenca = data_hora_atual - ultima_compra\n",
    "print(diferenca)"
   ]
  },
  {
   "cell_type": "code",
   "execution_count": 4,
   "metadata": {},
   "outputs": [
    {
     "name": "stdout",
     "output_type": "stream",
     "text": [
      "<class 'datetime.timedelta'>\n"
     ]
    }
   ],
   "source": [
    "#informa o tipo\n",
    "print(type(diferenca))"
   ]
  },
  {
   "cell_type": "code",
   "execution_count": 6,
   "metadata": {},
   "outputs": [
    {
     "name": "stdout",
     "output_type": "stream",
     "text": [
      "392\n"
     ]
    }
   ],
   "source": [
    "#informa a diferenca em dias\n",
    "print(diferenca.days)\n"
   ]
  },
  {
   "cell_type": "code",
   "execution_count": 10,
   "metadata": {},
   "outputs": [
    {
     "name": "stdout",
     "output_type": "stream",
     "text": [
      "Parabens voce ganhou um desconto\n"
     ]
    }
   ],
   "source": [
    "if diferenca.days > 30:\n",
    "    print(f\"Parabens voce ganhou um desconto\")"
   ]
  },
  {
   "cell_type": "markdown",
   "metadata": {},
   "source": [
    "## Data e hora em diferentes fusos horários\n",
    "\n",
    "Uma empresa tem escritórios em São Paulo, Nova York e Tóquio. Crie um script Python que mostra a data e hora atuais nesses três fusos horários. Exiba, também, se estes escritórios estão abertos ou fechados (9h às 17h).\n"
   ]
  },
  {
   "cell_type": "code",
   "execution_count": 20,
   "metadata": {},
   "outputs": [
    {
     "name": "stdout",
     "output_type": "stream",
     "text": [
      "2024-06-05 11:41:38.338511\n"
     ]
    }
   ],
   "source": [
    "from datetime import datetime\n",
    "#para trabalhar com fuso horarios\n",
    "from zoneinfo import ZoneInfo\n",
    "\n",
    "data_hora_atual = datetime.now()\n",
    "\n",
    "print(data_hora_atual)"
   ]
  },
  {
   "cell_type": "code",
   "execution_count": 26,
   "metadata": {},
   "outputs": [
    {
     "name": "stdout",
     "output_type": "stream",
     "text": [
      "Fuso horario de São Paulo 2024-06-05 11:41:38.338511-03:00\n",
      "Fuso horario de New York 2024-06-05 10:41:38.338511-04:00\n",
      "Fuso horario de Tokio 2024-06-05 23:41:38.338511+09:00\n"
     ]
    }
   ],
   "source": [
    "fuso_horario_sao_paulo = ZoneInfo(\"America/Sao_Paulo\")\n",
    "fuso_horario_ny = ZoneInfo(\"America/New_York\")\n",
    "fuso_horario_tokio = ZoneInfo(\"Asia/Tokyo\")\n",
    "\n",
    "data_hora_sao_paulo = data_hora_atual.astimezone(fuso_horario_sao_paulo)\n",
    "data_hora_ny = data_hora_atual.astimezone(fuso_horario_ny)\n",
    "data_hora_tokio = data_hora_atual.astimezone(fuso_horario_tokio)\n",
    "\n",
    "\n",
    "\n",
    "\n",
    "print(f'Fuso horario de São Paulo {data_hora_sao_paulo}' )\n",
    "print(f'Fuso horario de New York {data_hora_ny}')\n",
    "print(f'Fuso horario de Tokio {data_hora_tokio }' )\n"
   ]
  },
  {
   "cell_type": "code",
   "execution_count": 31,
   "metadata": {},
   "outputs": [
    {
     "name": "stdout",
     "output_type": "stream",
     "text": [
      "Escritorios de são paulo aberto\n"
     ]
    }
   ],
   "source": [
    "def verifica_hora(data_hora):\n",
    "    if 9 <= data_hora.hour < 17:\n",
    "        return \"aberto\"\n",
    "    else:\n",
    "        return \"fechado\"\n",
    "\n",
    "print(f'Escritorios de são paulo {verifica_hora(data_hora_sao_paulo)}')"
   ]
  }
 ],
 "metadata": {
  "kernelspec": {
   "display_name": "Python 3 (ipykernel)",
   "language": "python",
   "name": "python3"
  },
  "language_info": {
   "codemirror_mode": {
    "name": "ipython",
    "version": 3
   },
   "file_extension": ".py",
   "mimetype": "text/x-python",
   "name": "python",
   "nbconvert_exporter": "python",
   "pygments_lexer": "ipython3",
   "version": "3.11.7"
  }
 },
 "nbformat": 4,
 "nbformat_minor": 4
}
