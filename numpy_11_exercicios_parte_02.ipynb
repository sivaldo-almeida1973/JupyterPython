{
 "cells": [
  {
   "cell_type": "markdown",
   "metadata": {},
   "source": [
    "## Exercício\n",
    "\n",
    "Você é um analista de dados em uma empresa e conduziu uma pesquisa de satisfação do cliente durante uma semana. Você perguntou as clientes para classificar seu nível de satisfação com o serviço ao cliente em uma escala de 0 a 10. Você coletou respostas de 30 clientes por dia durante 7 dias, resultando em um total de 210 respostas.\n",
    "\n",
    "No entanto, os dados que você recebeu estão em um array 1D de 210 elementos. Reorganize os dados de forma a ter as respostas por dia e faça uma análise descritiva básica, calculando a média geral de satisfação e a média diária."
   ]
  },
  {
   "cell_type": "code",
   "execution_count": 5,
   "metadata": {
    "ExecuteTime": {
     "end_time": "2023-07-03T12:12:12.700234800Z",
     "start_time": "2023-07-03T12:12:12.677347900Z"
    },
    "collapsed": false,
    "jupyter": {
     "outputs_hidden": false
    }
   },
   "outputs": [
    {
     "name": "stdout",
     "output_type": "stream",
     "text": [
      "[ 0  8  7  4  4  9  0  7  2  1  5 10  8  8  7  8  5  1  9  4  5  4  2 10\n",
      "  8  7  4  9  5  4  4  2  1  6  9  0  9  9  3  6  1  8  7  3  0 10  4  9\n",
      "  7  8  8  2  4  5  5  0  6  1  8  7 10  8  4 10  4  3  9  4  0  5  8  2\n",
      "  5  1  7  5  3  2  6  7 10  4  1  9  6  7  1  3  8  9  4  8  9  4  9  3\n",
      "  2  7  7  1  9  2  8  0  8  8  8  7  5  7  3  8  6  5  5  6  0  1  2  1\n",
      "  4  7  7  5  9  6  0  8  6  6  6  6  0  6  8  3  6  0  3  4 10  2  3  4\n",
      " 10  9  0  2  9  0  9  3 10  3  4  7  1  6  5  8 10  7  4  4  4  8  3  1\n",
      "  3  0  1  0  8  7  7  5  7  1  9  5 10  1  5  7  5  4  1  4  2  3  7  6\n",
      "  6  3 10  0  3  1  3 10  4  9  5  7  5  2  8 10  2  8]\n"
     ]
    }
   ],
   "source": [
    "import numpy as np\n",
    "\n",
    "# considere os seguintes dados aleatórios como início\n",
    "rng = np.random.default_rng(seed=42)\n",
    "respostas = rng.integers(low=0, high=10, size=210, endpoint=True)\n",
    "print(respostas)\n",
    "\n",
    "\n",
    "#Aqui, np.random.default_rng(seed=42) cria um gerador de números aleatórios (RNG) usando o módulo \n",
    "#numpy. O parâmetro seed=42 garante que os números gerados sejam os mesmos toda vez que o código\n",
    "#for executado, proporcionando reprodutibilidade.\n",
    "# rng.integers(low=0, high=10, size=210, endpoint=True) gera uma matriz de 210 números inteiros aleatórios.\n",
    "# low=0 define o limite inferior (inclusive).\n",
    "# high=10 define o limite superior (inclusive, porque endpoint=True).\n",
    "# size=210 especifica que queremos 210 números."
   ]
  },
  {
   "cell_type": "markdown",
   "metadata": {},
   "source": [
    "O seguinte modelo pode ser pensado para os dados recebidos:\n",
    "\n",
    "    dia 1 cliente 1, dia 1 cliente 2, dia 1 cliente 3, ...\n",
    "    ... dia 7 cliente 28, dia 7 cliente 29, dia 7 cliente 30\n",
    "    \n",
    "Assim, podemos fazer um reshape:"
   ]
  },
  {
   "cell_type": "code",
   "execution_count": 11,
   "metadata": {},
   "outputs": [
    {
     "name": "stdout",
     "output_type": "stream",
     "text": [
      "[[ 0  8  7  4  4  9  0  7  2  1  5 10  8  8  7  8  5  1  9  4  5  4  2 10\n",
      "   8  7  4  9  5  4]\n",
      " [ 4  2  1  6  9  0  9  9  3  6  1  8  7  3  0 10  4  9  7  8  8  2  4  5\n",
      "   5  0  6  1  8  7]\n",
      " [10  8  4 10  4  3  9  4  0  5  8  2  5  1  7  5  3  2  6  7 10  4  1  9\n",
      "   6  7  1  3  8  9]\n",
      " [ 4  8  9  4  9  3  2  7  7  1  9  2  8  0  8  8  8  7  5  7  3  8  6  5\n",
      "   5  6  0  1  2  1]\n",
      " [ 4  7  7  5  9  6  0  8  6  6  6  6  0  6  8  3  6  0  3  4 10  2  3  4\n",
      "  10  9  0  2  9  0]\n",
      " [ 9  3 10  3  4  7  1  6  5  8 10  7  4  4  4  8  3  1  3  0  1  0  8  7\n",
      "   7  5  7  1  9  5]\n",
      " [10  1  5  7  5  4  1  4  2  3  7  6  6  3 10  0  3  1  3 10  4  9  5  7\n",
      "   5  2  8 10  2  8]]\n"
     ]
    }
   ],
   "source": [
    "resposta_reshape = np.reshape(respostas, (7, 30))\n",
    "print(resposta_reshape)"
   ]
  },
  {
   "cell_type": "code",
   "execution_count": 12,
   "metadata": {},
   "outputs": [
    {
     "name": "stdout",
     "output_type": "stream",
     "text": [
      "5.147619047619048\n"
     ]
    }
   ],
   "source": [
    "media_geral = np.mean(resposta_reshape)\n",
    "print(media_geral)"
   ]
  },
  {
   "cell_type": "code",
   "execution_count": 14,
   "metadata": {},
   "outputs": [
    {
     "name": "stdout",
     "output_type": "stream",
     "text": [
      "[5.5        5.06666667 5.36666667 5.1        4.96666667 5.\n",
      " 5.03333333]\n"
     ]
    }
   ],
   "source": [
    "media_diaria = np.mean(resposta_reshape, axis=1)\n",
    "print(media_diaria)"
   ]
  }
 ],
 "metadata": {
  "kernelspec": {
   "display_name": "Python 3 (ipykernel)",
   "language": "python",
   "name": "python3"
  },
  "language_info": {
   "codemirror_mode": {
    "name": "ipython",
    "version": 3
   },
   "file_extension": ".py",
   "mimetype": "text/x-python",
   "name": "python",
   "nbconvert_exporter": "python",
   "pygments_lexer": "ipython3",
   "version": "3.11.7"
  }
 },
 "nbformat": 4,
 "nbformat_minor": 4
}
