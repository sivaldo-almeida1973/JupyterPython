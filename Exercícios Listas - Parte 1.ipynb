{
 "cells": [
  {
   "cell_type": "markdown",
   "metadata": {},
   "source": [
    "# Exercícios\n",
    "\n",
    "## 1. Faturamento do Melhor e do Pior Mês do Ano\n",
    "\n",
    "Qual foi o valor de vendas do melhor mês do Ano?\n",
    "E valor do pior mês do ano?"
   ]
  },
  {
   "cell_type": "code",
   "execution_count": 84,
   "metadata": {},
   "outputs": [
    {
     "name": "stdout",
     "output_type": "stream",
     "text": [
      "Juntar : [25000, 29000, 22200, 17750, 15870, 19900, 19850, 20120, 17540, 15555, 49051, 9650]\n",
      "Maior valor: 49051\n",
      "Menor valor: 9650\n"
     ]
    }
   ],
   "source": [
    "meses = ['jan', 'fev', 'mar', 'abr', 'mai', 'jun', 'jul', 'ago', 'set', 'out', 'nov', 'dez']\n",
    "vendas_1sem = [25000, 29000, 22200, 17750, 15870, 19900]\n",
    "vendas_2sem = [19850, 20120, 17540, 15555, 49051, 9650]\n",
    "\n",
    "#juntar duas listas\n",
    "vendas_1sem.extend(vendas_2sem)\n",
    "print('Juntar :',vendas_1sem)\n",
    "\n",
    "#achar maior valor\n",
    "maior_valor = max(vendas_1sem)\n",
    "print('Maior valor:' ,maior_valor)\n",
    "\n",
    "#achar menor valor\n",
    "menor_valor = min(vendas_1sem)\n",
    "print('Menor valor:' ,menor_valor)"
   ]
  },
  {
   "cell_type": "markdown",
   "metadata": {},
   "source": [
    "## 2. Continuação\n",
    "\n",
    "Agora relacione as duas listas para printar 'O melhor mês do ano foi {} com {} vendas' e o mesmo para o pior mês do ano.\n",
    "\n",
    "Calcule também o faturamento total do Ano e quanto que o melhor mês representou do faturamento total.\n",
    "\n",
    "Obs: Para o faturamento total, pode usar a função sum(lista) que soma todos os itens de uma lista"
   ]
  },
  {
   "cell_type": "code",
   "execution_count": 85,
   "metadata": {},
   "outputs": [
    {
     "name": "stdout",
     "output_type": "stream",
     "text": [
      "O melhor mês do ano foi nov com 49051\n",
      "O pior mês do ano foi dez com 9650\n",
      "O faturamento total foi R$261,486.00\n",
      "O percentual do melhor mês do ano foi 18.8%\n"
     ]
    }
   ],
   "source": [
    "#achar indices do maior e menor valor\n",
    "id_maior_valor = vendas_1sem.index(maior_valor)\n",
    "id_menor_valor = vendas_1sem.index(menor_valor)\n",
    "\n",
    "print('O melhor mês do ano foi {} com {}'.format(meses[id_maior_valor], maior_valor))\n",
    "print('O pior mês do ano foi {} com {}'.format(meses[id_menor_valor], menor_valor))\n",
    "\n",
    "fat_total = sum(vendas_1sem)\n",
    "print('O faturamento total foi R${:,.2f}'.format(fat_total))\n",
    "\n",
    "percent_melhor_mes = maior_valor / fat_total\n",
    "print('O percentual do melhor mês do ano foi {:.1%}'.format(percent_melhor_mes))\n"
   ]
  },
  {
   "cell_type": "markdown",
   "metadata": {},
   "source": [
    "## 3. Crie uma lista com o top 3 valores de vendas do ano (sem fazer \"no olho\")\n",
    "\n",
    "Dica: o método remove retira um item da lista."
   ]
  },
  {
   "cell_type": "code",
   "execution_count": 86,
   "metadata": {},
   "outputs": [
    {
     "name": "stdout",
     "output_type": "stream",
     "text": [
      "Lista Original [25000, 29000, 22200, 17750, 15870, 19900, 19850, 20120, 17540, 15555, 49051, 9650]\n",
      "Os tres maiores valores: [49051, 29000, 25000]\n",
      "Lista original apos tirar os 3 valores [22200, 17750, 15870, 19900, 19850, 20120, 17540, 15555, 9650]\n"
     ]
    }
   ],
   "source": [
    "#tem que reiniciar os blocos acima , depois que tira os valores da lista\n",
    "top3 = []\n",
    "\n",
    "print('Lista Original',vendas_1sem)\n",
    "maior_valor = max(vendas_1sem)\n",
    "top3.append(maior_valor) #adicionar o maior valor na lista top3\n",
    "\n",
    "vendas_1sem.remove(maior_valor)#retirar o maior valor da lsita original\n",
    "#print(vendas_1sem)\n",
    "\n",
    "maior_valor = max(vendas_1sem) #achar o maior valor novamente\n",
    "top3.append(maior_valor)    #adicionar o 2º maior valor na lista top3\n",
    "vendas_1sem.remove(maior_valor) #retirar o 2º maior valor da lista original\n",
    "\n",
    "\n",
    "maior_valor = max(vendas_1sem)  #achar o maior valor novamente\n",
    "top3.append(maior_valor)        #adicionar o 3º maior valor na lista top3\n",
    "vendas_1sem.remove(maior_valor)  #retirar o 3º maior valor da lista original\n",
    "print('Os tres maiores valores:',top3) #mostrar a lista top3 com os 3 maiores\n",
    "print('Lista original apos tirar os 3 valores',vendas_1sem) #lista original no final\n",
    "\n",
    "\n",
    "\n"
   ]
  }
 ],
 "metadata": {
  "kernelspec": {
   "display_name": "Python 3 (ipykernel)",
   "language": "python",
   "name": "python3"
  },
  "language_info": {
   "codemirror_mode": {
    "name": "ipython",
    "version": 3
   },
   "file_extension": ".py",
   "mimetype": "text/x-python",
   "name": "python",
   "nbconvert_exporter": "python",
   "pygments_lexer": "ipython3",
   "version": "3.11.7"
  }
 },
 "nbformat": 4,
 "nbformat_minor": 4
}
