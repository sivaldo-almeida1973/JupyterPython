{
 "cells": [
  {
   "cell_type": "markdown",
   "metadata": {},
   "source": [
    "# Exemplos de parâmetros\n",
    "\n",
    "\n",
    "- upper() -> não tem parâmetros \n",
    "- sort() -> apenas parâmetros keyword\n",
    "- extend(lista) -> 1 parâmetro obrigatório\n",
    "- nossa função eh_da_categoria(bebida, cod_categoria) -> 2 parâmetros de posição obrigatórios\n"
   ]
  },
  {
   "cell_type": "code",
   "execution_count": 1,
   "metadata": {},
   "outputs": [],
   "source": [
    "def eh_da_categoria(bebida, cod_categoria):\n",
    "    bebida = bebida.upper()\n",
    "    if cod_categoria in bebida:\n",
    "        return True\n",
    "    else:\n",
    "        return False"
   ]
  },
  {
   "cell_type": "code",
   "execution_count": 9,
   "metadata": {},
   "outputs": [
    {
     "ename": "SyntaxError",
     "evalue": "expected ':' (1457564367.py, line 17)",
     "output_type": "error",
     "traceback": [
      "\u001b[1;36m  Cell \u001b[1;32mIn[9], line 17\u001b[1;36m\u001b[0m\n\u001b[1;33m    if eh_da_categoria()\u001b[0m\n\u001b[1;37m                        ^\u001b[0m\n\u001b[1;31mSyntaxError\u001b[0m\u001b[1;31m:\u001b[0m expected ':'\n"
     ]
    }
   ],
   "source": [
    "#texto para upper\n",
    "cod_produto = 'beb12304'\n",
    "print(cod_produto.upper())\n",
    "\n",
    "# lista para sort e extend\n",
    "vendas_ano = [100, 200, 50, 90, 240, 300, 55, 10, 789, 60]\n",
    "vendas_novdez = [500, 1555]\n",
    "\n",
    "vendas_ano.extend(vendas_novdez)\n",
    "print(vendas_ano)\n",
    "\n",
    "vendas_ano.sort(reverse = True)\n",
    "print(vendas_ano)\n",
    "\n",
    "\n",
    "\n",
    "if eh_da_categoria(cod_produto, '')\n"
   ]
  },
  {
   "cell_type": "code",
   "execution_count": null,
   "metadata": {},
   "outputs": [],
   "source": []
  }
 ],
 "metadata": {
  "kernelspec": {
   "display_name": "Python 3 (ipykernel)",
   "language": "python",
   "name": "python3"
  },
  "language_info": {
   "codemirror_mode": {
    "name": "ipython",
    "version": 3
   },
   "file_extension": ".py",
   "mimetype": "text/x-python",
   "name": "python",
   "nbconvert_exporter": "python",
   "pygments_lexer": "ipython3",
   "version": "3.11.7"
  }
 },
 "nbformat": 4,
 "nbformat_minor": 4
}
