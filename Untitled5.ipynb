{
 "cells": [
  {
   "cell_type": "code",
   "execution_count": 4,
   "id": "1e99f2c8-f125-41b7-8aa3-8257d2e04ae2",
   "metadata": {},
   "outputs": [
    {
     "name": "stdout",
     "output_type": "stream",
     "text": [
      "1: Adicionar produto ao estoque\n",
      "2: Vender produto\n",
      "3: Ver total do estoque\n",
      "4: Ver total de vendas\n",
      "5: Sair\n"
     ]
    },
    {
     "name": "stdin",
     "output_type": "stream",
     "text": [
      "Escolha uma opção:  1\n",
      "Digite o nome do produto ou \"sair\" para voltar ao menu:  agua\n",
      "Digite a categoria do produto:  alimentos\n",
      "Digite o preço unitário do produto:  2\n",
      "Digite a quantidade a ser adicionada ao estoque:  40\n"
     ]
    },
    {
     "name": "stdout",
     "output_type": "stream",
     "text": [
      "Solicitar agua à equipe de compras, temos apenas 40 unidades em estoque.\n"
     ]
    },
    {
     "name": "stdin",
     "output_type": "stream",
     "text": [
      "Digite o nome do produto ou \"sair\" para voltar ao menu:  linguiça\n",
      "Digite a categoria do produto:  alimentos\n",
      "Digite o preço unitário do produto:  40\n",
      "Digite a quantidade a ser adicionada ao estoque:  30\n"
     ]
    },
    {
     "name": "stdout",
     "output_type": "stream",
     "text": [
      "Solicitar linguiça à equipe de compras, temos apenas 30 unidades em estoque.\n"
     ]
    },
    {
     "name": "stdin",
     "output_type": "stream",
     "text": [
      "Digite o nome do produto ou \"sair\" para voltar ao menu:  danone\n",
      "Digite a categoria do produto:  alimentos\n",
      "Digite o preço unitário do produto:  15\n",
      "Digite a quantidade a ser adicionada ao estoque:  20\n"
     ]
    },
    {
     "name": "stdout",
     "output_type": "stream",
     "text": [
      "Solicitar danone à equipe de compras, temos apenas 20 unidades em estoque.\n"
     ]
    },
    {
     "name": "stdin",
     "output_type": "stream",
     "text": [
      "Digite o nome do produto ou \"sair\" para voltar ao menu:  sair\n"
     ]
    },
    {
     "name": "stdout",
     "output_type": "stream",
     "text": [
      "1: Adicionar produto ao estoque\n",
      "2: Vender produto\n",
      "3: Ver total do estoque\n",
      "4: Ver total de vendas\n",
      "5: Sair\n"
     ]
    },
    {
     "name": "stdin",
     "output_type": "stream",
     "text": [
      "Escolha uma opção:  2\n",
      "Digite o nome do produto ou \"sair\" para voltar ao menu:  linguiça\n",
      "Digite a quantidade a ser vendida:  6\n"
     ]
    },
    {
     "name": "stdout",
     "output_type": "stream",
     "text": [
      "Vendido 6 de linguiça.\n"
     ]
    },
    {
     "name": "stdin",
     "output_type": "stream",
     "text": [
      "Digite o nome do produto ou \"sair\" para voltar ao menu:  agua\n",
      "Digite a quantidade a ser vendida:  3\n"
     ]
    },
    {
     "name": "stdout",
     "output_type": "stream",
     "text": [
      "Vendido 3 de agua.\n"
     ]
    },
    {
     "name": "stdin",
     "output_type": "stream",
     "text": [
      "Digite o nome do produto ou \"sair\" para voltar ao menu:  danone\n",
      "Digite a quantidade a ser vendida:  2\n"
     ]
    },
    {
     "name": "stdout",
     "output_type": "stream",
     "text": [
      "Vendido 2 de danone.\n"
     ]
    },
    {
     "name": "stdin",
     "output_type": "stream",
     "text": [
      "Digite o nome do produto ou \"sair\" para voltar ao menu:  sair\n"
     ]
    },
    {
     "name": "stdout",
     "output_type": "stream",
     "text": [
      "1: Adicionar produto ao estoque\n",
      "2: Vender produto\n",
      "3: Ver total do estoque\n",
      "4: Ver total de vendas\n",
      "5: Sair\n"
     ]
    },
    {
     "name": "stdin",
     "output_type": "stream",
     "text": [
      "Escolha uma opção:  4\n"
     ]
    },
    {
     "ename": "TypeError",
     "evalue": "'float' object is not callable",
     "output_type": "error",
     "traceback": [
      "\u001b[1;31m---------------------------------------------------------------------------\u001b[0m",
      "\u001b[1;31mTypeError\u001b[0m                                 Traceback (most recent call last)",
      "Cell \u001b[1;32mIn[4], line 81\u001b[0m\n\u001b[0;32m     78\u001b[0m                 \u001b[38;5;28mprint\u001b[39m(\u001b[38;5;124m'\u001b[39m\u001b[38;5;124mOpção inválida. Tente novamente.\u001b[39m\u001b[38;5;124m'\u001b[39m)\n\u001b[0;32m     80\u001b[0m sistema \u001b[38;5;241m=\u001b[39m SistemaVendas()\n\u001b[1;32m---> 81\u001b[0m \u001b[43msistema\u001b[49m\u001b[38;5;241;43m.\u001b[39;49m\u001b[43mexecutar\u001b[49m\u001b[43m(\u001b[49m\u001b[43m)\u001b[49m\n",
      "Cell \u001b[1;32mIn[4], line 74\u001b[0m, in \u001b[0;36mSistemaVendas.executar\u001b[1;34m(self)\u001b[0m\n\u001b[0;32m     72\u001b[0m     \u001b[38;5;28mself\u001b[39m\u001b[38;5;241m.\u001b[39mtotal_estoque()\n\u001b[0;32m     73\u001b[0m \u001b[38;5;28;01melif\u001b[39;00m opcao \u001b[38;5;241m==\u001b[39m \u001b[38;5;124m'\u001b[39m\u001b[38;5;124m4\u001b[39m\u001b[38;5;124m'\u001b[39m:\n\u001b[1;32m---> 74\u001b[0m     \u001b[38;5;28;43mself\u001b[39;49m\u001b[38;5;241;43m.\u001b[39;49m\u001b[43mtotal_vendas\u001b[49m\u001b[43m(\u001b[49m\u001b[43m)\u001b[49m\n\u001b[0;32m     75\u001b[0m \u001b[38;5;28;01melif\u001b[39;00m opcao \u001b[38;5;241m==\u001b[39m \u001b[38;5;124m'\u001b[39m\u001b[38;5;124m5\u001b[39m\u001b[38;5;124m'\u001b[39m:\n\u001b[0;32m     76\u001b[0m     \u001b[38;5;28;01mbreak\u001b[39;00m\n",
      "\u001b[1;31mTypeError\u001b[0m: 'float' object is not callable"
     ]
    }
   ],
   "source": [
    "class SistemaVendas:\n",
    "    def __init__(self):\n",
    "        self.estoque_minimo = {\n",
    "            'alimentos': 50,\n",
    "            'bebidas': 75,\n",
    "            'limpeza': 30\n",
    "        }\n",
    "        self.estoque_atual = {}\n",
    "        self.categorias_produto = {}\n",
    "        self.precos_unitarios = {}\n",
    "        self.vendas = {}\n",
    "        self.total_vendas = 0\n",
    "\n",
    "    def adicionar_produto(self):\n",
    "        while True:\n",
    "            produto = input('Digite o nome do produto ou \"sair\" para voltar ao menu: ')\n",
    "            if produto.lower() == 'sair':\n",
    "                break\n",
    "            categoria = input('Digite a categoria do produto: ')\n",
    "            preco_unitario = float(input('Digite o preço unitário do produto: '))\n",
    "            quantidade = int(input('Digite a quantidade a ser adicionada ao estoque: '))\n",
    "            if produto in self.categorias_produto:\n",
    "                print(f'O produto {produto} já está cadastrado na categoria {self.categorias_produto[produto]}. Adicionando à categoria existente.')\n",
    "                categoria = self.categorias_produto[produto]\n",
    "            self.estoque_atual[produto] = self.estoque_atual.get(produto, 0) + quantidade\n",
    "            self.categorias_produto[produto] = categoria\n",
    "            self.precos_unitarios[produto] = preco_unitario\n",
    "            if self.estoque_atual[produto] < self.estoque_minimo.get(categoria, 0):\n",
    "                print(f'Solicitar {produto} à equipe de compras, temos apenas {self.estoque_atual[produto]} unidades em estoque.')\n",
    "\n",
    "    def vender_produto(self):\n",
    "        while True:\n",
    "            produto = input('Digite o nome do produto ou \"sair\" para voltar ao menu: ')\n",
    "            if produto.lower() == 'sair':\n",
    "                break\n",
    "            quantidade = int(input('Digite a quantidade a ser vendida: '))\n",
    "            if produto in self.estoque_atual and self.estoque_atual[produto] >= quantidade:\n",
    "                self.estoque_atual[produto] -= quantidade\n",
    "                self.vendas[produto] = self.vendas.get(produto, 0) + quantidade\n",
    "                self.total_vendas += quantidade * self.precos_unitarios[produto]\n",
    "                print(f'Vendido {quantidade} de {produto}.')\n",
    "            else:\n",
    "                print(f'Produto {produto} não disponível em quantidade suficiente para venda.')\n",
    "\n",
    "    def total_estoque(self):\n",
    "        print('| Produto | Quantidade | Categoria | Preço Unitário | Valor Total |')\n",
    "        print('|---------|------------|-----------|----------------|-------------|')\n",
    "        for produto, quantidade in self.estoque_atual.items():\n",
    "            valor_total = quantidade * self.precos_unitarios[produto]\n",
    "            print(f'| {produto} | {quantidade} | {self.categorias_produto[produto]} | {self.precos_unitarios[produto]} | {valor_total} |')\n",
    "\n",
    "    def total_vendas(self):\n",
    "        print('| Produto | Quantidade Vendida |')\n",
    "        print('|---------|--------------------|')\n",
    "        for produto, quantidade in self.vendas.items():\n",
    "            print(f'| {produto} | {quantidade} |')\n",
    "        print(f'Total de vendas: {self.total_vendas}')\n",
    "\n",
    "    def executar(self):\n",
    "        while True:\n",
    "            print('1: Adicionar produto ao estoque')\n",
    "            print('2: Vender produto')\n",
    "            print('3: Ver total do estoque')\n",
    "            print('4: Ver total de vendas')\n",
    "            print('5: Sair')\n",
    "            opcao = input('Escolha uma opção: ')\n",
    "            if opcao == '1':\n",
    "                self.adicionar_produto()\n",
    "            elif opcao == '2':\n",
    "                self.vender_produto()\n",
    "            elif opcao == '3':\n",
    "                self.total_estoque()\n",
    "            elif opcao == '4':\n",
    "                self.total_vendas()\n",
    "            elif opcao == '5':\n",
    "                break\n",
    "            else:\n",
    "                print('Opção inválida. Tente novamente.')\n",
    "\n",
    "sistema = SistemaVendas()\n",
    "sistema.executar()"
   ]
  },
  {
   "cell_type": "code",
   "execution_count": 5,
   "id": "44d8cb7f-b6ef-4136-a56c-0ccaa1d761ce",
   "metadata": {},
   "outputs": [
    {
     "name": "stdout",
     "output_type": "stream",
     "text": [
      "1: Adicionar produto ao estoque\n",
      "2: Vender produto\n",
      "3: Ver total do estoque\n",
      "4: Ver total de vendas\n",
      "5: Sair\n"
     ]
    },
    {
     "name": "stdin",
     "output_type": "stream",
     "text": [
      "Escolha uma opção:  1\n",
      "Digite o nome do produto ou \"sair\" para voltar ao menu:  manga\n",
      "Digite a categoria do produto:  alim\n",
      "Digite o preço unitário do produto:  3\n",
      "Digite a quantidade a ser adicionada ao estoque:  50\n",
      "Digite o nome do produto ou \"sair\" para voltar ao menu:  arroz\n",
      "Digite a categoria do produto:  alim\n",
      "Digite o preço unitário do produto:  25\n",
      "Digite a quantidade a ser adicionada ao estoque:  60\n",
      "Digite o nome do produto ou \"sair\" para voltar ao menu:  cerveja\n",
      "Digite a categoria do produto:  bebidas\n",
      "Digite o preço unitário do produto:  6\n",
      "Digite a quantidade a ser adicionada ao estoque:  100\n",
      "Digite o nome do produto ou \"sair\" para voltar ao menu:  prego\n",
      "Digite a categoria do produto:  construc\n",
      "Digite o preço unitário do produto:  15\n",
      "Digite a quantidade a ser adicionada ao estoque:  80\n",
      "Digite o nome do produto ou \"sair\" para voltar ao menu:  sair\n"
     ]
    },
    {
     "name": "stdout",
     "output_type": "stream",
     "text": [
      "1: Adicionar produto ao estoque\n",
      "2: Vender produto\n",
      "3: Ver total do estoque\n",
      "4: Ver total de vendas\n",
      "5: Sair\n"
     ]
    },
    {
     "name": "stdin",
     "output_type": "stream",
     "text": [
      "Escolha uma opção:  3\n"
     ]
    },
    {
     "name": "stdout",
     "output_type": "stream",
     "text": [
      "| Produto | Quantidade | Categoria | Preço Unitário | Valor Total |\n",
      "|---------|------------|-----------|----------------|-------------|\n",
      "| manga | 50 | alim | 3.0 | 150.0 |\n",
      "| arroz | 60 | alim | 25.0 | 1500.0 |\n",
      "| cerveja | 100 | bebidas | 6.0 | 600.0 |\n",
      "| prego | 80 | construc | 15.0 | 1200.0 |\n",
      "1: Adicionar produto ao estoque\n",
      "2: Vender produto\n",
      "3: Ver total do estoque\n",
      "4: Ver total de vendas\n",
      "5: Sair\n"
     ]
    },
    {
     "name": "stdin",
     "output_type": "stream",
     "text": [
      "Escolha uma opção:  2\n",
      "Digite o nome do produto ou \"sair\" para voltar ao menu:  arroz\n",
      "Digite a quantidade a ser vendida:  10\n"
     ]
    },
    {
     "name": "stdout",
     "output_type": "stream",
     "text": [
      "Vendido 10 de arroz.\n"
     ]
    },
    {
     "name": "stdin",
     "output_type": "stream",
     "text": [
      "Digite o nome do produto ou \"sair\" para voltar ao menu:  prego\n",
      "Digite a quantidade a ser vendida:  5\n"
     ]
    },
    {
     "name": "stdout",
     "output_type": "stream",
     "text": [
      "Vendido 5 de prego.\n"
     ]
    },
    {
     "name": "stdin",
     "output_type": "stream",
     "text": [
      "Digite o nome do produto ou \"sair\" para voltar ao menu:  cerveja\n",
      "Digite a quantidade a ser vendida:  10\n"
     ]
    },
    {
     "name": "stdout",
     "output_type": "stream",
     "text": [
      "Vendido 10 de cerveja.\n"
     ]
    },
    {
     "name": "stdin",
     "output_type": "stream",
     "text": [
      "Digite o nome do produto ou \"sair\" para voltar ao menu:  sair\n"
     ]
    },
    {
     "name": "stdout",
     "output_type": "stream",
     "text": [
      "1: Adicionar produto ao estoque\n",
      "2: Vender produto\n",
      "3: Ver total do estoque\n",
      "4: Ver total de vendas\n",
      "5: Sair\n"
     ]
    },
    {
     "name": "stdin",
     "output_type": "stream",
     "text": [
      "Escolha uma opção:  4\n"
     ]
    },
    {
     "name": "stdout",
     "output_type": "stream",
     "text": [
      "| Produto | Quantidade Vendida |\n",
      "|---------|--------------------|\n",
      "| arroz | 10 |\n",
      "| prego | 5 |\n",
      "| cerveja | 10 |\n",
      "Total de vendas: 25\n",
      "1: Adicionar produto ao estoque\n",
      "2: Vender produto\n",
      "3: Ver total do estoque\n",
      "4: Ver total de vendas\n",
      "5: Sair\n"
     ]
    },
    {
     "name": "stdin",
     "output_type": "stream",
     "text": [
      "Escolha uma opção:  sair\n"
     ]
    },
    {
     "name": "stdout",
     "output_type": "stream",
     "text": [
      "Opção inválida. Tente novamente.\n",
      "1: Adicionar produto ao estoque\n",
      "2: Vender produto\n",
      "3: Ver total do estoque\n",
      "4: Ver total de vendas\n",
      "5: Sair\n"
     ]
    },
    {
     "name": "stdin",
     "output_type": "stream",
     "text": [
      "Escolha uma opção:  sair\n"
     ]
    },
    {
     "name": "stdout",
     "output_type": "stream",
     "text": [
      "Opção inválida. Tente novamente.\n",
      "1: Adicionar produto ao estoque\n",
      "2: Vender produto\n",
      "3: Ver total do estoque\n",
      "4: Ver total de vendas\n",
      "5: Sair\n"
     ]
    },
    {
     "name": "stdin",
     "output_type": "stream",
     "text": [
      "Escolha uma opção:  5\n"
     ]
    }
   ],
   "source": [
    "class SistemaVendas:\n",
    "    def __init__(self):\n",
    "        self.estoque_minimo = {\n",
    "            'alimentos': 50,\n",
    "            'bebidas': 75,\n",
    "            'limpeza': 30\n",
    "        }\n",
    "        self.estoque_atual = {}\n",
    "        self.categorias_produto = {}\n",
    "        self.precos_unitarios = {}\n",
    "        self.vendas = {}\n",
    "\n",
    "    def adicionar_produto(self):\n",
    "        while True:\n",
    "            produto = input('Digite o nome do produto ou \"sair\" para voltar ao menu: ')\n",
    "            if produto.lower() == 'sair':\n",
    "                break\n",
    "            categoria = input('Digite a categoria do produto: ')\n",
    "            preco_unitario = float(input('Digite o preço unitário do produto: '))\n",
    "            quantidade = int(input('Digite a quantidade a ser adicionada ao estoque: '))\n",
    "            if produto in self.categorias_produto:\n",
    "                print(f'O produto {produto} já está cadastrado na categoria {self.categorias_produto[produto]}. Adicionando à categoria existente.')\n",
    "                categoria = self.categorias_produto[produto]\n",
    "            self.estoque_atual[produto] = self.estoque_atual.get(produto, 0) + quantidade\n",
    "            self.categorias_produto[produto] = categoria\n",
    "            self.precos_unitarios[produto] = preco_unitario\n",
    "            if self.estoque_atual[produto] < self.estoque_minimo.get(categoria, 0):\n",
    "                print(f'Solicitar {produto} à equipe de compras, temos apenas {self.estoque_atual[produto]} unidades em estoque.')\n",
    "\n",
    "    def vender_produto(self):\n",
    "        while True:\n",
    "            produto = input('Digite o nome do produto ou \"sair\" para voltar ao menu: ')\n",
    "            if produto.lower() == 'sair':\n",
    "                break\n",
    "            quantidade = int(input('Digite a quantidade a ser vendida: '))\n",
    "            if produto in self.estoque_atual and self.estoque_atual[produto] >= quantidade:\n",
    "                self.estoque_atual[produto] -= quantidade\n",
    "                self.vendas[produto] = self.vendas.get(produto, 0) + quantidade\n",
    "                print(f'Vendido {quantidade} de {produto}.')\n",
    "            else:\n",
    "                print(f'Produto {produto} não disponível em quantidade suficiente para venda.')\n",
    "\n",
    "    def total_estoque(self):\n",
    "        print('| Produto | Quantidade | Categoria | Preço Unitário | Valor Total |')\n",
    "        print('|---------|------------|-----------|----------------|-------------|')\n",
    "        for produto, quantidade in self.estoque_atual.items():\n",
    "            valor_total = quantidade * self.precos_unitarios[produto]\n",
    "            print(f'| {produto} | {quantidade} | {self.categorias_produto[produto]} | {self.precos_unitarios[produto]} | {valor_total} |')\n",
    "\n",
    "    def total_vendas(self):\n",
    "        print('| Produto | Quantidade Vendida |')\n",
    "        print('|---------|--------------------|')\n",
    "        for produto, quantidade in self.vendas.items():\n",
    "            print(f'| {produto} | {quantidade} |')\n",
    "        total_vendas = sum(self.vendas.values())\n",
    "        print(f'Total de vendas: {total_vendas}')\n",
    "\n",
    "    def executar(self):\n",
    "        while True:\n",
    "            print('1: Adicionar produto ao estoque')\n",
    "            print('2: Vender produto')\n",
    "            print('3: Ver total do estoque')\n",
    "            print('4: Ver total de vendas')\n",
    "            print('5: Sair')\n",
    "            opcao = input('Escolha uma opção: ')\n",
    "            if opcao == '1':\n",
    "                self.adicionar_produto()\n",
    "            elif opcao == '2':\n",
    "                self.vender_produto()\n",
    "            elif opcao == '3':\n",
    "                self.total_estoque()\n",
    "            elif opcao == '4':\n",
    "                self.total_vendas()\n",
    "            elif opcao == '5':\n",
    "                break\n",
    "            else:\n",
    "                print('Opção inválida. Tente novamente.')\n",
    "\n",
    "sistema = SistemaVendas()\n",
    "sistema.executar()"
   ]
  },
  {
   "cell_type": "code",
   "execution_count": null,
   "id": "175dbad9-dacf-4d4f-8786-b46199fe6d84",
   "metadata": {},
   "outputs": [],
   "source": []
  },
  {
   "cell_type": "code",
   "execution_count": null,
   "id": "18cc12ce-8e57-4fc7-ba5f-97e92df250e4",
   "metadata": {},
   "outputs": [],
   "source": []
  }
 ],
 "metadata": {
  "kernelspec": {
   "display_name": "Python 3 (ipykernel)",
   "language": "python",
   "name": "python3"
  },
  "language_info": {
   "codemirror_mode": {
    "name": "ipython",
    "version": 3
   },
   "file_extension": ".py",
   "mimetype": "text/x-python",
   "name": "python",
   "nbconvert_exporter": "python",
   "pygments_lexer": "ipython3",
   "version": "3.11.7"
  }
 },
 "nbformat": 4,
 "nbformat_minor": 5
}
