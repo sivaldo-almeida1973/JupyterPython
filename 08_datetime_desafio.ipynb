{
 "cells": [
  {
   "cell_type": "markdown",
   "metadata": {},
   "source": [
    "## Calculando a idade\n",
    "\n",
    "Um usuário fornece sua data de nascimento no formato \"dd/mm/aaaa\". Crie um script Python que calcula a idade do usuário.\n"
   ]
  },
  {
   "cell_type": "code",
   "execution_count": null,
   "metadata": {},
   "outputs": [],
   "source": [
    "from datetime import datetime\n",
    "\n",
    "data_nascimento_usuario = input('Informe sua data de nascimento (dd/mm/aaaa): ')"
   ]
  },
  {
   "cell_type": "code",
   "execution_count": 35,
   "metadata": {},
   "outputs": [
    {
     "name": "stdout",
     "output_type": "stream",
     "text": [
      "02/07/2000\n",
      "<class 'str'>\n"
     ]
    }
   ],
   "source": [
    "print(data_nascimento_usuario)\n",
    "print(type(data_nascimento_usuario))"
   ]
  },
  {
   "cell_type": "code",
   "execution_count": 36,
   "metadata": {},
   "outputs": [
    {
     "name": "stdout",
     "output_type": "stream",
     "text": [
      "2000-07-02 00:00:00\n"
     ]
    }
   ],
   "source": [
    "data_nascimento_usuario = datetime.strptime(data_nascimento_usuario, \"%d/%m/%Y\")\n",
    "print(data_nascimento_usuario)"
   ]
  },
  {
   "cell_type": "code",
   "execution_count": 37,
   "metadata": {},
   "outputs": [
    {
     "name": "stdout",
     "output_type": "stream",
     "text": [
      "2024-06-06 20:28:41.020386\n"
     ]
    }
   ],
   "source": [
    "data_atual = datetime.now()\n",
    "print(data_atual)"
   ]
  },
  {
   "cell_type": "code",
   "execution_count": 39,
   "metadata": {},
   "outputs": [
    {
     "name": "stdout",
     "output_type": "stream",
     "text": [
      "24\n"
     ]
    }
   ],
   "source": [
    "idade = data_atual.year - data_nascimento_usuario.year\n",
    "print(idade)"
   ]
  },
  {
   "cell_type": "code",
   "execution_count": 40,
   "metadata": {},
   "outputs": [],
   "source": [
    "#referente a data atual\n",
    "mes_atual = data_atual.month\n",
    "dia_atual = data_atual.day\n",
    "\n",
    "#referente a data de nascimento\n",
    "mes_nascimento =data_nascimento_usuario.month\n",
    "dia_nascimento =data_nascimento_usuario.day\n"
   ]
  },
  {
   "cell_type": "code",
   "execution_count": 41,
   "metadata": {},
   "outputs": [],
   "source": [
    "if mes_nascimento > mes_atual:\n",
    "    idade -= 1\n",
    "elif mes_nascimento == mes_atual and dia_nascimento > dia_atual:\n",
    "    idade -= 1\n",
    "    "
   ]
  },
  {
   "cell_type": "code",
   "execution_count": 42,
   "metadata": {},
   "outputs": [
    {
     "name": "stdout",
     "output_type": "stream",
     "text": [
      "23\n"
     ]
    }
   ],
   "source": [
    "print(idade)"
   ]
  },
  {
   "cell_type": "code",
   "execution_count": null,
   "metadata": {},
   "outputs": [],
   "source": []
  }
 ],
 "metadata": {
  "kernelspec": {
   "display_name": "Python 3 (ipykernel)",
   "language": "python",
   "name": "python3"
  },
  "language_info": {
   "codemirror_mode": {
    "name": "ipython",
    "version": 3
   },
   "file_extension": ".py",
   "mimetype": "text/x-python",
   "name": "python",
   "nbconvert_exporter": "python",
   "pygments_lexer": "ipython3",
   "version": "3.11.7"
  }
 },
 "nbformat": 4,
 "nbformat_minor": 4
}
