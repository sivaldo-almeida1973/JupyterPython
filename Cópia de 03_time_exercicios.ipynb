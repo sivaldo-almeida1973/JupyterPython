{
 "cells": [
  {
   "cell_type": "markdown",
   "metadata": {},
   "source": [
    "## Contagem regressiva\n",
    "\n",
    "Um evento especial está programado para começar em 10 segundos. Crie uma contagem regressiva que começa em 10 e vai até 0, com uma pausa de um segundo entre cada número.\n"
   ]
  },
  {
   "cell_type": "markdown",
   "metadata": {},
   "source": [
    " "
   ]
  },
  {
   "cell_type": "code",
   "execution_count": 7,
   "metadata": {},
   "outputs": [
    {
     "name": "stdout",
     "output_type": "stream",
     "text": [
      "10\n",
      "9\n",
      "8\n",
      "7\n",
      "6\n",
      "5\n",
      "4\n",
      "3\n",
      "2\n",
      "1\n",
      "Evento começou!\n"
     ]
    }
   ],
   "source": [
    "import time\n",
    "\n",
    "for contador in range(10,0,-1):\n",
    "    print(contador)\n",
    "    time.sleep(1)\n",
    "    \n",
    "print('Evento começou!')"
   ]
  },
  {
   "cell_type": "code",
   "execution_count": 10,
   "metadata": {},
   "outputs": [
    {
     "name": "stdout",
     "output_type": "stream",
     "text": [
      "vai \n",
      "pular linha\n"
     ]
    }
   ],
   "source": [
    "print('vai \\npular linha')"
   ]
  },
  {
   "cell_type": "code",
   "execution_count": 11,
   "metadata": {},
   "outputs": [
    {
     "name": "stdout",
     "output_type": "stream",
     "text": [
      "Olha o \t tab\n"
     ]
    }
   ],
   "source": [
    "#gera espaços\n",
    "print('Olha o \\t tab')"
   ]
  },
  {
   "cell_type": "code",
   "execution_count": 18,
   "metadata": {},
   "outputs": [
    {
     "name": "stdout",
     "output_type": "stream",
     "text": [
      "Evento começou!\n"
     ]
    }
   ],
   "source": [
    "import time\n",
    "\n",
    "for contador in range(10,0,-1):\n",
    "    print(contador , end=\" \\r\")#so aparece um numero por vez\n",
    "    time.sleep(1)\n",
    "print('Evento começou!')"
   ]
  },
  {
   "cell_type": "markdown",
   "metadata": {},
   "source": [
    "## Formatação de tempo\n",
    "\n",
    "Uma empresa quer exibir a data e a hora atual em seu site no formato \"Dia da semana, dia do mês de mês de ano, horas:minutos\". Crie um script Python que mostra a data e a hora atuais neste formato.\n",
    "\n"
   ]
  },
  {
   "cell_type": "code",
   "execution_count": 20,
   "metadata": {},
   "outputs": [
    {
     "name": "stdout",
     "output_type": "stream",
     "text": [
      "time.struct_time(tm_year=2024, tm_mon=4, tm_mday=5, tm_hour=12, tm_min=11, tm_sec=33, tm_wday=4, tm_yday=96, tm_isdst=0)\n"
     ]
    }
   ],
   "source": [
    "tempo_struct = time.localtime()\n",
    "print(tempo_struct)"
   ]
  },
  {
   "cell_type": "code",
   "execution_count": 31,
   "metadata": {},
   "outputs": [
    {
     "name": "stdout",
     "output_type": "stream",
     "text": [
      "Friday,05, de April 2024, 12:11\n"
     ]
    }
   ],
   "source": [
    "tempo_formatado = time.strftime(\"%A,%d, de %B %Y, %H:%M\",tempo_struct)\n",
    "print(tempo_formatado)\n"
   ]
  },
  {
   "cell_type": "code",
   "execution_count": 35,
   "metadata": {},
   "outputs": [
    {
     "name": "stdout",
     "output_type": "stream",
     "text": [
      "sexta-feira,05, de abril de 2024, 12:20\n"
     ]
    }
   ],
   "source": [
    "#converter o codigo acima para portugues\n",
    "import locale\n",
    "\n",
    "locale.setlocale(locale.LC_TIME, \"pt_BR.UTF-8\")\n",
    "tempo_struct = time.localtime()\n",
    "tempo_formatado = time.strftime(\"%A,%d, de %B de %Y, %H:%M\",tempo_struct)\n",
    "print(tempo_formatado)\n"
   ]
  }
 ],
 "metadata": {
  "kernelspec": {
   "display_name": "Python 3 (ipykernel)",
   "language": "python",
   "name": "python3"
  },
  "language_info": {
   "codemirror_mode": {
    "name": "ipython",
    "version": 3
   },
   "file_extension": ".py",
   "mimetype": "text/x-python",
   "name": "python",
   "nbconvert_exporter": "python",
   "pygments_lexer": "ipython3",
   "version": "3.11.7"
  }
 },
 "nbformat": 4,
 "nbformat_minor": 4
}
