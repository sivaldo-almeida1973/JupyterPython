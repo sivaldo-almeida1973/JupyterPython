{
 "cells": [
  {
   "cell_type": "markdown",
   "metadata": {},
   "source": [
    "# Módulo `time` em Python\n",
    "\n",
    "O módulo `time` em Python fornece uma variedade de funções para trabalhar com tempo. \n",
    "\n",
    "## time.time()\n",
    "\n",
    "A função `time()` retorna o tempo atual em segundos desde a Epoch (1º de janeiro de 1970).  "
   ]
  },
  {
   "cell_type": "code",
   "execution_count": 1,
   "metadata": {},
   "outputs": [
    {
     "name": "stdout",
     "output_type": "stream",
     "text": [
      "Tempo atual: 1712323222.1056652 segundos desde a Epoch\n"
     ]
    }
   ],
   "source": [
    "import time\n",
    "\n",
    "tempo_atual_segundos = time.time()\n",
    "\n",
    "print(f\"Tempo atual: {tempo_atual_segundos} segundos desde a Epoch\")"
   ]
  },
  {
   "cell_type": "code",
   "execution_count": 2,
   "metadata": {},
   "outputs": [
    {
     "name": "stdout",
     "output_type": "stream",
     "text": [
      "Tempo atual: 1712323292440887000 nanosegundos desde a Epoch\n"
     ]
    }
   ],
   "source": [
    "tempo_atual_nanosegundos = time.time_ns()\n",
    "\n",
    "print(f\"Tempo atual: {tempo_atual_nanosegundos} nanosegundos desde a Epoch\") "
   ]
  },
  {
   "cell_type": "code",
   "execution_count": 6,
   "metadata": {},
   "outputs": [
    {
     "name": "stdout",
     "output_type": "stream",
     "text": [
      "Tempo decorrido: 4.709996461868286 segundos\n"
     ]
    }
   ],
   "source": [
    "inicio = time.time()\n",
    "\n",
    "for i in range(100_000_000): # 10000000\n",
    "    pass\n",
    "\n",
    "fim = time.time()\n",
    "\n",
    "print(f\"Tempo decorrido: {fim - inicio} segundos\")"
   ]
  },
  {
   "cell_type": "markdown",
   "metadata": {
    "tags": []
   },
   "source": [
    "## time.sleep()\n",
    "\n",
    "A função `sleep()` faz o programa esperar pelo número de segundos especificado.\n",
    "\n"
   ]
  },
  {
   "cell_type": "code",
   "execution_count": 7,
   "metadata": {},
   "outputs": [
    {
     "name": "stdout",
     "output_type": "stream",
     "text": [
      "Iniciando a pausa\n",
      "Pausa terminada\n"
     ]
    }
   ],
   "source": [
    "print(\"Iniciando a pausa\")\n",
    "time.sleep(5)  # Pausa o programa por 5 segundos\n",
    "print(\"Pausa terminada\")"
   ]
  },
  {
   "cell_type": "markdown",
   "metadata": {
    "tags": []
   },
   "source": [
    "## time.ctime()\n",
    "\n",
    "A função `ctime()` converte um tempo expresso em segundos desde a epoch em uma string representando o tempo local.\n",
    "\n"
   ]
  },
  {
   "cell_type": "code",
   "execution_count": 8,
   "metadata": {},
   "outputs": [
    {
     "name": "stdout",
     "output_type": "stream",
     "text": [
      "Tempo local: Fri Apr  5 10:29:06 2024\n"
     ]
    }
   ],
   "source": [
    "tempo_em_segundos = time.time()\n",
    "tempo_local = time.ctime(tempo_em_segundos)\n",
    "print(f\"Tempo local: {tempo_local}\")"
   ]
  },
  {
   "cell_type": "markdown",
   "metadata": {
    "tags": []
   },
   "source": [
    "## time.time() vs time.localtime()\n",
    "\n",
    "A função `time()` retorna o tempo atual em segundos desde a epoch. A função `localtime()` converte um tempo expresso em segundos desde a epoch em um objeto `struct_time`. Este objeto contém informações sobre o tempo local, como ano, mês, dia, hora, minuto, segundo, etc. A função `localtime()` usa o fuso horário local.\n"
   ]
  },
  {
   "cell_type": "code",
   "execution_count": 9,
   "metadata": {},
   "outputs": [
    {
     "name": "stdout",
     "output_type": "stream",
     "text": [
      "Tempo local: time.struct_time(tm_year=2024, tm_mon=4, tm_mday=5, tm_hour=10, tm_min=31, tm_sec=14, tm_wday=4, tm_yday=96, tm_isdst=0)\n"
     ]
    }
   ],
   "source": [
    "tempo_em_segundos = time.time()\n",
    "tempo_local = time.localtime(tempo_em_segundos)\n",
    "\n",
    "print(f\"Tempo local: {tempo_local}\")"
   ]
  },
  {
   "cell_type": "code",
   "execution_count": 10,
   "metadata": {},
   "outputs": [
    {
     "name": "stdout",
     "output_type": "stream",
     "text": [
      "2024\n"
     ]
    }
   ],
   "source": [
    "print(tempo_local.tm_year)"
   ]
  },
  {
   "cell_type": "code",
   "execution_count": 11,
   "metadata": {},
   "outputs": [
    {
     "name": "stdout",
     "output_type": "stream",
     "text": [
      "10\n"
     ]
    }
   ],
   "source": [
    "print(tempo_local.tm_hour)"
   ]
  },
  {
   "cell_type": "code",
   "execution_count": 12,
   "metadata": {},
   "outputs": [
    {
     "name": "stdout",
     "output_type": "stream",
     "text": [
      "5\n"
     ]
    }
   ],
   "source": [
    "print(tempo_local.tm_mday)"
   ]
  },
  {
   "cell_type": "code",
   "execution_count": 13,
   "metadata": {},
   "outputs": [
    {
     "name": "stdout",
     "output_type": "stream",
     "text": [
      "4\n"
     ]
    }
   ],
   "source": [
    "# Dia da semana (0-6, 0 é segunda-feira, 6 é domingo). Documentação: https://docs.python.org/3/library/time.html#time.struct_time\n",
    "print(tempo_local.tm_wday)"
   ]
  },
  {
   "cell_type": "code",
   "execution_count": 14,
   "metadata": {},
   "outputs": [
    {
     "name": "stdout",
     "output_type": "stream",
     "text": [
      "96\n"
     ]
    }
   ],
   "source": [
    "# Dia do ano (1-366).\n",
    "print(tempo_local.tm_yday)"
   ]
  },
  {
   "cell_type": "code",
   "execution_count": 15,
   "metadata": {},
   "outputs": [
    {
     "name": "stdout",
     "output_type": "stream",
     "text": [
      "Hora oficial do Brasil\n"
     ]
    }
   ],
   "source": [
    "print(tempo_local.tm_zone)"
   ]
  },
  {
   "cell_type": "code",
   "execution_count": 17,
   "metadata": {},
   "outputs": [
    {
     "name": "stdout",
     "output_type": "stream",
     "text": [
      "1712324225.170155\n",
      "Fri Apr  5 10:37:05 2024\n",
      "time.struct_time(tm_year=2024, tm_mon=4, tm_mday=5, tm_hour=10, tm_min=37, tm_sec=5, tm_wday=4, tm_yday=96, tm_isdst=0)\n"
     ]
    }
   ],
   "source": [
    "print(time.time())\n",
    "print(time.ctime(time.time()))\n",
    "print(time.localtime())\n"
   ]
  }
 ],
 "metadata": {
  "kernelspec": {
   "display_name": "Python 3 (ipykernel)",
   "language": "python",
   "name": "python3"
  },
  "language_info": {
   "codemirror_mode": {
    "name": "ipython",
    "version": 3
   },
   "file_extension": ".py",
   "mimetype": "text/x-python",
   "name": "python",
   "nbconvert_exporter": "python",
   "pygments_lexer": "ipython3",
   "version": "3.11.7"
  },
  "toc-showtags": false
 },
 "nbformat": 4,
 "nbformat_minor": 4
}
