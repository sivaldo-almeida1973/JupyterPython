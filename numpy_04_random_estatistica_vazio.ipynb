{
 "cells": [
  {
   "cell_type": "markdown",
   "metadata": {
    "id": "XI0Q33rjqx4K"
   },
   "source": [
    "# Guia de Introdução ao NumPy\n",
    "\n",
    "NumPy, que significa Numerical Python, é uma biblioteca fundamental para a computação científica em Python. Ela fornece suporte para arrays e matrizes, além de funções matemáticas para operações com esses objetos. É, também, a base da biblioteca Pandas.\n",
    "\n"
   ]
  },
  {
   "cell_type": "markdown",
   "metadata": {
    "id": "ALnMiKvUqx4N"
   },
   "source": [
    "## Números aleatórios e estatística básica  "
   ]
  },
  {
   "cell_type": "code",
   "execution_count": 1,
   "metadata": {
    "id": "k6SV2XzBq4Aw"
   },
   "outputs": [
    {
     "name": "stdout",
     "output_type": "stream",
     "text": [
      "Generator(PCG64)\n"
     ]
    }
   ],
   "source": [
    "import numpy as np\n",
    "\n",
    "#crie um gerador de numeros aleatorios.\n",
    "rng = np.random.default_rng()\n",
    "print(rng)"
   ]
  },
  {
   "cell_type": "code",
   "execution_count": 31,
   "metadata": {},
   "outputs": [
    {
     "name": "stdout",
     "output_type": "stream",
     "text": [
      "3.045802119417341\n"
     ]
    }
   ],
   "source": [
    "#sempre irá gerar um numero de 0 à 1 , caso queiro um numero maior é so acrescentar mult * 10, 30 etc\n",
    "numero_aleatorio = rng.random( ) * 10\n",
    "print(numero_aleatorio)"
   ]
  },
  {
   "cell_type": "code",
   "execution_count": 46,
   "metadata": {},
   "outputs": [
    {
     "name": "stdout",
     "output_type": "stream",
     "text": [
      "[0.11956764 0.13740816 0.08934718]\n",
      "[3.19264096 1.2363777  1.39389267]\n"
     ]
    }
   ],
   "source": [
    "#sempre irá gerar um numero de 0 à 1 , caso queiro um numero maior é so acrescentar mult * 10, 30 etc\n",
    "\n",
    "array_aleatorio = rng.random(3) \n",
    "print(array_aleatorio)\n",
    "\n",
    "array_aleatorio = rng.random(3) *10\n",
    "print(array_aleatorio)"
   ]
  },
  {
   "cell_type": "markdown",
   "metadata": {
    "id": "J4snhyVNqx4Q"
   },
   "source": [
    " Vamos criar um cenário onde esses dados aleatórios podem ser úteis para uma análise de vendas.\n",
    "\n",
    "Suponha que você seja um analista de vendas em uma empresa e queira entender melhor o desempenho das vendas de um produto específico. No entanto, você não tem acesso aos dados reais de vendas, então você decide gerar alguns dados de vendas aleatórios para realizar sua análise."
   ]
  },
  {
   "cell_type": "code",
   "execution_count": 100,
   "metadata": {
    "id": "pa8UvoZJqx4Q",
    "outputId": "704c10b2-d278-446f-e592-9e5ace8eee89"
   },
   "outputs": [
    {
     "name": "stdout",
     "output_type": "stream",
     "text": [
      "[ 72 243 213 159 158 264  71 224 100  73 181 293 233 240 229 246 178  82\n",
      " 259 162 175 142  95 281 245 210 150 255 186 160]\n"
     ]
    }
   ],
   "source": [
    "# Gere dados de vendas falsos para 30 dias\n",
    "# Vamos supor que as vendas de um produto podem variar de 50 a 200 por dia\n",
    "rng = np.random.default_rng(seed=42)  #(seed=42) esse codigo irá manter sempre o mesmos numeros gerados\n",
    "dados_vendas = rng.integers(low=50, high=300, size=30)\n",
    "print(dados_vendas)"
   ]
  },
  {
   "cell_type": "markdown",
   "metadata": {
    "id": "PMoBGzLJqx4Q"
   },
   "source": [
    "Agora, você pode usar esses dados para realizar várias análises. Por exemplo, você pode querer saber qual foi o dia com as vendas mais altas, as vendas mais baixas, ou a média de vendas durante o mês. Aqui está como você pode fazer isso:\n",
    "\n"
   ]
  },
  {
   "cell_type": "code",
   "execution_count": 101,
   "metadata": {
    "id": "o19wgc_Fq8M_"
   },
   "outputs": [
    {
     "name": "stdout",
     "output_type": "stream",
     "text": [
      "Valor da maior venda: 293\n"
     ]
    }
   ],
   "source": [
    "#maior vendas do array\n",
    "print(f\"Valor da maior venda: {np.max(dados_vendas)}\")"
   ]
  },
  {
   "cell_type": "code",
   "execution_count": 102,
   "metadata": {},
   "outputs": [
    {
     "name": "stdout",
     "output_type": "stream",
     "text": [
      "Dia da maior venda: 12\n"
     ]
    }
   ],
   "source": [
    "#fornece o dia da maior venda do array acima\n",
    "print(f\"Dia da maior venda: {np.argmax(dados_vendas) + 1}\")"
   ]
  },
  {
   "cell_type": "code",
   "execution_count": 103,
   "metadata": {},
   "outputs": [
    {
     "name": "stdout",
     "output_type": "stream",
     "text": [
      "Valor da menor venda:71\n"
     ]
    }
   ],
   "source": [
    "#menor vendas do array\n",
    "print(f\"Valor da menor venda:{np.min(dados_vendas) }\")"
   ]
  },
  {
   "cell_type": "code",
   "execution_count": 105,
   "metadata": {},
   "outputs": [
    {
     "name": "stdout",
     "output_type": "stream",
     "text": [
      "Dia da menor venda:7\n"
     ]
    }
   ],
   "source": [
    "#fornece o dia da menor venda do array acima\n",
    "print(f\"Dia da menor venda:{np.argmin(dados_vendas) + 1}\")"
   ]
  },
  {
   "cell_type": "code",
   "execution_count": 106,
   "metadata": {},
   "outputs": [
    {
     "name": "stdout",
     "output_type": "stream",
     "text": [
      "A media das vendas do mes foi: 185.96666666666667 por dia\n"
     ]
    }
   ],
   "source": [
    "#media de vendas do mes\n",
    "media_venda = np.mean(dados_vendas)\n",
    "print(f\"A media das vendas do mes foi: {media_venda} por dia\")"
   ]
  },
  {
   "cell_type": "code",
   "execution_count": 111,
   "metadata": {},
   "outputs": [
    {
     "name": "stdout",
     "output_type": "stream",
     "text": [
      "183.5\n"
     ]
    }
   ],
   "source": [
    "print(np.median(dados_vendas))\n"
   ]
  },
  {
   "cell_type": "code",
   "execution_count": 116,
   "metadata": {},
   "outputs": [
    {
     "name": "stdout",
     "output_type": "stream",
     "text": [
      "183.5\n"
     ]
    }
   ],
   "source": [
    "print(np.percentile(dados_vendas, 50))\n"
   ]
  },
  {
   "cell_type": "code",
   "execution_count": 117,
   "metadata": {},
   "outputs": [
    {
     "name": "stdout",
     "output_type": "stream",
     "text": [
      "65.41940758589067\n"
     ]
    }
   ],
   "source": [
    "#desvio padrao\n",
    "print(np.std(dados_vendas))\n"
   ]
  },
  {
   "cell_type": "code",
   "execution_count": 113,
   "metadata": {},
   "outputs": [
    {
     "name": "stdout",
     "output_type": "stream",
     "text": [
      "4279.698888888889\n"
     ]
    }
   ],
   "source": [
    "print(np.var(dados_vendas))\n"
   ]
  },
  {
   "cell_type": "markdown",
   "metadata": {
    "id": "jlm7p2F-qx4T"
   },
   "source": [
    "Breve resumo e conceitos simplificados das funções estatísticas citadas:\n",
    "\n",
    "1. Mediana:\n",
    "A mediana é um valor que divide um conjunto de dados em duas partes iguais. Para encontrá-la, você deve organizar os dados em ordem crescente ou decrescente e escolher o valor do meio. Se houver um número ímpar de dados, a mediana será exatamente o valor central. Se houver um número par de dados, a mediana será a média dos dois valores do meio.\n",
    "\n",
    "2. Percentil:\n",
    "O percentil é uma medida estatística que indica a posição relativa de um dado dentro de um conjunto de dados. Ele informa a porcentagem de valores que estão abaixo desse dado. Por exemplo, o percentil 50 (também conhecido como mediana) divide os dados em duas partes iguais, com 50% dos valores abaixo dele e 50% acima.\n",
    "\n",
    "3. Desvio padrão:\n",
    "O desvio padrão é uma medida que indica o quão dispersos os valores de um conjunto de dados estão em relação à média. Ele mostra a variabilidade dos dados em relação ao valor médio. Um desvio padrão maior indica que os dados estão mais espalhados, enquanto um desvio padrão menor indica que os dados estão mais próximos da média.\n",
    "\n",
    "4. Variância:\n",
    "A variância é outra medida de dispersão que indica o quão distantes os valores de um conjunto de dados estão da média. Ela é calculada como a média dos quadrados das diferenças entre cada valor e a média. A variância fornece uma medida da dispersão total dos dados, independentemente de serem maiores ou menores que a média.\n",
    "\n",
    "Essas medidas são amplamente utilizadas na estatística para resumir e analisar conjuntos de dados. Elas fornecem informações valiosas sobre a distribuição, a variabilidade e a posição dos dados, permitindo uma compreensão mais completa dos mesmos."
   ]
  }
 ],
 "metadata": {
  "colab": {
   "provenance": []
  },
  "kernelspec": {
   "display_name": "Python 3 (ipykernel)",
   "language": "python",
   "name": "python3"
  },
  "language_info": {
   "codemirror_mode": {
    "name": "ipython",
    "version": 3
   },
   "file_extension": ".py",
   "mimetype": "text/x-python",
   "name": "python",
   "nbconvert_exporter": "python",
   "pygments_lexer": "ipython3",
   "version": "3.11.7"
  }
 },
 "nbformat": 4,
 "nbformat_minor": 4
}
