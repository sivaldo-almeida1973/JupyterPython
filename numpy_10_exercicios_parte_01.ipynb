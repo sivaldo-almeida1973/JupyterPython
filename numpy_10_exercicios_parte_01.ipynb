{
 "cells": [
  {
   "cell_type": "markdown",
   "metadata": {},
   "source": [
    "## Exercício\n",
    "\n",
    "Você é um gerente de vendas e tem os dados de vendas de três produtos diferentes (Produto A, Produto B, Produto C) para os últimos 5 dias em um array 2D NumPy. Cada linha do array representa um produto e cada coluna representa um dia. Seu trabalho é calcular as vendas totais para cada produto e para cada dia.\n",
    "\n",
    "Use o seguinte array para sua análise:\n",
    "\n",
    "```python\n",
    "vendas = np.array([[50, 60, 70, 65, 80],\n",
    "                   [85, 90, 78, 92, 88],\n",
    "                   [72, 75, 68, 77, 76]])\n",
    "```\n",
    "\n",
    "**Solução:**\n"
   ]
  },
  {
   "cell_type": "code",
   "execution_count": 4,
   "metadata": {
    "ExecuteTime": {
     "end_time": "2023-07-03T12:12:12.700234800Z",
     "start_time": "2023-07-03T12:12:12.677347900Z"
    },
    "collapsed": false,
    "jupyter": {
     "outputs_hidden": false
    }
   },
   "outputs": [
    {
     "name": "stdout",
     "output_type": "stream",
     "text": [
      "[325 433 368]\n"
     ]
    }
   ],
   "source": [
    "import numpy as np\n",
    "\n",
    "vendas = np.array([[50, 60, 70, 65, 80],\n",
    "                   [85, 90, 78, 92, 88],\n",
    "                   [72, 75, 68, 77, 76]])\n",
    "\n",
    "#soma vendas por produto no ei\n",
    "vendas_produto = np.sum(vendas, axis=1)\n",
    "print(vendas_produto)"
   ]
  },
  {
   "cell_type": "code",
   "execution_count": 8,
   "metadata": {},
   "outputs": [
    {
     "name": "stdout",
     "output_type": "stream",
     "text": [
      "Vendas totais para o produto A: 325\n",
      "Vendas totais para o produto B: 433\n",
      "Vendas totais para o produto C: 433\n"
     ]
    }
   ],
   "source": [
    "print(f\"Vendas totais para o produto A: {vendas_produto[0]}\")\n",
    "print(f\"Vendas totais para o produto B: {vendas_produto[1]}\")\n",
    "print(f\"Vendas totais para o produto C: {vendas_produto[1]}\")\n"
   ]
  },
  {
   "cell_type": "code",
   "execution_count": 14,
   "metadata": {},
   "outputs": [
    {
     "name": "stdout",
     "output_type": "stream",
     "text": [
      "vendas totais para o produto 1 : 325\n",
      "vendas totais para o produto 2 : 433\n",
      "vendas totais para o produto 3 : 368\n"
     ]
    }
   ],
   "source": [
    "for i in range(3):\n",
    "    print(f\"vendas totais para o produto {i + 1} : {vendas_produto[i]}\")"
   ]
  },
  {
   "cell_type": "code",
   "execution_count": 6,
   "metadata": {},
   "outputs": [
    {
     "name": "stdout",
     "output_type": "stream",
     "text": [
      "[207 225 216 234 244]\n"
     ]
    }
   ],
   "source": [
    "#soma vendas por dia\n",
    "vendas_dia = np.sum(vendas, axis=0)\n",
    "print(vendas_dia)"
   ]
  },
  {
   "cell_type": "code",
   "execution_count": 10,
   "metadata": {},
   "outputs": [
    {
     "name": "stdout",
     "output_type": "stream",
     "text": [
      "Vendas totais para o dia 1: 207\n",
      "Vendas totais para o dia 2: 225\n",
      "Vendas totais para o dia 2: 225\n"
     ]
    }
   ],
   "source": [
    "print(f\"Vendas totais para o dia 1: {vendas_dia[0]}\")\n",
    "print(f\"Vendas totais para o dia 2: {vendas_dia[1]}\")\n",
    "print(f\"Vendas totais para o dia 2: {vendas_dia[1]}\")"
   ]
  },
  {
   "cell_type": "code",
   "execution_count": 11,
   "metadata": {},
   "outputs": [
    {
     "name": "stdout",
     "output_type": "stream",
     "text": [
      "Vendas totais para o dia 1: 207\n",
      "Vendas totais para o dia 2: 225\n",
      "Vendas totais para o dia 3: 216\n",
      "Vendas totais para o dia 4: 234\n",
      "Vendas totais para o dia 5: 244\n"
     ]
    }
   ],
   "source": [
    "for i in range(5):\n",
    "    print(f\"Vendas totais para o dia {i + 1}: {vendas_dia[i]}\")"
   ]
  }
 ],
 "metadata": {
  "kernelspec": {
   "display_name": "Python 3 (ipykernel)",
   "language": "python",
   "name": "python3"
  },
  "language_info": {
   "codemirror_mode": {
    "name": "ipython",
    "version": 3
   },
   "file_extension": ".py",
   "mimetype": "text/x-python",
   "name": "python",
   "nbconvert_exporter": "python",
   "pygments_lexer": "ipython3",
   "version": "3.11.7"
  }
 },
 "nbformat": 4,
 "nbformat_minor": 4
}
