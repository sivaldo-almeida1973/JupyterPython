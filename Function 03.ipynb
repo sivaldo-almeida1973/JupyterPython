{
 "cells": [
  {
   "cell_type": "markdown",
   "metadata": {},
   "source": [
    "# Argumentos/Parâmetros da Função\n",
    "\n",
    "### Estrutura:"
   ]
  },
  {
   "cell_type": "raw",
   "metadata": {},
   "source": [
    "def minha_funcao(parametro1, parametro2, parametro3):\n",
    "    return parametro1 + parametro2 + parametro3"
   ]
  },
  {
   "cell_type": "markdown",
   "metadata": {},
   "source": [
    "- Exemplo: nosso famoso print"
   ]
  },
  {
   "cell_type": "code",
   "execution_count": 2,
   "metadata": {},
   "outputs": [
    {
     "name": "stdout",
     "output_type": "stream",
     "text": [
      "produto: iphone vendas: 50\n"
     ]
    }
   ],
   "source": [
    "vendas = 50\n",
    "print('produto:','iphone','vendas:', vendas)"
   ]
  },
  {
   "cell_type": "markdown",
   "metadata": {},
   "source": [
    "- Só para mostrar o funcionamento, vamos criar uma função de soma"
   ]
  },
  {
   "cell_type": "code",
   "execution_count": 8,
   "metadata": {},
   "outputs": [
    {
     "name": "stdout",
     "output_type": "stream",
     "text": [
      "Soma: 60\n"
     ]
    }
   ],
   "source": [
    "def minha_soma(num1 , num2, num3):\n",
    "    return num1 + num2 +num3\n",
    "    \n",
    "soma = minha_soma(10,20,30)\n",
    "print('Soma:',soma)"
   ]
  },
  {
   "cell_type": "markdown",
   "metadata": {},
   "source": [
    "- Vamos criar uma function com parâmetro\n",
    "\n",
    "Digamos que estamos criando um programa para categorizar os produtos de uma revendedora de bebidas.\n",
    "\n",
    "Cada produto tem um código. O tipo de produto é dado pelas 3 primeiras letras do código.\n",
    "\n",
    "Ex:<br>\n",
    "Vinho -> BEB12302<br>\n",
    "Cerveja -> BEB12043<br>\n",
    "Vodka -> BEB34501<br>\n",
    "\n",
    "Guaraná -> BSA11104<br>\n",
    "Coca -> BSA54301<br>\n",
    "Sprite -> BSA34012<br>\n",
    "Água -> BSA09871<br>\n",
    "\n",
    "Repare que bebidas não alcóolicas começam com BSA e bebidas alcoolicas começam com BEB.\n",
    "\n",
    "Crie um programa que analise uma lista de produtos e envie instruções para a equipe de estoque dizendo quais produtos devem ser enviados para a área de bebidas alcóolicas."
   ]
  },
  {
   "cell_type": "code",
   "execution_count": 22,
   "metadata": {},
   "outputs": [
    {
     "name": "stdout",
     "output_type": "stream",
     "text": [
      "Enviar beb46275 para setor de bebidas alcoolicas\n",
      "Enviar TFA23962 para setor de bebidas não alcoolicas\n",
      "Enviar TFA64715 para setor de bebidas não alcoolicas\n",
      "Enviar TFA69555 para setor de bebidas não alcoolicas\n",
      "Enviar TFA56743 para setor de bebidas não alcoolicas\n",
      "Enviar BSA45510 para setor de bebidas não alcoolicas\n",
      "Enviar TFA44968 para setor de bebidas não alcoolicas\n",
      "Enviar CAR75448 para setor de bebidas não alcoolicas\n",
      "Enviar CAR23596 para setor de bebidas não alcoolicas\n",
      "Enviar CAR13490 para setor de bebidas não alcoolicas\n",
      "Enviar BEB21365 para setor de bebidas alcoolicas\n",
      "Enviar BEB31623 para setor de bebidas alcoolicas\n",
      "Enviar BSA62419 para setor de bebidas não alcoolicas\n",
      "Enviar BEB73344 para setor de bebidas alcoolicas\n",
      "Enviar TFA20079 para setor de bebidas não alcoolicas\n",
      "Enviar BEB80694 para setor de bebidas alcoolicas\n",
      "Enviar BSA11769 para setor de bebidas não alcoolicas\n",
      "Enviar BEB19495 para setor de bebidas alcoolicas\n",
      "Enviar TFA14792 para setor de bebidas não alcoolicas\n",
      "Enviar TFA78043 para setor de bebidas não alcoolicas\n",
      "Enviar BSA33484 para setor de bebidas não alcoolicas\n",
      "Enviar BEB97471 para setor de bebidas alcoolicas\n",
      "Enviar BEB62362 para setor de bebidas alcoolicas\n",
      "Enviar TFA27311 para setor de bebidas não alcoolicas\n",
      "Enviar TFA17715 para setor de bebidas não alcoolicas\n",
      "Enviar BEB85146 para setor de bebidas alcoolicas\n",
      "Enviar BEB48898 para setor de bebidas alcoolicas\n",
      "Enviar BEB79496 para setor de bebidas alcoolicas\n",
      "Enviar CAR38417 para setor de bebidas não alcoolicas\n",
      "Enviar TFA19947 para setor de bebidas não alcoolicas\n",
      "Enviar TFA58799 para setor de bebidas não alcoolicas\n",
      "Enviar CAR94811 para setor de bebidas não alcoolicas\n",
      "Enviar BSA59251 para setor de bebidas não alcoolicas\n",
      "Enviar BEB15385 para setor de bebidas alcoolicas\n",
      "Enviar BEB24213 para setor de bebidas alcoolicas\n",
      "Enviar BEB56262 para setor de bebidas alcoolicas\n",
      "Enviar BSA96915 para setor de bebidas não alcoolicas\n",
      "Enviar CAR53454 para setor de bebidas não alcoolicas\n",
      "Enviar BEB75073 para setor de bebidas alcoolicas\n"
     ]
    }
   ],
   "source": [
    "\n",
    "def ehalcoolico(bebida):\n",
    "    bebida = bebida.upper()#converter em maiusculas\n",
    "    if 'BEB' in bebida:\n",
    "        return True\n",
    "    else:\n",
    "        return False\n",
    "\n",
    "\n",
    "\n",
    "produtos = ['beb46275','TFA23962','TFA64715','TFA69555','TFA56743',\n",
    "            'BSA45510','TFA44968','CAR75448','CAR23596','CAR13490',\n",
    "            'BEB21365','BEB31623','BSA62419','BEB73344','TFA20079',\n",
    "            'BEB80694','BSA11769','BEB19495','TFA14792','TFA78043',\n",
    "            'BSA33484','BEB97471','BEB62362','TFA27311','TFA17715',\n",
    "            'BEB85146','BEB48898','BEB79496','CAR38417','TFA19947',\n",
    "            'TFA58799','CAR94811','BSA59251','BEB15385','BEB24213',\n",
    "            'BEB56262','BSA96915','CAR53454','BEB75073']\n",
    "\n",
    "#percorrer toda a lista de produtos(for)\n",
    "#pra cada produto, verificar se ele é bebída alcoolica(if)\n",
    "#se for bebida alcoolica, exibir a mensagem , Eviar.....\n",
    "for produto in produtos:\n",
    "    if ehalcoolico(produto):\n",
    "        print('Enviar {} para setor de bebidas alcoolicas'.format(produto))\n",
    "    else:\n",
    "         print('Enviar {} para setor de bebidas não alcoolicas'.format(produto))\n",
    "\n",
    "\n"
   ]
  }
 ],
 "metadata": {
  "kernelspec": {
   "display_name": "Python 3 (ipykernel)",
   "language": "python",
   "name": "python3"
  },
  "language_info": {
   "codemirror_mode": {
    "name": "ipython",
    "version": 3
   },
   "file_extension": ".py",
   "mimetype": "text/x-python",
   "name": "python",
   "nbconvert_exporter": "python",
   "pygments_lexer": "ipython3",
   "version": "3.11.7"
  }
 },
 "nbformat": 4,
 "nbformat_minor": 4
}
