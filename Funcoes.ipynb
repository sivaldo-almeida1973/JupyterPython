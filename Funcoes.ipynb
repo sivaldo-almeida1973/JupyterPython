{
 "cells": [
  {
   "cell_type": "markdown",
   "id": "a2fee89b",
   "metadata": {},
   "source": [
    "### Forma de pensar"
   ]
  },
  {
   "cell_type": "code",
   "execution_count": null,
   "id": "1be9db7d",
   "metadata": {},
   "outputs": [],
   "source": [
    "# Top -> Down\n",
    "\n",
    "# Exemplo simples: atravessar a rua"
   ]
  },
  {
   "cell_type": "markdown",
   "id": "672e10e0",
   "metadata": {},
   "source": [
    "### Exemplo de Exercício do Curso"
   ]
  },
  {
   "cell_type": "markdown",
   "id": "fee80189",
   "metadata": {},
   "source": [
    "#### 23. Faça um Programa para uma loja de tintas. O programa deverá pedir o tamanho em metros quadrados da área a ser pintada. Considere que a cobertura da tinta é de 1 litro para cada 6 metros quadrados e que a tinta é vendida em latas de 18 litros, que custam R\\\\$ 80,00 ou em galões de 3,6 litros, que custam R\\\\$ 25,00."
   ]
  },
  {
   "cell_type": "code",
   "execution_count": 11,
   "id": "4499bb83",
   "metadata": {},
   "outputs": [
    {
     "name": "stdin",
     "output_type": "stream",
     "text": [
      "Digite a area a ser pintada (M²) 500\n"
     ]
    },
    {
     "name": "stdout",
     "output_type": "stream",
     "text": [
      "area a pintar 500 M²\n",
      "qtde litros 83.33333333333333\n",
      "qtde latas 5 latas de 18 litros\n",
      "custo total 400\n"
     ]
    }
   ],
   "source": [
    "#descobrir qtde latas de tinta e qual o custo para pintar a area fornecida\n",
    "   #descobrir qtda de latas de tintas\n",
    "       ##descobrir qual a area que o usuario vai pintar\n",
    "area_pintar = int(input('Digite a area a ser pintada (M²)'))\n",
    "       #quantos litros de tinta sera necessarioa areaa fornecida\n",
    "qtde_litros = area_pintar / 6\n",
    "       # tranformar a quantidade de litros em latas \n",
    "latas = qtde_litros / 18\n",
    "if latas > int(latas): #O if verifica se o valor de latas é maior do que a parte inteira de latas. Isso significa que estamos verificando se o número de latas necessário não é um número inteiro (ou seja, há uma parte fracionária).\n",
    "    latas = int(latas) + 1  # Se o número de latas necessário não for um número inteiro, arredondamos para cima adicionando 1 à parte inteira de latas. Isso garante que tenhamos pelo menos uma lata completa para cobrir a área, mesmo que haja uma fração menor que uma lata.\n",
    "   #calcular o custo total das latas \n",
    "       #quantidade de latas * preço da lata\n",
    "custo_total = latas * 80 \n",
    "\n",
    "print(f'area a pintar {area_pintar} M²')\n",
    "print(f'qtde litros {qtde_litros}')\n",
    "print(f'qtde latas {latas} latas de 18 litros')\n",
    "print(f'custo total {custo_total}R$')\n",
    "      \n"
   ]
  },
  {
   "cell_type": "markdown",
   "id": "0d5fa10a",
   "metadata": {},
   "source": [
    "##### Informe ao usuário as quantidades de tinta a serem compradas e os respectivos preços em 3 situações.\n",
    "\n",
    "Dica: lembre dos operadores // e % mostrados em exercícios anteriores<br>\n",
    "Dica1: numero // 10 vai te dar como resposta a parte inteira da divisão do número por 10. Ex: 7 // 3 = 2; 10 // 3 = 3<br> \n",
    "Dica2: numero % 10 vai te dar o resto da divisão do número por 10. Ex: 7 % 3 = 1; 10 % 3 = 1; 15 % 3 = 0\n",
    "\n",
    "##### 1. Comprar apenas latas de 18 litros: (apenas latas inteiras)"
   ]
  },
  {
   "cell_type": "code",
   "execution_count": 3,
   "id": "bc38cdcd",
   "metadata": {},
   "outputs": [
    {
     "name": "stdin",
     "output_type": "stream",
     "text": [
      "Digite a area a ser pintada (M²) 122\n"
     ]
    },
    {
     "name": "stdout",
     "output_type": "stream",
     "text": [
      "122\n",
      "20.333333333333332\n",
      "2\n",
      "160\n"
     ]
    }
   ],
   "source": [
    "def area_a_ser_pintada():\n",
    "    area = int(input('Digite a area a ser pintada (M²)'))\n",
    "    return area\n",
    "\n",
    "def calcular_litros_tinta(area):\n",
    "    litros = area / 6\n",
    "    return litros\n",
    "\n",
    "def calcular_latas_tintas(litros):\n",
    "    latas = litros / 18\n",
    "    if latas > int(latas):\n",
    "        latas = int(latas) + 1\n",
    "    return latas\n",
    "\n",
    "def calcular_custo(latas):\n",
    "    custo = latas * 80\n",
    "    return custo\n",
    "\n",
    "\n",
    "area = area_a_ser_pintada()\n",
    "litros = calcular_litros_tinta(area)\n",
    "latas = calcular_latas_tintas(litros)\n",
    "custo = calcular_custo(latas)\n",
    "print(f'{area}')\n",
    "print(f'{litros}')\n",
    "print(f'{latas}')\n",
    "print(f'{custo}')\n",
    "\n",
    "\n",
    "    "
   ]
  },
  {
   "cell_type": "markdown",
   "id": "15dc7322",
   "metadata": {},
   "source": [
    "##### 2. Comprar apenas galões de 3,6 litros: (apenas galoes inteiros)"
   ]
  },
  {
   "cell_type": "code",
   "execution_count": 4,
   "id": "6e0a01af",
   "metadata": {},
   "outputs": [
    {
     "name": "stdin",
     "output_type": "stream",
     "text": [
      "Digite a area a ser pintada (M²) 1200\n"
     ]
    },
    {
     "name": "stdout",
     "output_type": "stream",
     "text": [
      "Area 1200M²\n",
      "Qtde Litros 200.0\n",
      "Qtde Galoes 56\n",
      "Custo Total:50\n"
     ]
    }
   ],
   "source": [
    "def area_a_ser_pintada():\n",
    "    area = int(input('Digite a area a ser pintada (M²)'))\n",
    "    return area\n",
    "\n",
    "def calcular_litros_tinta(area):\n",
    "    litros = area / 6\n",
    "    return litros\n",
    "\n",
    "def calcular_galoes_tintas(litros):\n",
    "    galoes = litros / 3.6\n",
    "    if galoes > int(galoes):\n",
    "        galoes = int(galoes) + 1\n",
    "    return galoes\n",
    "\n",
    "def calcular_custo(latas):\n",
    "    custo = latas * 25\n",
    "    return custo\n",
    "\n",
    "\n",
    "area = area_a_ser_pintada()\n",
    "litros = calcular_litros_tinta(area)\n",
    "galoes = calcular_galoes_tintas(litros)\n",
    "custo = calcular_custo(latas)\n",
    "print(f'Area {area}M²')\n",
    "print(f'Qtde Litros {litros}')\n",
    "print(f'Qtde Galoes {galoes}')\n",
    "print(f'Custo Total:{custo}')\n"
   ]
  },
  {
   "cell_type": "markdown",
   "id": "35e0aa11",
   "metadata": {},
   "source": [
    "##### 3. Misturar latas e galões, de forma que o desperdício de tinta seja menor. Sempre arredonde os valores para cima, isto é, considere latas cheias."
   ]
  },
  {
   "cell_type": "markdown",
   "id": "95a3d342",
   "metadata": {},
   "source": [
    "O custo da lata é 80/18 = 4,44 R\\\\$/L\n",
    "\n",
    "O custo do galão é 25/3,6 = 6,94 R\\\\$/L\n",
    "\n",
    "A lata é mais econômica, então todas as latas inteiras que pudermos usar devemos comprar em latas. Se ficar faltando alguma coisa para completar devemos avaliar se é melhor comprar latas ou galões. Exemplo:\n",
    "\n",
    "Se queremos comprar 90 litros. 5 latas dão exatamente 90 litros. Então devemos comprar tudo em latas.\n",
    "\n",
    "Se queremos comprar 95 litros. 5 latas dão exatamente 90 litros. Então devemos comprar pelo menos 5 latas e avaliar o que falta, se estes últimos 5 litros valem mais apenas em latas ou galões.\n",
    "\n",
    "Para os 5 litros faltantes precisamos de 2 galões que custam 50 reais no total. Ou de uma lata que custa 80 reais no total. Portanto, neste caso vale mais a pena usar 2 galões.\n",
    "\n",
    "Se queremos comprar 107 litros. 5 latas dão exatamente 90 litros. Então devemos comprar pelo menos 5 latas e avaliar o que falta, se estes últimos 5 litros valem mais apenas em latas ou galões.\n",
    "\n",
    "Para os 17 litros faltantes precisamos de 5 galões que custam 125 reais no total. Ou de uma lata que custa 80 reais no total. Portanto, neste caso vale mais a pena usar uma lata.\n",
    "\n",
    "3 galões custam 75 reais, 4 galões custam 100 reais. Então, se for possível completar com até 3 galões escolhe-se galões. Qualquer quantidade maior que 3 galões, usa-se latas.\n",
    "\n",
    "Podemos ir ao exercício:"
   ]
  },
  {
   "cell_type": "code",
   "execution_count": 6,
   "id": "0e9847d9",
   "metadata": {},
   "outputs": [],
   "source": [
    "#pegar a area a ser pintada\n",
    "def area_a_ser_pintada():\n",
    "    area = int(input('Digite a area a ser pintada (M²)'))\n",
    "    return area\n",
    "\n",
    "#Pegar quantos Litros eu vou precisar para pintar a area fornecida\n",
    "\n",
    "def calcular_litros_tinta(area):\n",
    "    litros = area / 6\n",
    "    return litros\n",
    "#Calcular quantas latas e quantos galoes eu vou precisar\n",
    "    #Calcular quantas latas inteiras eu vou precisar\n",
    "    #Calcular quantos litros ainda faltam comprar\n",
    "    #Clacular quanto custo preencher esses litros que faltam com galão\n",
    "    #Clacular quanto custo preencher esses litros que faltam com latas\n",
    "    #Escolher a opção mais barata\n",
    "\n",
    "def calcular_qtde_latas_galoes(litros):\n",
    "    latas = 0\n",
    "    galoes = 0\n",
    "        #Calcular quantas latas inteiras eu vou precisar\n",
    "    latas_inteiras =  int(litros / 18) # vai pegar somente a parte inteira\n",
    "       #Calcular quantos litros ainda faltam para completar\n",
    "    litros_faltam = litros % 18\n",
    "    \n",
    "        #se for preencher com latas\n",
    "    custo_extra_latas = 1 * 80\n",
    "        #se for preencher com galoes\n",
    "    galoes = litros_faltam / 3.6\n",
    "    if galoes > int(galoes):\n",
    "        galoes = int(galoes) + 1\n",
    "    custo_extra_galoes = galoes * 25\n",
    "    \n",
    "    #verificar qual custo vai ser menor\n",
    "    if custo_extra_latas < custo_extra_galoes :\n",
    "        latas = latas_inteiras + 1\n",
    "        galoes = 0\n",
    "    else:\n",
    "        latas = latas_inteiras\n",
    "    return latas, galoes\n",
    "        \n",
    "\n",
    "#calcular o custo total\n",
    "def calcular_custo(latas, galoes):\n",
    "    custo_latas = latas * 80\n",
    "    custo_galoes = galoes * 25\n",
    "    custo = custo_latas + custo_galoes\n",
    "    return custo\n"
   ]
  },
  {
   "cell_type": "code",
   "execution_count": 7,
   "id": "2ba1b9c1-2f64-4ed2-adcd-3c412e47952d",
   "metadata": {},
   "outputs": [
    {
     "name": "stdin",
     "output_type": "stream",
     "text": [
      "Digite a area a ser pintada (M²) 1200\n"
     ]
    },
    {
     "name": "stdout",
     "output_type": "stream",
     "text": [
      "Litros 200.0\n",
      "Latas 11\n",
      "Galoes 1\n",
      "Custo 905\n"
     ]
    }
   ],
   "source": [
    "area = area_a_ser_pintada()\n",
    "litros = calcular_litros_tinta(area)\n",
    "latas, galoes = calcular_qtde_latas_galoes(litros)\n",
    "custo = calcular_custo(latas, galoes)\n",
    "print(\"Litros\", litros)\n",
    "print(\"Latas\", latas)\n",
    "print(\"Galoes\", galoes)\n",
    "print(\"Custo\", custo)"
   ]
  },
  {
   "cell_type": "markdown",
   "id": "dca5c3dd-891a-4189-94c1-d35ab6615d7e",
   "metadata": {},
   "source": [
    "# chamar as funcoes acima\n",
    "area = area_a_ser_pintada()\n",
    "litros = calcular_litros_tinta(area)\n",
    "latas, galoes =  calcular_qtde_latas_galoes(litros)\n",
    "\n",
    "\n",
    "\n",
    "print(f\"Litros:{litros}\")\n",
    "print(f\" Latas: {latas}\")\n",
    "print(f\"Galoes:{galoes}\")\n",
    "print(f\"Custo:{custo}\")\n",
    "\n"
   ]
  }
 ],
 "metadata": {
  "kernelspec": {
   "display_name": "Python 3 (ipykernel)",
   "language": "python",
   "name": "python3"
  },
  "language_info": {
   "codemirror_mode": {
    "name": "ipython",
    "version": 3
   },
   "file_extension": ".py",
   "mimetype": "text/x-python",
   "name": "python",
   "nbconvert_exporter": "python",
   "pygments_lexer": "ipython3",
   "version": "3.11.7"
  }
 },
 "nbformat": 4,
 "nbformat_minor": 5
}
