{
 "cells": [
  {
   "cell_type": "code",
   "execution_count": 7,
   "id": "df8186ec-7f3c-40ec-8d85-c86d3a3c9f13",
   "metadata": {},
   "outputs": [
    {
     "name": "stdin",
     "output_type": "stream",
     "text": [
      "qual seu nome? sivaldo\n",
      "qual seu sobrenome vieira almeida\n"
     ]
    },
    {
     "name": "stdout",
     "output_type": "stream",
     "text": [
      "sivaldo vieira almeida\n"
     ]
    }
   ],
   "source": [
    "nome = input('qual seu nome?')\n",
    "sobrenome = input('qual seu sobrenome')\n",
    "\n",
    "print(nome +' '+ sobrenome)"
   ]
  }
 ],
 "metadata": {
  "kernelspec": {
   "display_name": "Python 3 (ipykernel)",
   "language": "python",
   "name": "python3"
  },
  "language_info": {
   "codemirror_mode": {
    "name": "ipython",
    "version": 3
   },
   "file_extension": ".py",
   "mimetype": "text/x-python",
   "name": "python",
   "nbconvert_exporter": "python",
   "pygments_lexer": "ipython3",
   "version": "3.11.7"
  }
 },
 "nbformat": 4,
 "nbformat_minor": 5
}
