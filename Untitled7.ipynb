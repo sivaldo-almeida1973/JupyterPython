{
 "cells": [
  {
   "cell_type": "code",
   "execution_count": 4,
   "id": "450d7357-0afe-4f66-8ead-e32b2353e183",
   "metadata": {},
   "outputs": [
    {
     "name": "stdout",
     "output_type": "stream",
     "text": [
      "1: Adicionar produto ao estoque\n",
      "2: Vender produto\n",
      "3: Ver total do estoque\n",
      "4: Ver total de vendas\n",
      "5: Sair\n"
     ]
    },
    {
     "name": "stdin",
     "output_type": "stream",
     "text": [
      "Escolha uma opção:  3\n"
     ]
    },
    {
     "name": "stdout",
     "output_type": "stream",
     "text": [
      "| Produto | Quantidade | Categoria | Preço Unitário | Valor Total |\n",
      "|---------|------------|-----------|----------------|-------------|\n",
      "|---------|------------|-----------|----------------|-------------|\n",
      "1: Adicionar produto ao estoque\n",
      "2: Vender produto\n",
      "3: Ver total do estoque\n",
      "4: Ver total de vendas\n",
      "5: Sair\n"
     ]
    },
    {
     "name": "stdin",
     "output_type": "stream",
     "text": [
      "Escolha uma opção:  1\n",
      "Digite o nome do produto ou \"sair\" para voltar ao menu:  manga\n",
      "Digite a categoria do produto:  alim\n",
      "Digite o preço unitário do produto:  6\n",
      "Digite a quantidade a ser adicionada ao estoque:  32\n",
      "Digite o nome do produto ou \"sair\" para voltar ao menu:  sair\n"
     ]
    },
    {
     "name": "stdout",
     "output_type": "stream",
     "text": [
      "1: Adicionar produto ao estoque\n",
      "2: Vender produto\n",
      "3: Ver total do estoque\n",
      "4: Ver total de vendas\n",
      "5: Sair\n"
     ]
    },
    {
     "name": "stdin",
     "output_type": "stream",
     "text": [
      "Escolha uma opção:  3\n"
     ]
    },
    {
     "name": "stdout",
     "output_type": "stream",
     "text": [
      "| Produto | Quantidade | Categoria | Preço Unitário | Valor Total |\n",
      "|---------|------------|-----------|----------------|-------------|\n",
      "| manga | 32 | alim | 6.0 | 192.0 |\n",
      "|---------|------------|-----------|----------------|-------------|\n",
      "1: Adicionar produto ao estoque\n",
      "2: Vender produto\n",
      "3: Ver total do estoque\n",
      "4: Ver total de vendas\n",
      "5: Sair\n"
     ]
    },
    {
     "name": "stdin",
     "output_type": "stream",
     "text": [
      "Escolha uma opção:  1\n",
      "Digite o nome do produto ou \"sair\" para voltar ao menu:  avo\n",
      "Digite a categoria do produto:  alim\n",
      "Digite o preço unitário do produto:  25\n",
      "Digite a quantidade a ser adicionada ao estoque:  100\n",
      "Digite o nome do produto ou \"sair\" para voltar ao menu:  prego\n",
      "Digite a categoria do produto:  construc\n",
      "Digite o preço unitário do produto:  18\n",
      "Digite a quantidade a ser adicionada ao estoque:  25\n",
      "Digite o nome do produto ou \"sair\" para voltar ao menu:  cerveja\n",
      "Digite a categoria do produto:  beb\n",
      "Digite o preço unitário do produto:  6\n",
      "Digite a quantidade a ser adicionada ao estoque:  60\n",
      "Digite o nome do produto ou \"sair\" para voltar ao menu:  sair\n"
     ]
    },
    {
     "name": "stdout",
     "output_type": "stream",
     "text": [
      "1: Adicionar produto ao estoque\n",
      "2: Vender produto\n",
      "3: Ver total do estoque\n",
      "4: Ver total de vendas\n",
      "5: Sair\n"
     ]
    },
    {
     "name": "stdin",
     "output_type": "stream",
     "text": [
      "Escolha uma opção:  3\n"
     ]
    },
    {
     "name": "stdout",
     "output_type": "stream",
     "text": [
      "| Produto | Quantidade | Categoria | Preço Unitário | Valor Total |\n",
      "|---------|------------|-----------|----------------|-------------|\n",
      "| manga | 32 | alim | 6.0 | 192.0 |\n",
      "| avo | 100 | alim | 25.0 | 2500.0 |\n",
      "| prego | 25 | construc | 18.0 | 450.0 |\n",
      "| cerveja | 60 | beb | 6.0 | 360.0 |\n",
      "|---------|------------|-----------|----------------|-------------|\n",
      "1: Adicionar produto ao estoque\n",
      "2: Vender produto\n",
      "3: Ver total do estoque\n",
      "4: Ver total de vendas\n",
      "5: Sair\n"
     ]
    },
    {
     "name": "stdin",
     "output_type": "stream",
     "text": [
      "Escolha uma opção:  2\n",
      "Digite o nome do produto ou \"sair\" para voltar ao menu:  prego\n",
      "Digite a quantidade a ser vendida:  10\n",
      "Digite o nome do cliente:  sivaldo\n",
      "Digite o CPF do cliente:  666666444555\n"
     ]
    },
    {
     "name": "stdout",
     "output_type": "stream",
     "text": [
      "Vendido 10 de prego para sivaldo (CPF: 666666444555).\n"
     ]
    },
    {
     "name": "stdin",
     "output_type": "stream",
     "text": [
      "Digite o nome do produto ou \"sair\" para voltar ao menu:  manga\n",
      "Digite a quantidade a ser vendida:  12\n",
      "Digite o nome do cliente:  alice\n",
      "Digite o CPF do cliente:  555888777444\n"
     ]
    },
    {
     "name": "stdout",
     "output_type": "stream",
     "text": [
      "Vendido 12 de manga para alice (CPF: 555888777444).\n"
     ]
    },
    {
     "name": "stdin",
     "output_type": "stream",
     "text": [
      "Digite o nome do produto ou \"sair\" para voltar ao menu:  sair\n"
     ]
    },
    {
     "name": "stdout",
     "output_type": "stream",
     "text": [
      "1: Adicionar produto ao estoque\n",
      "2: Vender produto\n",
      "3: Ver total do estoque\n",
      "4: Ver total de vendas\n",
      "5: Sair\n"
     ]
    },
    {
     "name": "stdin",
     "output_type": "stream",
     "text": [
      "Escolha uma opção:  4\n"
     ]
    },
    {
     "name": "stdout",
     "output_type": "stream",
     "text": [
      "| Produto | Quantidade Vendida | Cliente | CPF |\n",
      "|---------|--------------------|---------|-----|\n",
      "| prego | 10 | sivaldo | 666666444555 |\n",
      "| manga | 12 | alice | 555888777444 |\n",
      "Total de vendas: 252.0\n",
      "1: Adicionar produto ao estoque\n",
      "2: Vender produto\n",
      "3: Ver total do estoque\n",
      "4: Ver total de vendas\n",
      "5: Sair\n"
     ]
    },
    {
     "name": "stdin",
     "output_type": "stream",
     "text": [
      "Escolha uma opção:  1\n",
      "Digite o nome do produto ou \"sair\" para voltar ao menu:  carro\n",
      "Digite a categoria do produto:  veiculos\n",
      "Digite o preço unitário do produto:  80000\n",
      "Digite a quantidade a ser adicionada ao estoque:  2\n",
      "Digite o nome do produto ou \"sair\" para voltar ao menu:  vassoura\n",
      "Digite a categoria do produto:  limpeza\n",
      "Digite o preço unitário do produto:  20\n",
      "Digite a quantidade a ser adicionada ao estoque:  40\n",
      "Digite o nome do produto ou \"sair\" para voltar ao menu:  sair\n"
     ]
    },
    {
     "name": "stdout",
     "output_type": "stream",
     "text": [
      "1: Adicionar produto ao estoque\n",
      "2: Vender produto\n",
      "3: Ver total do estoque\n",
      "4: Ver total de vendas\n",
      "5: Sair\n"
     ]
    },
    {
     "name": "stdin",
     "output_type": "stream",
     "text": [
      "Escolha uma opção:  3\n"
     ]
    },
    {
     "name": "stdout",
     "output_type": "stream",
     "text": [
      "| Produto | Quantidade | Categoria | Preço Unitário | Valor Total |\n",
      "|---------|------------|-----------|----------------|-------------|\n",
      "| manga | 20 | alim | 6.0 | 120.0 |\n",
      "| avo | 100 | alim | 25.0 | 2500.0 |\n",
      "| prego | 15 | construc | 18.0 | 270.0 |\n",
      "| cerveja | 60 | beb | 6.0 | 360.0 |\n",
      "| carro | 2 | veiculos | 80000.0 | 160000.0 |\n",
      "| vassoura | 40 | limpeza | 20.0 | 800.0 |\n",
      "|---------|------------|-----------|----------------|-------------|\n",
      "1: Adicionar produto ao estoque\n",
      "2: Vender produto\n",
      "3: Ver total do estoque\n",
      "4: Ver total de vendas\n",
      "5: Sair\n"
     ]
    },
    {
     "name": "stdin",
     "output_type": "stream",
     "text": [
      "Escolha uma opção:  2\n",
      "Digite o nome do produto ou \"sair\" para voltar ao menu:  carro\n",
      "Digite a quantidade a ser vendida:  1\n",
      "Digite o nome do cliente:  lucas\n",
      "Digite o CPF do cliente:  555444777222\n"
     ]
    },
    {
     "name": "stdout",
     "output_type": "stream",
     "text": [
      "Vendido 1 de carro para lucas (CPF: 555444777222).\n"
     ]
    },
    {
     "name": "stdin",
     "output_type": "stream",
     "text": [
      "Digite o nome do produto ou \"sair\" para voltar ao menu:  sair\n"
     ]
    },
    {
     "name": "stdout",
     "output_type": "stream",
     "text": [
      "1: Adicionar produto ao estoque\n",
      "2: Vender produto\n",
      "3: Ver total do estoque\n",
      "4: Ver total de vendas\n",
      "5: Sair\n"
     ]
    },
    {
     "name": "stdin",
     "output_type": "stream",
     "text": [
      "Escolha uma opção:  4\n"
     ]
    },
    {
     "name": "stdout",
     "output_type": "stream",
     "text": [
      "| Produto | Quantidade Vendida | Cliente | CPF |\n",
      "|---------|--------------------|---------|-----|\n",
      "| prego | 10 | sivaldo | 666666444555 |\n",
      "| manga | 12 | alice | 555888777444 |\n",
      "| carro | 1 | lucas | 555444777222 |\n",
      "Total de vendas: 80252.0\n",
      "1: Adicionar produto ao estoque\n",
      "2: Vender produto\n",
      "3: Ver total do estoque\n",
      "4: Ver total de vendas\n",
      "5: Sair\n"
     ]
    },
    {
     "name": "stdin",
     "output_type": "stream",
     "text": [
      "Escolha uma opção:  2\n",
      "Digite o nome do produto ou \"sair\" para voltar ao menu:  manga\n",
      "Digite a quantidade a ser vendida:  5\n",
      "Digite o nome do cliente:  sivaldo\n",
      "Digite o CPF do cliente:  666555444111\n"
     ]
    },
    {
     "name": "stdout",
     "output_type": "stream",
     "text": [
      "Vendido 5 de manga para sivaldo (CPF: 666555444111).\n"
     ]
    },
    {
     "name": "stdin",
     "output_type": "stream",
     "text": [
      "Digite o nome do produto ou \"sair\" para voltar ao menu:  sair\n"
     ]
    },
    {
     "name": "stdout",
     "output_type": "stream",
     "text": [
      "1: Adicionar produto ao estoque\n",
      "2: Vender produto\n",
      "3: Ver total do estoque\n",
      "4: Ver total de vendas\n",
      "5: Sair\n"
     ]
    },
    {
     "name": "stdin",
     "output_type": "stream",
     "text": [
      "Escolha uma opção:  4\n"
     ]
    },
    {
     "name": "stdout",
     "output_type": "stream",
     "text": [
      "| Produto | Quantidade Vendida | Cliente | CPF |\n",
      "|---------|--------------------|---------|-----|\n",
      "| prego | 10 | sivaldo | 666666444555 |\n",
      "| manga | 17 | alice | 555888777444 |\n",
      "| carro | 1 | lucas | 555444777222 |\n",
      "| manga | 17 | sivaldo | 666555444111 |\n",
      "Total de vendas: 80384.0\n",
      "1: Adicionar produto ao estoque\n",
      "2: Vender produto\n",
      "3: Ver total do estoque\n",
      "4: Ver total de vendas\n",
      "5: Sair\n"
     ]
    },
    {
     "name": "stdin",
     "output_type": "stream",
     "text": [
      "Escolha uma opção:  sair\n"
     ]
    },
    {
     "name": "stdout",
     "output_type": "stream",
     "text": [
      "Opção inválida. Tente novamente.\n",
      "1: Adicionar produto ao estoque\n",
      "2: Vender produto\n",
      "3: Ver total do estoque\n",
      "4: Ver total de vendas\n",
      "5: Sair\n"
     ]
    },
    {
     "name": "stdin",
     "output_type": "stream",
     "text": [
      "Escolha uma opção:  sair\n"
     ]
    },
    {
     "name": "stdout",
     "output_type": "stream",
     "text": [
      "Opção inválida. Tente novamente.\n",
      "1: Adicionar produto ao estoque\n",
      "2: Vender produto\n",
      "3: Ver total do estoque\n",
      "4: Ver total de vendas\n",
      "5: Sair\n"
     ]
    },
    {
     "name": "stdin",
     "output_type": "stream",
     "text": [
      "Escolha uma opção:  5\n"
     ]
    }
   ],
   "source": [
    "class SistemaVendas:\n",
    "    def __init__(self):\n",
    "        self.estoque_minimo = {\n",
    "            'alimentos': 50,\n",
    "            'bebidas': 75,\n",
    "            'limpeza': 30\n",
    "        }\n",
    "        self.estoque_atual = {}\n",
    "        self.categorias_produto = {}\n",
    "        self.precos_unitarios = {}\n",
    "        self.vendas = {}\n",
    "        self.clientes = {}\n",
    "\n",
    "    def adicionar_produto(self):\n",
    "        while True:\n",
    "            produto = input('Digite o nome do produto ou \"sair\" para voltar ao menu: ')\n",
    "            if produto.lower() == 'sair':\n",
    "                break\n",
    "            categoria = input('Digite a categoria do produto: ')\n",
    "            preco_unitario = float(input('Digite o preço unitário do produto: '))\n",
    "            quantidade = int(input('Digite a quantidade a ser adicionada ao estoque: '))\n",
    "            if produto in self.categorias_produto:\n",
    "                print(f'O produto {produto} já está cadastrado na categoria {self.categorias_produto[produto]}. Adicionando à categoria existente.')\n",
    "                categoria = self.categorias_produto[produto]\n",
    "            self.estoque_atual[produto] = self.estoque_atual.get(produto, 0) + quantidade\n",
    "            self.categorias_produto[produto] = categoria\n",
    "            self.precos_unitarios[produto] = preco_unitario\n",
    "            if self.estoque_atual[produto] < self.estoque_minimo.get(categoria, 0):\n",
    "                print(f'Solicitar {produto} à equipe de compras, temos apenas {self.estoque_atual[produto]} unidades em estoque.')\n",
    "\n",
    "    def vender_produto(self):\n",
    "        while True:\n",
    "            produto = input('Digite o nome do produto ou \"sair\" para voltar ao menu: ')\n",
    "            if produto.lower() == 'sair':\n",
    "                break\n",
    "            quantidade = int(input('Digite a quantidade a ser vendida: '))\n",
    "            if produto in self.estoque_atual and self.estoque_atual[produto] >= quantidade:\n",
    "                nome_cliente = input('Digite o nome do cliente: ')\n",
    "                cpf_cliente = input('Digite o CPF do cliente: ')\n",
    "                if (nome_cliente, produto) in self.clientes:\n",
    "                    print(f'O cliente {nome_cliente} já comprou o produto {produto}.')\n",
    "                    continue\n",
    "                self.estoque_atual[produto] -= quantidade\n",
    "                self.vendas[produto] = self.vendas.get(produto, 0) + quantidade\n",
    "                self.clientes[(nome_cliente, produto)] = cpf_cliente\n",
    "                print(f'Vendido {quantidade} de {produto} para {nome_cliente} (CPF: {cpf_cliente}).')\n",
    "            else:\n",
    "                print(f'Produto {produto} não disponível em quantidade suficiente para venda.')\n",
    "\n",
    "    def total_estoque(self):\n",
    "        print('| Produto | Quantidade | Categoria | Preço Unitário | Valor Total |')\n",
    "        print('|---------|------------|-----------|----------------|-------------|') \n",
    "        for produto, quantidade in self.estoque_atual.items():\n",
    "            valor_total = quantidade * self.precos_unitarios[produto]\n",
    "            print(f'| {produto} | {quantidade} | {self.categorias_produto[produto]} | {self.precos_unitarios[produto]} | {valor_total} |')\n",
    "        print('|---------|------------|-----------|----------------|-------------|') \n",
    "    def total_vendas(self):\n",
    "        print('| Produto | Quantidade Vendida | Cliente | CPF |')\n",
    "        print('|---------|--------------------|---------|-----|')\n",
    "        total_vendas = 0\n",
    "        for (cliente, produto), cpf in self.clientes.items():\n",
    "            quantidade = self.vendas[produto]\n",
    "            valor_total = quantidade * self.precos_unitarios[produto]\n",
    "            total_vendas += valor_total\n",
    "            print(f'| {produto} | {quantidade} | {cliente} | {cpf} |')\n",
    "        print(f'Total de vendas: {total_vendas}')\n",
    "\n",
    "    def executar(self):\n",
    "        while True:\n",
    "            print('1: Adicionar produto ao estoque')\n",
    "            print('2: Vender produto')\n",
    "            print('3: Ver total do estoque')\n",
    "            print('4: Ver total de vendas')\n",
    "            print('5: Sair')\n",
    "            opcao = input('Escolha uma opção: ')\n",
    "            if opcao == '1':\n",
    "                self.adicionar_produto()\n",
    "            elif opcao == '2':\n",
    "                self.vender_produto()\n",
    "            elif opcao == '3':\n",
    "                self.total_estoque()\n",
    "            elif opcao == '4':\n",
    "                self.total_vendas()\n",
    "            elif opcao == '5':\n",
    "                break\n",
    "            else:\n",
    "                print('Opção inválida. Tente novamente.')\n",
    "\n",
    "sistema = SistemaVendas()\n",
    "sistema.executar()"
   ]
  },
  {
   "cell_type": "code",
   "execution_count": null,
   "id": "5e642b90-9183-4600-89f7-d01395b6f69c",
   "metadata": {},
   "outputs": [
    {
     "name": "stdout",
     "output_type": "stream",
     "text": [
      "1: Adicionar produto ao estoque\n",
      "2: Vender produto\n",
      "3: Ver total do estoque\n",
      "4: Ver total de vendas\n",
      "5: Sair\n"
     ]
    },
    {
     "name": "stdin",
     "output_type": "stream",
     "text": [
      "Escolha uma opção:  manga\n"
     ]
    },
    {
     "name": "stdout",
     "output_type": "stream",
     "text": [
      "Opção inválida. Tente novamente.\n",
      "1: Adicionar produto ao estoque\n",
      "2: Vender produto\n",
      "3: Ver total do estoque\n",
      "4: Ver total de vendas\n",
      "5: Sair\n"
     ]
    },
    {
     "name": "stdin",
     "output_type": "stream",
     "text": [
      "Escolha uma opção:  1\n",
      "Digite o nome do produto ou \"sair\" para voltar ao menu:  manga\n",
      "Digite a categoria do produto:  alim\n",
      "Digite o preço unitário do produto:  3\n",
      "Digite a quantidade a ser adicionada ao estoque:  1000\n",
      "Digite o nome do produto ou \"sair\" para voltar ao menu:  arroz\n",
      "Digite a categoria do produto:  alim\n",
      "Digite o preço unitário do produto:  25\n",
      "Digite a quantidade a ser adicionada ao estoque:  50\n",
      "Digite o nome do produto ou \"sair\" para voltar ao menu:  prego\n",
      "Digite a categoria do produto:  construc\n",
      "Digite o preço unitário do produto:  18\n",
      "Digite a quantidade a ser adicionada ao estoque:  60\n",
      "Digite o nome do produto ou \"sair\" para voltar ao menu:  sair\n"
     ]
    },
    {
     "name": "stdout",
     "output_type": "stream",
     "text": [
      "1: Adicionar produto ao estoque\n",
      "2: Vender produto\n",
      "3: Ver total do estoque\n",
      "4: Ver total de vendas\n",
      "5: Sair\n"
     ]
    },
    {
     "name": "stdin",
     "output_type": "stream",
     "text": [
      "Escolha uma opção:  3\n"
     ]
    },
    {
     "name": "stdout",
     "output_type": "stream",
     "text": [
      "| Produto | Quantidade | Categoria | Preço Unitário | Valor Total |\n",
      "|---------|------------|-----------|----------------|-------------|\n",
      "| manga   | 1000       | alim      | 3.0            | 3000.0      |\n",
      "| arroz   | 50         | alim      | 25.0           | 1250.0      |\n",
      "| prego   | 60         | construc  | 18.0           | 1080.0      |\n",
      "1: Adicionar produto ao estoque\n",
      "2: Vender produto\n",
      "3: Ver total do estoque\n",
      "4: Ver total de vendas\n",
      "5: Sair\n"
     ]
    },
    {
     "name": "stdin",
     "output_type": "stream",
     "text": [
      "Escolha uma opção:  2\n",
      "Digite o nome do produto ou \"sair\" para voltar ao menu:  manga\n",
      "Digite a quantidade a ser vendida:  50\n",
      "Digite o nome do cliente:  sivaldo\n",
      "Digite o CPF do cliente:  68828466655\n"
     ]
    },
    {
     "name": "stdout",
     "output_type": "stream",
     "text": [
      "Vendido 50 de manga para sivaldo (CPF: 68828466655).\n"
     ]
    },
    {
     "name": "stdin",
     "output_type": "stream",
     "text": [
      "Digite o nome do produto ou \"sair\" para voltar ao menu:  arroz\n",
      "Digite a quantidade a ser vendida:  30\n",
      "Digite o nome do cliente:  Alice\n",
      "Digite o CPF do cliente:  33355544472\n"
     ]
    },
    {
     "name": "stdout",
     "output_type": "stream",
     "text": [
      "Vendido 30 de arroz para Alice (CPF: 33355544472).\n"
     ]
    },
    {
     "name": "stdin",
     "output_type": "stream",
     "text": [
      "Digite o nome do produto ou \"sair\" para voltar ao menu:  prego\n",
      "Digite a quantidade a ser vendida:  20\n",
      "Digite o nome do cliente:  Lucas\n",
      "Digite o CPF do cliente:  55544477763\n"
     ]
    },
    {
     "name": "stdout",
     "output_type": "stream",
     "text": [
      "Vendido 20 de prego para Lucas (CPF: 55544477763).\n"
     ]
    },
    {
     "name": "stdin",
     "output_type": "stream",
     "text": [
      "Digite o nome do produto ou \"sair\" para voltar ao menu:  sair\n"
     ]
    },
    {
     "name": "stdout",
     "output_type": "stream",
     "text": [
      "1: Adicionar produto ao estoque\n",
      "2: Vender produto\n",
      "3: Ver total do estoque\n",
      "4: Ver total de vendas\n",
      "5: Sair\n"
     ]
    },
    {
     "name": "stdin",
     "output_type": "stream",
     "text": [
      "Escolha uma opção:  4\n"
     ]
    },
    {
     "name": "stdout",
     "output_type": "stream",
     "text": [
      "| Produto | Quantidade Vendida | Cliente | CPF |\n",
      "|---------|--------------------|---------|-----|\n",
      "| manga   | 50                 | sivaldo | 68828466655 |\n",
      "| arroz   | 30                 | Alice   | 33355544472 |\n",
      "| prego   | 20                 | Lucas   | 55544477763 |\n",
      "Total de vendas: 1260.0\n",
      "1: Adicionar produto ao estoque\n",
      "2: Vender produto\n",
      "3: Ver total do estoque\n",
      "4: Ver total de vendas\n",
      "5: Sair\n"
     ]
    },
    {
     "name": "stdin",
     "output_type": "stream",
     "text": [
      "Escolha uma opção:  2\n"
     ]
    }
   ],
   "source": [
    "class SistemaVendas:\n",
    "    def __init__(self):\n",
    "        self.estoque_minimo = {\n",
    "            'alimentos': 50,\n",
    "            'bebidas': 75,\n",
    "            'limpeza': 30\n",
    "        }\n",
    "        self.estoque_atual = {}\n",
    "        self.categorias_produto = {}\n",
    "        self.precos_unitarios = {}\n",
    "        self.vendas = {}\n",
    "        self.clientes = {}\n",
    "\n",
    "    def adicionar_produto(self):\n",
    "        while True:\n",
    "            produto = input('Digite o nome do produto ou \"sair\" para voltar ao menu: ')\n",
    "            if produto.lower() == 'sair':\n",
    "                break\n",
    "            categoria = input('Digite a categoria do produto: ')\n",
    "            preco_unitario = float(input('Digite o preço unitário do produto: '))\n",
    "            quantidade = int(input('Digite a quantidade a ser adicionada ao estoque: '))\n",
    "            if produto in self.categorias_produto:\n",
    "                print(f'O produto {produto} já está cadastrado na categoria {self.categorias_produto[produto]}. Adicionando à categoria existente.')\n",
    "                categoria = self.categorias_produto[produto]\n",
    "            self.estoque_atual[produto] = self.estoque_atual.get(produto, 0) + quantidade\n",
    "            self.categorias_produto[produto] = categoria\n",
    "            self.precos_unitarios[produto] = preco_unitario\n",
    "            if self.estoque_atual[produto] < self.estoque_minimo.get(categoria, 0):\n",
    "                print(f'Solicitar {produto} à equipe de compras, temos apenas {self.estoque_atual[produto]} unidades em estoque.')\n",
    "\n",
    "    def vender_produto(self):\n",
    "        while True:\n",
    "            produto = input('Digite o nome do produto ou \"sair\" para voltar ao menu: ')\n",
    "            if produto.lower() == 'sair':\n",
    "                break\n",
    "            quantidade = int(input('Digite a quantidade a ser vendida: '))\n",
    "            if produto in self.estoque_atual and self.estoque_atual[produto] >= quantidade:\n",
    "                nome_cliente = input('Digite o nome do cliente: ')\n",
    "                cpf_cliente = input('Digite o CPF do cliente: ')\n",
    "                if (nome_cliente, produto) in self.clientes:\n",
    "                    print(f'O cliente {nome_cliente} já comprou o produto {produto}.')\n",
    "                    continue\n",
    "                self.estoque_atual[produto] -= quantidade\n",
    "                self.vendas[produto] = self.vendas.get(produto, 0) + quantidade\n",
    "                self.clientes[(nome_cliente, produto)] = cpf_cliente\n",
    "                print(f'Vendido {quantidade} de {produto} para {nome_cliente} (CPF: {cpf_cliente}).')\n",
    "            else:\n",
    "                print(f'Produto {produto} não disponível em quantidade suficiente para venda.')\n",
    "\n",
    "    def total_estoque(self):\n",
    "        print('| Produto | Quantidade | Categoria | Preço Unitário | Valor Total |')\n",
    "        print('|---------|------------|-----------|----------------|-------------|')\n",
    "        for produto, quantidade in self.estoque_atual.items():\n",
    "            valor_total = quantidade * self.precos_unitarios[produto]\n",
    "            print(f'| {produto.ljust(7)} | {str(quantidade).ljust(10)} | {self.categorias_produto[produto].ljust(9)} | {str(self.precos_unitarios[produto]).ljust(14)} | {str(valor_total).ljust(11)} |')\n",
    "\n",
    "    def total_vendas(self):\n",
    "        print('| Produto | Quantidade Vendida | Cliente | CPF |')\n",
    "        print('|---------|--------------------|---------|-----|')\n",
    "        total_vendas = 0\n",
    "        for (cliente, produto), cpf in self.clientes.items():\n",
    "            quantidade = self.vendas[produto]\n",
    "            valor_total = quantidade * self.precos_unitarios[produto]\n",
    "            total_vendas += valor_total\n",
    "            print(f'| {produto.ljust(7)} | {str(quantidade).ljust(18)} | {cliente.ljust(7)} | {cpf.ljust(3)} |')\n",
    "        print(f'Total de vendas: {total_vendas}')\n",
    "\n",
    "    def executar(self):\n",
    "        while True:\n",
    "            print('1: Adicionar produto ao estoque')\n",
    "            print('2: Vender produto')\n",
    "            print('3: Ver total do estoque')\n",
    "            print('4: Ver total de vendas')\n",
    "            print('5: Sair')\n",
    "            opcao = input('Escolha uma opção: ')\n",
    "            if opcao == '1':\n",
    "                self.adicionar_produto()\n",
    "            elif opcao == '2':\n",
    "                self.vender_produto()\n",
    "            elif opcao == '3':\n",
    "                self.total_estoque()\n",
    "            elif opcao == '4':\n",
    "                self.total_vendas()\n",
    "            elif opcao == '5':\n",
    "                break\n",
    "            else:\n",
    "                print('Opção inválida. Tente novamente.')\n",
    "\n",
    "sistema = SistemaVendas()\n",
    "sistema.executar()\n"
   ]
  }
 ],
 "metadata": {
  "kernelspec": {
   "display_name": "Python 3 (ipykernel)",
   "language": "python",
   "name": "python3"
  },
  "language_info": {
   "codemirror_mode": {
    "name": "ipython",
    "version": 3
   },
   "file_extension": ".py",
   "mimetype": "text/x-python",
   "name": "python",
   "nbconvert_exporter": "python",
   "pygments_lexer": "ipython3",
   "version": "3.11.7"
  }
 },
 "nbformat": 4,
 "nbformat_minor": 5
}
