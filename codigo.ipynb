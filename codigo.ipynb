{
 "cells": [
  {
   "cell_type": "code",
   "execution_count": 2,
   "metadata": {},
   "outputs": [
    {
     "name": "stdout",
     "output_type": "stream",
     "text": [
      "meu codigo novo\n"
     ]
    }
   ],
   "source": [
    "print('meu codigo novo')"
   ]
  },
  {
   "cell_type": "code",
   "execution_count": 3,
   "metadata": {},
   "outputs": [
    {
     "name": "stdout",
     "output_type": "stream",
     "text": [
      "meu codigo novo\n"
     ]
    }
   ],
   "source": [
    "print('meu codigo novo')"
   ]
  },
  {
   "cell_type": "code",
   "execution_count": 1,
   "metadata": {},
   "outputs": [
    {
     "name": "stdout",
     "output_type": "stream",
     "text": [
      "Busca Sequencial: Valor encontrado no índice 4\n",
      "Busca Binária: Valor encontrado no índice 4\n"
     ]
    }
   ],
   "source": [
    "def busca_sequencial(lista, valor):\n",
    "    for i in range(len(lista)):\n",
    "        if lista[i] == valor:\n",
    "            return i\n",
    "    return -1\n",
    "\n",
    "# Busca Binária\n",
    "def busca_binaria(lista, valor):\n",
    "    esquerda, direita = 0, len(lista) - 1\n",
    "    while esquerda <= direita:\n",
    "        meio = (esquerda + direita) // 2\n",
    "        if lista[meio] == valor:\n",
    "            return meio\n",
    "        elif lista[meio] < valor:\n",
    "            esquerda = meio + 1\n",
    "        else:\n",
    "            direita = meio - 1\n",
    "    return -1\n",
    "\n",
    "# Lista fornecida\n",
    "lista_numeros = [5, 7, 8, 14, 24, 29, 56, 77, 78, 88]\n",
    "\n",
    "# Testando as buscas\n",
    "valor_procurado = 24\n",
    "print(\"Busca Sequencial: Valor encontrado no índice\", busca_sequencial(lista_numeros, valor_procurado))\n",
    "print(\"Busca Binária: Valor encontrado no índice\", busca_binaria(lista_numeros, valor_procurado))"
   ]
  },
  {
   "cell_type": "code",
   "execution_count": 2,
   "metadata": {},
   "outputs": [
    {
     "name": "stdout",
     "output_type": "stream",
     "text": [
      "Busca Sequencial - Valor 24 encontrado na 5ª tentativa\n",
      "Busca Binária - Valor 24 encontrado na 1ª tentativa\n",
      "Busca Sequencial - Valor 77 encontrado na 8ª tentativa\n"
     ]
    }
   ],
   "source": [
    "def busca_sequencial(lista, valor):\n",
    "    tentativas = 0\n",
    "    for i in lista:\n",
    "        tentativas += 1\n",
    "        if i == valor:\n",
    "            return tentativas\n",
    "    return -1\n",
    "\n",
    "# Função de busca binária\n",
    "def busca_binaria(lista, valor):\n",
    "    tentativas = 0\n",
    "    esquerda, direita = 0, len(lista) - 1\n",
    "    while esquerda <= direita:\n",
    "        tentativas += 1\n",
    "        meio = (esquerda + direita) // 2\n",
    "        if lista[meio] == valor:\n",
    "            return tentativas\n",
    "        elif lista[meio] < valor:\n",
    "            esquerda = meio + 1\n",
    "        else:\n",
    "            direita = meio - 1\n",
    "    return -1\n",
    "\n",
    "# Lista de números\n",
    "lista_numeros = [5, 7, 8, 14, 24, 29, 56, 77, 78, 88]\n",
    "\n",
    "# Testando os algoritmos de busca\n",
    "tentativas_sequencial_24 = busca_sequencial(lista_numeros, 24)\n",
    "tentativas_binaria_24 = busca_binaria(lista_numeros, 24)\n",
    "tentativas_sequencial_77 = busca_sequencial(lista_numeros, 77)\n",
    "\n",
    "# Resultados\n",
    "print(f\"Busca Sequencial - Valor 24 encontrado na {tentativas_sequencial_24}ª tentativa\")\n",
    "print(f\"Busca Binária - Valor 24 encontrado na {tentativas_binaria_24}ª tentativa\")\n",
    "print(f\"Busca Sequencial - Valor 77 encontrado na {tentativas_sequencial_77}ª tentativa\")"
   ]
  },
  {
   "cell_type": "code",
   "execution_count": 3,
   "metadata": {},
   "outputs": [
    {
     "name": "stdout",
     "output_type": "stream",
     "text": [
      "Busca Sequencial - Valor 07 encontrado na 2ª tentativa\n",
      "Busca Binária - Valor 07 encontrado na 2ª tentativa\n",
      "Busca Sequencial - Valor 24 encontrado na 5ª tentativa\n",
      "Busca Binária - Valor 24 encontrado na 1ª tentativa\n",
      "Busca Sequencial - Valor 77 encontrado na 8ª tentativa\n"
     ]
    }
   ],
   "source": [
    "# Função de busca sequencial\n",
    "def busca_sequencial(lista, valor):\n",
    "    tentativas = 0\n",
    "    for i in lista:\n",
    "        tentativas += 1\n",
    "        if i == valor:\n",
    "            return tentativas\n",
    "    return -1\n",
    "\n",
    "# Função de busca binária\n",
    "def busca_binaria(lista, valor):\n",
    "    tentativas = 0\n",
    "    esquerda, direita = 0, len(lista) - 1\n",
    "    while esquerda <= direita:\n",
    "        tentativas += 1\n",
    "        meio = (esquerda + direita) // 2\n",
    "        if lista[meio] == valor:\n",
    "            return tentativas\n",
    "        elif lista[meio] < valor:\n",
    "            esquerda = meio + 1\n",
    "        else:\n",
    "            direita = meio - 1\n",
    "    return -1\n",
    "\n",
    "# Lista de números\n",
    "lista_numeros = [5, 7, 8, 14, 24, 29, 56, 77, 78, 88]\n",
    "\n",
    "# Testando os algoritmos de busca\n",
    "tentativas_sequencial_07 = busca_sequencial(lista_numeros, 7)\n",
    "tentativas_binaria_07 = busca_binaria(lista_numeros, 7)\n",
    "tentativas_sequencial_24 = busca_sequencial(lista_numeros, 24)\n",
    "tentativas_binaria_24 = busca_binaria(lista_numeros, 24)\n",
    "tentativas_sequencial_77 = busca_sequencial(lista_numeros, 77)\n",
    "\n",
    "# Resultados\n",
    "print(f\"Busca Sequencial - Valor 07 encontrado na {tentativas_sequencial_07}ª tentativa\")\n",
    "print(f\"Busca Binária - Valor 07 encontrado na {tentativas_binaria_07}ª tentativa\")\n",
    "print(f\"Busca Sequencial - Valor 24 encontrado na {tentativas_sequencial_24}ª tentativa\")\n",
    "print(f\"Busca Binária - Valor 24 encontrado na {tentativas_binaria_24}ª tentativa\")\n",
    "print(f\"Busca Sequencial - Valor 77 encontrado na {tentativas_sequencial_77}ª tentativa\")"
   ]
  }
 ],
 "metadata": {
  "kernelspec": {
   "display_name": "Python 3 (ipykernel)",
   "language": "python",
   "name": "python3"
  },
  "language_info": {
   "codemirror_mode": {
    "name": "ipython",
    "version": 3
   },
   "file_extension": ".py",
   "mimetype": "text/x-python",
   "name": "python",
   "nbconvert_exporter": "python",
   "pygments_lexer": "ipython3",
   "version": "3.11.7"
  }
 },
 "nbformat": 4,
 "nbformat_minor": 4
}
