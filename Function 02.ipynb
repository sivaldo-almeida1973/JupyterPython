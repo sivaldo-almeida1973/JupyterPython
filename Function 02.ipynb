{
 "cells": [
  {
   "cell_type": "markdown",
   "metadata": {},
   "source": [
    "# Retornar um valor na Function Python\n",
    "\n",
    "### Estrutura Básica"
   ]
  },
  {
   "cell_type": "raw",
   "metadata": {},
   "source": [
    "def nome_funcao():\n",
    "    return valor_final"
   ]
  },
  {
   "cell_type": "markdown",
   "metadata": {},
   "source": [
    "- Exemplo: vamos criar uma função de cadastro de um Produto. Essa função deve garantir que o produto cadastrado está em letra minúscula."
   ]
  },
  {
   "cell_type": "code",
   "execution_count": 1,
   "metadata": {},
   "outputs": [],
   "source": [
    "def cadastrar_produto():\n",
    "    produto = input('Digite o nome do produto que deseja cadastrar')\n",
    "    produto = produto.casefold() # corrige erros -> casefold()\n",
    "    produto = produto.strip()  #remover espaços -> strip() \n",
    "    return produto  #vai retornar o valor de produto para fora da funcao\n"
   ]
  },
  {
   "cell_type": "code",
   "execution_count": 3,
   "metadata": {},
   "outputs": [
    {
     "name": "stdin",
     "output_type": "stream",
     "text": [
      "Digite o nome do produto que deseja cadastrar manga\n",
      "Digite o nome do produto que deseja cadastrar maça\n",
      "Digite o nome do produto que deseja cadastrar leite\n",
      "Digite o nome do produto que deseja cadastrar alho\n",
      "Digite o nome do produto que deseja cadastrar arroz\n"
     ]
    },
    {
     "name": "stdout",
     "output_type": "stream",
     "text": [
      "arroz\n"
     ]
    }
   ],
   "source": [
    "for i in range(5):\n",
    "    lista_produto = cadastrar_produto()\n",
    "print(lista_produto)\n"
   ]
  }
 ],
 "metadata": {
  "kernelspec": {
   "display_name": "Python 3 (ipykernel)",
   "language": "python",
   "name": "python3"
  },
  "language_info": {
   "codemirror_mode": {
    "name": "ipython",
    "version": 3
   },
   "file_extension": ".py",
   "mimetype": "text/x-python",
   "name": "python",
   "nbconvert_exporter": "python",
   "pygments_lexer": "ipython3",
   "version": "3.11.7"
  }
 },
 "nbformat": 4,
 "nbformat_minor": 4
}
