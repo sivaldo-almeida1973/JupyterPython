{
 "cells": [
  {
   "cell_type": "markdown",
   "id": "6517b504-ec9b-4fb4-8d23-a712e2333351",
   "metadata": {},
   "source": [
    "meu primeiro programa hashtag"
   ]
  },
  {
   "cell_type": "code",
   "execution_count": 7,
   "id": "c217c638-f428-444f-a17f-fdde48ac1c3e",
   "metadata": {},
   "outputs": [
    {
     "name": "stdout",
     "output_type": "stream",
     "text": [
      "223\n"
     ]
    }
   ],
   "source": [
    "print(123 + 100)"
   ]
  },
  {
   "cell_type": "code",
   "execution_count": 9,
   "id": "6ab46856-7745-4912-9ffa-dfedbb7997b7",
   "metadata": {},
   "outputs": [
    {
     "name": "stdout",
     "output_type": "stream",
     "text": [
      "50\n"
     ]
    }
   ],
   "source": [
    "print(10*5)"
   ]
  },
  {
   "cell_type": "code",
   "execution_count": 11,
   "id": "7246e4d2-974d-47b7-8e6e-d7cac6b397ea",
   "metadata": {},
   "outputs": [
    {
     "name": "stdout",
     "output_type": "stream",
     "text": [
      "100000\n"
     ]
    }
   ],
   "source": [
    "print(10**5)"
   ]
  },
  {
   "cell_type": "code",
   "execution_count": 15,
   "id": "5d484b7a-3eb0-47d0-b33b-3e5f2337dcbb",
   "metadata": {},
   "outputs": [
    {
     "name": "stdout",
     "output_type": "stream",
     "text": [
      "3.2\n"
     ]
    }
   ],
   "source": [
    "print(16/5)"
   ]
  },
  {
   "cell_type": "code",
   "execution_count": 16,
   "id": "79ae18eb-1fbf-4c59-98c6-5c4fe2168ad3",
   "metadata": {},
   "outputs": [
    {
     "name": "stdout",
     "output_type": "stream",
     "text": [
      "3\n"
     ]
    }
   ],
   "source": [
    "print(16//5)"
   ]
  },
  {
   "cell_type": "code",
   "execution_count": 18,
   "id": "2be0bb72-1405-4f84-9262-829f52bcfc98",
   "metadata": {},
   "outputs": [
    {
     "name": "stdout",
     "output_type": "stream",
     "text": [
      "3\n"
     ]
    }
   ],
   "source": [
    "print(18%5)"
   ]
  }
 ],
 "metadata": {
  "kernelspec": {
   "display_name": "Python 3 (ipykernel)",
   "language": "python",
   "name": "python3"
  },
  "language_info": {
   "codemirror_mode": {
    "name": "ipython",
    "version": 3
   },
   "file_extension": ".py",
   "mimetype": "text/x-python",
   "name": "python",
   "nbconvert_exporter": "python",
   "pygments_lexer": "ipython3",
   "version": "3.11.7"
  }
 },
 "nbformat": 4,
 "nbformat_minor": 5
}
