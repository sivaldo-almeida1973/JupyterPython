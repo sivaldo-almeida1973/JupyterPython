{
 "cells": [
  {
   "cell_type": "markdown",
   "metadata": {},
   "source": [
    "# sort (ou sorted) com function\n",
    "\n",
    "### Descrição:\n",
    "\n",
    "Até agora no programa, usamos várias vezes o .sort() para ordenar listas\n",
    "\n",
    "Mas o método sort tem um parâmetro que nunca usamos e que agora sabemos usar."
   ]
  },
  {
   "cell_type": "code",
   "execution_count": 1,
   "metadata": {},
   "outputs": [
    {
     "name": "stdout",
     "output_type": "stream",
     "text": [
      "['IPad', 'IPhone 11', 'IPhone x', 'airpods', 'apple tv', 'apple watch', 'mac', 'mac book']\n"
     ]
    }
   ],
   "source": [
    "produtos = ['apple tv', 'mac', 'IPhone x', 'IPhone 11', 'IPad', 'apple watch', 'mac book', 'airpods']\n",
    "produtos.sort() #ordena uma lista\n",
    "print(produtos)"
   ]
  },
  {
   "cell_type": "markdown",
   "metadata": {},
   "source": [
    "- Como faríamos para ordenar corretamente?"
   ]
  },
  {
   "cell_type": "code",
   "execution_count": 10,
   "metadata": {},
   "outputs": [
    {
     "name": "stdout",
     "output_type": "stream",
     "text": [
      "['airpods', 'apple tv', 'apple watch', 'IPad', 'IPhone 11', 'IPhone x', 'mac', 'mac book']\n"
     ]
    }
   ],
   "source": [
    "#ira converter em minusculas e ordenar alfabeticamente(casefold) ou maiusculas (upper)\n",
    "produtos.sort(key=str.casefold)\n",
    "\n",
    "print(produtos)"
   ]
  },
  {
   "cell_type": "markdown",
   "metadata": {},
   "source": [
    "### Outro exemplo: como ordenar um dicionário de acordo com o valor"
   ]
  },
  {
   "cell_type": "code",
   "execution_count": 14,
   "metadata": {},
   "outputs": [],
   "source": [
    "#para ordenar um dicionario, precisa converte-lo em uma lista antes\n",
    "vendas_produtos = {'vinho': 100, 'cafeiteira': 150, 'microondas': 300, 'iphone': 5500}"
   ]
  },
  {
   "cell_type": "markdown",
   "metadata": {},
   "source": [
    "- Queremos listar da maior quantidade de vendas para a menor, para enviar como report para o diretor, por exemplo"
   ]
  },
  {
   "cell_type": "code",
   "execution_count": 24,
   "metadata": {},
   "outputs": [
    {
     "name": "stdout",
     "output_type": "stream",
     "text": [
      "[('iphone', 5500), ('microondas', 300), ('cafeiteira', 150), ('vinho', 100)]\n",
      "{'iphone': 5500, 'microondas': 300, 'cafeiteira': 150, 'vinho': 100}\n"
     ]
    }
   ],
   "source": [
    "\n",
    "#para ordenar criar uma função\n",
    "def segundo_item(tupla):\n",
    "    return tupla[1]#segundo item\n",
    "\n",
    "#converter dicionario em uma lista de tuplas(chave, valor)\n",
    "lista_vendas = list(vendas_produtos.items())\n",
    "#ordenar do maior para o menor(reverse)\n",
    "lista_vendas.sort(key=segundo_item, reverse=True)\n",
    "print(lista_vendas)\n",
    "#tranformar em dicionario novamente\n",
    "print(dict(lista_vendas))"
   ]
  }
 ],
 "metadata": {
  "kernelspec": {
   "display_name": "Python 3 (ipykernel)",
   "language": "python",
   "name": "python3"
  },
  "language_info": {
   "codemirror_mode": {
    "name": "ipython",
    "version": 3
   },
   "file_extension": ".py",
   "mimetype": "text/x-python",
   "name": "python",
   "nbconvert_exporter": "python",
   "pygments_lexer": "ipython3",
   "version": "3.11.7"
  }
 },
 "nbformat": 4,
 "nbformat_minor": 4
}
