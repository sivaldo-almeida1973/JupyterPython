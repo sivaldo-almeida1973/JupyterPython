{
 "cells": [
  {
   "cell_type": "markdown",
   "metadata": {},
   "source": [
    "# Python e API\n",
    "\n",
    "### O que é uma API?\n",
    "\n",
    "- É um conjunto de códigos para usar um serviço/site/aplicativo específico. Cada site/ferramenta tem sua própria API. É importante que você saiba ler as APIs que precisar para saber usar\n",
    "\n",
    "- Um dos padrões mais comuns em API é pegar informações em formato json, uma espécie de dicionário que precisa ser tratada no Python para podermos analisar\n",
    "\n",
    "- As possibilidades de API são infinitas, vamos fazer 2 exemplos aqui: Cotação de Moedas e Envio de SMS.\n",
    "\n",
    "- Sites como Google, Youtube, Facebook, Twitter, ArcGis e praticamente qualquer ferramenta/site grande tem uma API.\n",
    "\n",
    "### O que precisamos:\n",
    "\n",
    "- Quase sempre você precisa de uma conta para consumir uma API. Algumas APIs são abertas, como a https://docs.awesomeapi.com.br/api-de-moedas , mas em muitos casos (como veremos no caso do SMS) vamos precisar ter uma conta ativa para consumir a API\n",
    "\n",
    "- A Documentação da API (ou exemplos da internet) é a chave para conseguir usar uma API "
   ]
  },
  {
   "cell_type": "markdown",
   "metadata": {},
   "source": [
    "#### Pegar a Cotação Atual de Todas as Moedas "
   ]
  },
  {
   "cell_type": "code",
   "execution_count": 7,
   "metadata": {},
   "outputs": [
    {
     "name": "stdout",
     "output_type": "stream",
     "text": [
      "{'USD': {'code': 'USD', 'codein': 'BRL', 'name': 'Dólar Americano/Real Brasileiro', 'high': '4.9935', 'low': '4.972', 'varBid': '-0.002', 'pctChange': '-0.04', 'bid': '4.9786', 'ask': '4.9791', 'timestamp': '1711568183', 'create_date': '2024-03-27 16:36:23'}, 'USDT': {'code': 'USD', 'codein': 'BRLT', 'name': 'Dólar Americano/Real Brasileiro Turismo', 'high': '5.01', 'low': '4.97', 'varBid': '-0.01', 'pctChange': '-0.2', 'bid': '4.85', 'ask': '5.15', 'timestamp': '1711568100', 'create_date': '2024-03-27 16:35:00'}, 'CAD': {'code': 'CAD', 'codein': 'BRL', 'name': 'Dólar Canadense/Real Brasileiro', 'high': '3.6749', 'low': '3.6578', 'varBid': '0.0018', 'pctChange': '0.05', 'bid': '3.6661', 'ask': '3.6716', 'timestamp': '1711568073', 'create_date': '2024-03-27 16:34:33'}, 'GBP': {'code': 'GBP', 'codein': 'BRL', 'name': 'Libra Esterlina/Real Brasileiro', 'high': '6.2976', 'low': '6.2721', 'varBid': '0.0003', 'pctChange': '0', 'bid': '6.2886', 'ask': '6.2924', 'timestamp': '1711568070', 'create_date': '2024-03-27 16:34:30'}, 'ARS': {'code': 'ARS', 'codein': 'BRL', 'name': 'Peso Argentino/Real Brasileiro', 'high': '0.0058', 'low': '0.0058', 'varBid': '0', 'pctChange': '0', 'bid': '0.0058', 'ask': '0.0058', 'timestamp': '1711568073', 'create_date': '2024-03-27 16:34:33'}, 'BTC': {'code': 'BTC', 'codein': 'BRL', 'name': 'Bitcoin/Real Brasileiro', 'high': '358950', 'low': '342403', 'varBid': '-5126', 'pctChange': '-1.47', 'bid': '343140', 'ask': '343307', 'timestamp': '1711568254', 'create_date': '2024-03-27 16:37:34'}, 'LTC': {'code': 'LTC', 'codein': 'BRL', 'name': 'Litecoin/Real Brasileiro', 'high': '494.36', 'low': '465', 'varBid': '11.16', 'pctChange': '2.4', 'bid': '465.49', 'ask': '476.69', 'timestamp': '1711568254', 'create_date': '2024-03-27 16:37:34'}, 'EUR': {'code': 'EUR', 'codein': 'BRL', 'name': 'Euro/Real Brasileiro', 'high': '5.4017', 'low': '5.3813', 'varBid': '-0.0058', 'pctChange': '-0.11', 'bid': '5.3857', 'ask': '5.3937', 'timestamp': '1711568077', 'create_date': '2024-03-27 16:34:37'}, 'JPY': {'code': 'JPY', 'codein': 'BRL', 'name': 'Iene Japonês/Real Brasileiro', 'high': '0.03299', 'low': '0.03276', 'varBid': '0.0001', 'pctChange': '0.3', 'bid': '0.0329', 'ask': '0.03295', 'timestamp': '1711568069', 'create_date': '2024-03-27 16:34:29'}, 'CHF': {'code': 'CHF', 'codein': 'BRL', 'name': 'Franco Suíço/Real Brasileiro', 'high': '5.5216', 'low': '5.4838', 'varBid': '-0.0081', 'pctChange': '-0.15', 'bid': '5.4987', 'ask': '5.5069', 'timestamp': '1711568079', 'create_date': '2024-03-27 16:34:39'}, 'AUD': {'code': 'AUD', 'codein': 'BRL', 'name': 'Dólar Australiano/Real Brasileiro', 'high': '3.2577', 'low': '3.243', 'varBid': '-0.0018', 'pctChange': '-0.06', 'bid': '3.2496', 'ask': '3.2545', 'timestamp': '1711568085', 'create_date': '2024-03-27 16:34:45'}, 'CNY': {'code': 'CNY', 'codein': 'BRL', 'name': 'Yuan Chinês/Real Brasileiro', 'high': '0.6907', 'low': '0.6882', 'varBid': '-0.0014', 'pctChange': '-0.21', 'bid': '0.6889', 'ask': '0.6889', 'timestamp': '1711568222', 'create_date': '2024-03-27 16:37:02'}, 'ILS': {'code': 'ILS', 'codein': 'BRL', 'name': 'Novo Shekel Israelense/Real Brasileiro', 'high': '1.3642', 'low': '1.3505', 'varBid': '-0.0064', 'pctChange': '-0.47', 'bid': '1.3527', 'ask': '1.3528', 'timestamp': '1711568223', 'create_date': '2024-03-27 16:37:03'}, 'ETH': {'code': 'ETH', 'codein': 'BRL', 'name': 'Ethereum/Real Brasileiro', 'high': '18300', 'low': '17312.01', 'varBid': '-652.66', 'pctChange': '-3.62', 'bid': '17398.46', 'ask': '17473.47', 'timestamp': '1711568269', 'create_date': '2024-03-27 16:37:49'}, 'XRP': {'code': 'XRP', 'codein': 'BRL', 'name': 'XRP/Real Brasileiro', 'high': '3.18', 'low': '3.05', 'varBid': '-0.09', 'pctChange': '-2.83', 'bid': '3.07', 'ask': '3.07', 'timestamp': '1711568266', 'create_date': '2024-03-27 16:37:46'}, 'DOGE': {'code': 'DOGE', 'codein': 'BRL', 'name': 'Dogecoin/Real Brasileiro', 'high': '0.94767', 'low': '0.87731', 'varBid': '0.02742', 'pctChange': '3.11', 'bid': '0.91026', 'ask': '0.91026', 'timestamp': '1711568204', 'create_date': '2024-03-27 16:36:44'}}\n"
     ]
    }
   ],
   "source": [
    "import requests\n",
    "import json\n",
    "#vem como um dicionario no formato json\n",
    "cotacoes =  requests.get('https://economia.awesomeapi.com.br/json/all')\n",
    "#converter para dicionario em python\n",
    "cotacoes_dic = cotacoes.json()\n",
    "print(cotacoes_dic)"
   ]
  },
  {
   "cell_type": "markdown",
   "metadata": {},
   "source": [
    "#### Qual foi a última cotação do Dólar, do Euro e do BitCoin? (Sua resposta vai dar diferente do gabarito, porque estamos rodando o código em momentos diferentes, mas o seu código deve ser o mesmo/parecido)"
   ]
  },
  {
   "cell_type": "code",
   "execution_count": 20,
   "metadata": {},
   "outputs": [
    {
     "name": "stdout",
     "output_type": "stream",
     "text": [
      "Dolar: 4.9786 \n",
      "Euro: 5.3857 \n",
      "Bitcoin: 343140 \n"
     ]
    }
   ],
   "source": [
    "print('Dolar: {} '.format(cotacoes_dic['USD']['bid']))\n",
    "print('Euro: {} '.format(cotacoes_dic['EUR']['bid']))\n",
    "print('Bitcoin: {} '.format(cotacoes_dic['BTC']['bid']))\n"
   ]
  },
  {
   "cell_type": "markdown",
   "metadata": {},
   "source": [
    "#### Pegar a cotação dos últimos 30 dias do dólar (Sua resposta vai dar diferente do gabarito, porque estamos rodando o código em momentos diferentes, mas o seu código deve ser o mesmo/parecido)"
   ]
  },
  {
   "cell_type": "code",
   "execution_count": 34,
   "metadata": {},
   "outputs": [
    {
     "name": "stdout",
     "output_type": "stream",
     "text": [
      "[4.9791, 4.9767, 4.9733, 4.9993, 5.0005, 4.9736, 4.9663, 5.0339, 5.0304, 4.9954, 4.9949, 4.9954, 4.9942, 4.971, 4.9695, 4.9783, 4.9825, 4.9805, 4.935, 4.9446, 4.9581, 4.9454, 4.9541, 4.9541, 4.9703, 4.9675, 4.9335, 4.9799, 4.9938, 4.9938]\n"
     ]
    }
   ],
   "source": [
    "cotacoes_dolar30d = requests.get('https://economia.awesomeapi.com.br/json/daily/USD-BRL/30')\n",
    "cotacoes_dolar_dic = cotacoes_dolar30d.json()\n",
    "#percorrer o dicionario (criar lista) list comprehension\n",
    "lista_cotacoes_dolar = [float(item['bid']) for item in cotacoes_dolar_dic]\n",
    "print(lista_cotacoes_dolar)\n",
    "\n",
    "\n",
    "\n"
   ]
  },
  {
   "cell_type": "markdown",
   "metadata": {},
   "source": [
    "#### Pegar as cotações do BitCoin de Jan/20 a Out/20"
   ]
  },
  {
   "cell_type": "code",
   "execution_count": null,
   "metadata": {},
   "outputs": [],
   "source": []
  },
  {
   "cell_type": "markdown",
   "metadata": {},
   "source": [
    "#### Gráfico com as cotações do BitCoin"
   ]
  },
  {
   "cell_type": "code",
   "execution_count": null,
   "metadata": {},
   "outputs": [],
   "source": []
  }
 ],
 "metadata": {
  "kernelspec": {
   "display_name": "Python 3 (ipykernel)",
   "language": "python",
   "name": "python3"
  },
  "language_info": {
   "codemirror_mode": {
    "name": "ipython",
    "version": 3
   },
   "file_extension": ".py",
   "mimetype": "text/x-python",
   "name": "python",
   "nbconvert_exporter": "python",
   "pygments_lexer": "ipython3",
   "version": "3.11.7"
  }
 },
 "nbformat": 4,
 "nbformat_minor": 4
}
