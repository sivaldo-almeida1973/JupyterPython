{
 "cells": [
  {
   "cell_type": "markdown",
   "id": "8229072b-1ce9-4f08-946d-d7336de7e94c",
   "metadata": {},
   "source": [
    "#Exercícios do modulo 1 - Operações, Variáveis e Input"
   ]
  },
  {
   "cell_type": "markdown",
   "id": "c357fa46-8ae6-4a7d-84e8-676908894844",
   "metadata": {},
   "source": [
    "Crie um programa  que imprima (print) os principais indicadores da loja Guloso&Cia no último ano. Obs: faça tudo usando variáveis."
   ]
  },
  {
   "cell_type": "markdown",
   "id": "c188a881-be07-4b20-b06e-386efc0b05dd",
   "metadata": {},
   "source": [
    "Valores do último ano:"
   ]
  },
  {
   "cell_type": "markdown",
   "id": "9b8e9d74-bc7e-4514-a77a-4cd9a8ba6829",
   "metadata": {},
   "source": [
    "Quantidade de vendas de coca = 160 <br>\n",
    "Quantidade de vendas de Pepsi = 130 <br>\n",
    "\n",
    "Preço Unitário da Coca = 1,50 <br>\n",
    "Preço Unitário da Pepsi = 1,50 <br>\n",
    "Custo da loja = 2.500,00\n"
   ]
  },
  {
   "cell_type": "code",
   "execution_count": 18,
   "id": "f99339a1-3493-4ad9-b96c-2d43b7e2ba58",
   "metadata": {},
   "outputs": [],
   "source": [
    "total_venda_coca = 150\n",
    "total_venda_pepsi = 130\n",
    "preco_unit_coca =1.50\n",
    "preco_unit_pepsi = 1.50"
   ]
  },
  {
   "cell_type": "markdown",
   "id": "11c9377e-10a3-4da7-8d94-9b36a2673389",
   "metadata": {},
   "source": [
    "1.qual foi o faturamento de pepsi da Loja?"
   ]
  },
  {
   "cell_type": "code",
   "execution_count": 19,
   "id": "e6a0a793-733f-476f-8365-e13fb2ec1ed0",
   "metadata": {},
   "outputs": [
    {
     "name": "stdout",
     "output_type": "stream",
     "text": [
      "195.0\n"
     ]
    }
   ],
   "source": [
    "faturamento_pepsi = total_venda_pepsi * preco_unit_pepsi\n",
    "print(faturamento_pepsi)"
   ]
  },
  {
   "cell_type": "markdown",
   "id": "a9b94cd5-bd10-48cc-9574-fb7296074435",
   "metadata": {},
   "source": [
    "2.Qual foi o faturmanto de Coca da loja?"
   ]
  },
  {
   "cell_type": "code",
   "execution_count": 20,
   "id": "0901a08d-df96-4bc9-984c-1cbe93052169",
   "metadata": {},
   "outputs": [
    {
     "name": "stdout",
     "output_type": "stream",
     "text": [
      "225.0\n"
     ]
    }
   ],
   "source": [
    "faturamento_coca = total_venda_coca * preco_unit_coca\n",
    "print(faturamento_coca)"
   ]
  },
  {
   "cell_type": "code",
   "execution_count": null,
   "id": "5c4fd03c-e6b4-44e7-87e3-d3b7b813be36",
   "metadata": {},
   "outputs": [],
   "source": []
  }
 ],
 "metadata": {
  "kernelspec": {
   "display_name": "Python 3 (ipykernel)",
   "language": "python",
   "name": "python3"
  },
  "language_info": {
   "codemirror_mode": {
    "name": "ipython",
    "version": 3
   },
   "file_extension": ".py",
   "mimetype": "text/x-python",
   "name": "python",
   "nbconvert_exporter": "python",
   "pygments_lexer": "ipython3",
   "version": "3.11.7"
  }
 },
 "nbformat": 4,
 "nbformat_minor": 5
}
