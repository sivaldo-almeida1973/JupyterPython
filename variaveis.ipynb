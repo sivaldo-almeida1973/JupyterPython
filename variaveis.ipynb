{
 "cells": [
  {
   "cell_type": "code",
   "execution_count": 3,
   "id": "53adc6a9-46f1-46b5-a9a8-d3e7bc161f79",
   "metadata": {},
   "outputs": [
    {
     "name": "stdout",
     "output_type": "stream",
     "text": [
      "1500\n",
      "sivaldo\n"
     ]
    }
   ],
   "source": [
    "qtde_vendas = 1500\n",
    "nome = 'sivaldo'\n",
    "print(qtde_vendas)\n",
    "print(nome)"
   ]
  },
  {
   "cell_type": "code",
   "execution_count": 5,
   "id": "e45b1049-c1c7-4e7e-9586-7fecf54cb738",
   "metadata": {},
   "outputs": [
    {
     "name": "stdout",
     "output_type": "stream",
     "text": [
      "240\n"
     ]
    }
   ],
   "source": [
    "faturamento = 300\n",
    "custo = 60\n",
    "lucro = faturamento - custo\n",
    "print(lucro)"
   ]
  }
 ],
 "metadata": {
  "kernelspec": {
   "display_name": "Python 3 (ipykernel)",
   "language": "python",
   "name": "python3"
  },
  "language_info": {
   "codemirror_mode": {
    "name": "ipython",
    "version": 3
   },
   "file_extension": ".py",
   "mimetype": "text/x-python",
   "name": "python",
   "nbconvert_exporter": "python",
   "pygments_lexer": "ipython3",
   "version": "3.11.7"
  }
 },
 "nbformat": 4,
 "nbformat_minor": 5
}
