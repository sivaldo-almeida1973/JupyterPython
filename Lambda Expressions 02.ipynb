{
 "cells": [
  {
   "cell_type": "markdown",
   "metadata": {},
   "source": [
    "# Principal Aplicação de Lambda Expressions\n",
    "\n",
    "### Usar lambda como argumento de alguma outra função, como map e filter"
   ]
  },
  {
   "cell_type": "code",
   "execution_count": 1,
   "metadata": {},
   "outputs": [],
   "source": [
    "preco_tecnologia = {'notebook asus': 2450, 'iphone': 4500, 'samsung galaxy': 3000,\n",
    "                    'tv samsung': 1000, 'ps5': 3000, 'tablet': 1000, 'notebook dell': 3000,\n",
    "                    'ipad': 3000, 'tv philco': 800, 'notebook hp': 1700}"
   ]
  },
  {
   "cell_type": "markdown",
   "metadata": {},
   "source": [
    "### map()\n",
    "- Queremos saber o preço de cada produto adicionando o valor do imposto de 30% sobre o valor do produto"
   ]
  },
  {
   "cell_type": "code",
   "execution_count": 13,
   "metadata": {},
   "outputs": [
    {
     "name": "stdout",
     "output_type": "stream",
     "text": [
      "[3185.0, 5850.0, 3900.0, 1300.0, 3900.0, 1300.0, 3900.0, 3900.0, 1040.0, 2210.0]\n"
     ]
    }
   ],
   "source": [
    "#mostra uma lista com varias tuplas\n",
    "#print(preco_tecnologia.items())\n",
    "#mostra somente os valores\n",
    "#print(preco_tecnologia.values())\n",
    "\n",
    "\n",
    "#criar funcao para calcular preco com imposto\n",
    "def calcular_preco(preco):\n",
    "    return preco * 1.3\n",
    "    \n",
    "#Fazendo por function\n",
    "\n",
    "# o map esta aplicando a funcao calcular_preco, para cada item de preco_tecnologia.values\n",
    "#lista dos valores=  (preco_tecnologia.values()) para cada valor (calcular_preco )com imposto\n",
    "#quando chmar map ,não esquecer do list() para transformar em lista\n",
    "preco_com_imposto = list(map(calcular_preco, preco_tecnologia.values()))\n",
    "print(preco_com_imposto)\n",
    "\n",
    "\n"
   ]
  },
  {
   "cell_type": "code",
   "execution_count": 15,
   "metadata": {},
   "outputs": [
    {
     "name": "stdout",
     "output_type": "stream",
     "text": [
      "[3185.0, 5850.0, 3900.0, 1300.0, 3900.0, 1300.0, 3900.0, 3900.0, 1040.0, 2210.0]\n"
     ]
    }
   ],
   "source": [
    "#fazendo o modelo acima por lambda\n",
    "\n",
    "preco_com_imposto2 = list(map(lambda preco: preco * 1.3, preco_tecnologia.values()))\n",
    "print(preco_com_imposto2)\n",
    "                        "
   ]
  },
  {
   "cell_type": "markdown",
   "metadata": {},
   "source": [
    "### filter()\n",
    "- Queremos apenas os produtos que custam acima de 2000"
   ]
  },
  {
   "cell_type": "raw",
   "metadata": {},
   "source": [
    "filter(função, iterable) -> retorna como resposta todos os itens do iterable onde a função é True"
   ]
  },
  {
   "cell_type": "code",
   "execution_count": 23,
   "metadata": {},
   "outputs": [
    {
     "name": "stdout",
     "output_type": "stream",
     "text": [
      "{'notebook asus': 2450, 'iphone': 4500, 'samsung galaxy': 3000, 'ps5': 3000, 'notebook dell': 3000, 'ipad': 3000}\n"
     ]
    }
   ],
   "source": [
    "#fazendo por function\n",
    "#print(preco_tecnologia.items())\n",
    "\n",
    "def ehmaior2000(item):\n",
    "    return item[1] > 2000\n",
    "    \n",
    "#dict transforma a lista de tupla em um dicionario\n",
    "produtos_acima2000 = dict(list(filter(ehmaior2000, preco_tecnologia.items())))\n",
    "\n",
    "print(produtos_acima2000)\n"
   ]
  },
  {
   "cell_type": "code",
   "execution_count": 35,
   "metadata": {},
   "outputs": [
    {
     "name": "stdout",
     "output_type": "stream",
     "text": [
      "{'notebook asus': 2450, 'iphone': 4500, 'samsung galaxy': 3000, 'ps5': 3000, 'notebook dell': 3000, 'ipad': 3000}\n"
     ]
    }
   ],
   "source": [
    "#fazendo por lambda\n",
    "produtos2_acima2000 = dict(list(filter(lambda item: item[1] > 2000,\n",
    "                                       preco_tecnologia.items())))\n",
    "print(produtos2_acima2000)\n",
    "\n"
   ]
  }
 ],
 "metadata": {
  "kernelspec": {
   "display_name": "Python 3 (ipykernel)",
   "language": "python",
   "name": "python3"
  },
  "language_info": {
   "codemirror_mode": {
    "name": "ipython",
    "version": 3
   },
   "file_extension": ".py",
   "mimetype": "text/x-python",
   "name": "python",
   "nbconvert_exporter": "python",
   "pygments_lexer": "ipython3",
   "version": "3.11.7"
  }
 },
 "nbformat": 4,
 "nbformat_minor": 4
}
