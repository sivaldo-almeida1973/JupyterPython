{
 "cells": [
  {
   "cell_type": "markdown",
   "metadata": {},
   "source": [
    "# For nos Dicionarios\n",
    "\n",
    "### Estrutura:"
   ]
  },
  {
   "cell_type": "raw",
   "metadata": {},
   "source": [
    "for chave in dicionario:\n",
    "    faça alguma coisa"
   ]
  },
  {
   "cell_type": "code",
   "execution_count": 17,
   "metadata": {},
   "outputs": [
    {
     "name": "stdout",
     "output_type": "stream",
     "text": [
      "Porduto:iphone => Vendeu: 15000 unidades\n",
      "Porduto:samsung galaxy => Vendeu: 12000 unidades\n",
      "Porduto:tv samsung => Vendeu: 10000 unidades\n",
      "Porduto:ps5 => Vendeu: 14300 unidades\n",
      "Porduto:tablet => Vendeu: 1720 unidades\n",
      "Porduto:ipad => Vendeu: 1000 unidades\n",
      "Porduto:tv philco => Vendeu: 2500 unidades\n",
      "Porduto:notebook hp => Vendeu: 1000 unidades\n",
      "Porduto:notebook dell => Vendeu: 17000 unidades\n",
      "Porduto:notebook asus => Vendeu: 2450 unidades\n"
     ]
    }
   ],
   "source": [
    "vendas_tecnologia = {'iphone': 15000, 'samsung galaxy': 12000, 'tv samsung': 10000, \n",
    "                     'ps5': 14300, 'tablet': 1720, 'ipad': 1000, 'tv philco': 2500, \n",
    "                     'notebook hp': 1000, 'notebook dell': 17000, 'notebook asus': 2450}\n",
    "\n",
    "#demonstrando o for\n",
    "for chave  in vendas_tecnologia:\n",
    "    \n",
    "    print('Porduto:{} => Vendeu: {} unidades'.format(chave, vendas_tecnologia[chave]))\n",
    "    "
   ]
  },
  {
   "cell_type": "markdown",
   "metadata": {},
   "source": [
    "- Qual o total de notebooks vendidos?"
   ]
  },
  {
   "cell_type": "code",
   "execution_count": 21,
   "metadata": {},
   "outputs": [
    {
     "name": "stdout",
     "output_type": "stream",
     "text": [
      "Total vendas Notebook:20450 \n"
     ]
    }
   ],
   "source": [
    "#percorrer dicionario e soma vendas de notebook\n",
    "total_notebook = 0\n",
    "for chave in vendas_tecnologia:\n",
    "    if 'notebook' in chave:\n",
    "        total_notebook = total_notebook + vendas_tecnologia[chave]\n",
    "\n",
    "print('Total vendas Notebook:{} '.format(total_notebook))"
   ]
  }
 ],
 "metadata": {
  "kernelspec": {
   "display_name": "Python 3 (ipykernel)",
   "language": "python",
   "name": "python3"
  },
  "language_info": {
   "codemirror_mode": {
    "name": "ipython",
    "version": 3
   },
   "file_extension": ".py",
   "mimetype": "text/x-python",
   "name": "python",
   "nbconvert_exporter": "python",
   "pygments_lexer": "ipython3",
   "version": "3.11.7"
  }
 },
 "nbformat": 4,
 "nbformat_minor": 4
}
