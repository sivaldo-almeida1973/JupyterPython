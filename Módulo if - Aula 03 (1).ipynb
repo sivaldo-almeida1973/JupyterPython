{
 "cells": [
  {
   "cell_type": "markdown",
   "metadata": {},
   "source": [
    "# elif\n",
    "\n",
    "E se temos mais do que um caso de sim e não?\n",
    "\n",
    "E se tivermos 3 casos?\n",
    "\n",
    "Usamos o elif da seguinte forma:"
   ]
  },
  {
   "cell_type": "raw",
   "metadata": {},
   "source": [
    "if condição:\n",
    "    o que fazer se a condição 1 for verdadeira\n",
    "elif condição_2:\n",
    "    o que fazer se a condição 1 for falsa e a condição 2 for verdadeira\n",
    "else:\n",
    "    o que fazer se a condição 1 e a condição 2 forem falsas"
   ]
  },
  {
   "cell_type": "markdown",
   "metadata": {},
   "source": [
    "### Exemplo:\n",
    "\n",
    "Vamos criar um programa para analisar o bônus dos funcionários de uma empresa (pode parecer \"simples\", mas uma empresa como a Amazon tem 900.000 funcionários)\n",
    "\n",
    "Para os cargos de vendedores, a regra do bônus é de acordo com a meta de vendas da pessoa:\n",
    "\n",
    "Se ela vendeu abaixo da meta dela, ela não ganha bônus.\n",
    "\n",
    "Se ela vendeu acima da meta dela, ela ganha como bônus 3% do valor que ela vendeu.\n",
    "\n",
    "Se ela vendeu mais do que o dobro da meta dela, ela ganha como bônus 7% do valor que ela vendeu.\n",
    "\n",
    "Vamos criar um programa para avaliar uma pessoa que tinha como meta de vendas 20.000 reais e calcular o bônus dela de acordo com o valor de vendas que ela tiver."
   ]
  },
  {
   "cell_type": "code",
   "execution_count": 49,
   "metadata": {},
   "outputs": [
    {
     "name": "stdin",
     "output_type": "stream",
     "text": [
      "Digite o valor de suas vendas: 45000\n"
     ]
    },
    {
     "name": "stdout",
     "output_type": "stream",
     "text": [
      "Voce ganhou bonus 315.0 de 7%\n"
     ]
    }
   ],
   "source": [
    "vendas = float(input('Digite o valor de suas vendas:'))\n",
    "meta = 20000\n",
    "\n",
    "if vendas < meta :\n",
    "    print('Voce não ganhou Bonus!')\n",
    "elif vendas >= meta and vendas <= 39999:\n",
    "    bonus = 0.003 * vendas\n",
    "    print(f'Voce ganhou Bonus {bonus} de 3%!')\n",
    "elif vendas >= (meta * 2):\n",
    "     bonus = 0.007 * vendas\n",
    "     print(f'Voce ganhou bonus {bonus} de 7%')\n",
    "else:\n",
    "    print('valor Inválido!')\n",
    "    "
   ]
  },
  {
   "cell_type": "code",
   "execution_count": 38,
   "metadata": {},
   "outputs": [
    {
     "name": "stdout",
     "output_type": "stream",
     "text": [
      "Ganhou 1750.0R$ de bonus\n"
     ]
    }
   ],
   "source": [
    "meta = 20000\n",
    "vendas = 250000\n",
    "\n",
    "if vendas < meta:\n",
    "    print('Você não ganhou bonus!')\n",
    "elif vendas > (meta * 2):\n",
    "    bonus = 0.007 * vendas\n",
    "    print('Ganhou {}R$ de bonus'.format(bonus))\n",
    "else:\n",
    "    bonus = 0.003 * vendas\n",
    "    print('Ganhou {}R$ de bonus '.format(bonus))\n",
    "    \n"
   ]
  },
  {
   "cell_type": "code",
   "execution_count": null,
   "metadata": {},
   "outputs": [],
   "source": []
  }
 ],
 "metadata": {
  "kernelspec": {
   "display_name": "Python 3 (ipykernel)",
   "language": "python",
   "name": "python3"
  },
  "language_info": {
   "codemirror_mode": {
    "name": "ipython",
    "version": 3
   },
   "file_extension": ".py",
   "mimetype": "text/x-python",
   "name": "python",
   "nbconvert_exporter": "python",
   "pygments_lexer": "ipython3",
   "version": "3.11.7"
  }
 },
 "nbformat": 4,
 "nbformat_minor": 4
}
