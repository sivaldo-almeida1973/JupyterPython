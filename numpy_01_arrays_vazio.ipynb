{
 "cells": [
  {
   "cell_type": "markdown",
   "metadata": {
    "id": "ES92XHoTqGqP"
   },
   "source": [
    "# Guia de Introdução ao NumPy\n",
    "\n",
    "NumPy, que significa Numerical Python, é uma biblioteca fundamental para a computação científica em Python. Ela fornece suporte para arrays e matrizes, além de funções matemáticas para operações com esses objetos. É, também, a base da biblioteca Pandas.\n",
    "\n"
   ]
  },
  {
   "cell_type": "markdown",
   "metadata": {
    "id": "hA6Up4mtqGqS"
   },
   "source": [
    "## Instalação\n",
    "\n",
    "Para instalar o NumPy, você pode usar o pip, que é o gerenciador de pacotes do Python.\n",
    "\n",
    "```python\n",
    "pip install numpy\n",
    "```\n",
    "\n",
    "## Arrays\n",
    "\n",
    "Um array é uma estrutura de dados que armazena valores do mesmo tipo. Em Python, isso é uma grande vantagem porque economiza espaço e permite operações mais eficientes. Vamos criar um array.\n",
    "\n"
   ]
  },
  {
   "cell_type": "code",
   "execution_count": 49,
   "metadata": {
    "id": "SqSF4w0OqJcf"
   },
   "outputs": [
    {
     "name": "stdout",
     "output_type": "stream",
     "text": [
      "['a' 'b' 'c' 'd' 'e']\n"
     ]
    }
   ],
   "source": [
    "import numpy as np\n",
    "#criacao de array \n",
    "array = np.array(['a','b','c','d','e'])\n",
    "\n",
    "print(array)"
   ]
  },
  {
   "cell_type": "markdown",
   "metadata": {},
   "source": [
    "#Conhecendo um array :indexação e slice"
   ]
  },
  {
   "cell_type": "code",
   "execution_count": 48,
   "metadata": {},
   "outputs": [
    {
     "name": "stdout",
     "output_type": "stream",
     "text": [
      "a\n"
     ]
    }
   ],
   "source": [
    "#indices\n",
    "print(array[0])"
   ]
  },
  {
   "cell_type": "code",
   "execution_count": 47,
   "metadata": {},
   "outputs": [
    {
     "name": "stdout",
     "output_type": "stream",
     "text": [
      "['b' 'c' 'd']\n"
     ]
    }
   ],
   "source": [
    "#Slice(pedaço) 1 :até 4(exclui o 4)\n",
    "print(array[1:4])"
   ]
  },
  {
   "cell_type": "code",
   "execution_count": 46,
   "metadata": {},
   "outputs": [
    {
     "name": "stdout",
     "output_type": "stream",
     "text": [
      "['a' 'b' 'c' 'd']\n"
     ]
    }
   ],
   "source": [
    "# -1 é a ultima posiçao\n",
    "print(array[0:-1])"
   ]
  },
  {
   "cell_type": "code",
   "execution_count": 36,
   "metadata": {},
   "outputs": [
    {
     "name": "stdout",
     "output_type": "stream",
     "text": [
      "['a' 'c']\n"
     ]
    }
   ],
   "source": [
    "# do 0 até -1 de 2 = passos\n",
    "print(array[0:-1:2])\n"
   ]
  },
  {
   "cell_type": "code",
   "execution_count": 38,
   "metadata": {},
   "outputs": [
    {
     "name": "stdout",
     "output_type": "stream",
     "text": [
      "['a' 'c' 'e']\n"
     ]
    }
   ],
   "source": [
    "#do 0 de 2 em 2 até o final do array\n",
    "print(array[0::2])\n"
   ]
  },
  {
   "cell_type": "code",
   "execution_count": 40,
   "metadata": {},
   "outputs": [
    {
     "name": "stdout",
     "output_type": "stream",
     "text": [
      "['a' 'c' 'e']\n"
     ]
    }
   ],
   "source": [
    "# igual o de cima sem o zero\n",
    "print(array[::2])\n"
   ]
  },
  {
   "cell_type": "code",
   "execution_count": 44,
   "metadata": {},
   "outputs": [
    {
     "name": "stdout",
     "output_type": "stream",
     "text": [
      "['a' 'b' 'c' 'd' 'e']\n",
      "['a' 'b' 'c' 'd' 'e']\n"
     ]
    }
   ],
   "source": [
    "# toda o array\n",
    "print(array[::])\n",
    "print(array[:])\n"
   ]
  },
  {
   "cell_type": "code",
   "execution_count": 45,
   "metadata": {},
   "outputs": [
    {
     "name": "stdout",
     "output_type": "stream",
     "text": [
      "['e' 'd' 'c' 'b' 'a']\n",
      "['a' 'b' 'c' 'd' 'e']\n"
     ]
    }
   ],
   "source": [
    "# todo array ivertido -1 passos\n",
    "print(array[::-1])\n",
    "print(array[::1])\n"
   ]
  }
 ],
 "metadata": {
  "colab": {
   "provenance": []
  },
  "kernelspec": {
   "display_name": "Python 3 (ipykernel)",
   "language": "python",
   "name": "python3"
  },
  "language_info": {
   "codemirror_mode": {
    "name": "ipython",
    "version": 3
   },
   "file_extension": ".py",
   "mimetype": "text/x-python",
   "name": "python",
   "nbconvert_exporter": "python",
   "pygments_lexer": "ipython3",
   "version": "3.11.7"
  }
 },
 "nbformat": 4,
 "nbformat_minor": 4
}
