{
 "cells": [
  {
   "cell_type": "markdown",
   "metadata": {},
   "source": [
    "# Exercícios\n",
    "\n",
    "## 1. Input até o usuário parar\n",
    "\n",
    "Vamos criar um sistema de vendas. Nosso programa deve registrar os produtos e as quantidades (2 inputs) e adicionar em uma lista.\n",
    "\n",
    "O programa deve continuar rodando até o input ser vazio, ou seja, o usuário apertar enter sem digitar nenhum produto ou quantidade.\n",
    "\n",
    "Ao final do programa, ele deve printar todos os produtos e quantidades vendidas.\n",
    "\n",
    "Obs: Caso queira, para o print ficar mais visual, pode usar o join para cada item ser printado em uma linha.\n",
    "Sugestão para sua lista de produtos vendidos:"
   ]
  },
  {
   "cell_type": "raw",
   "metadata": {},
   "source": [
    "vendas = [\n",
    "    ['maçã', 5],\n",
    "    ['banana', 15],\n",
    "    ['azeite', 1],\n",
    "    ['vinho', 3],\n",
    "]"
   ]
  },
  {
   "cell_type": "code",
   "execution_count": 11,
   "metadata": {},
   "outputs": [
    {
     "name": "stdin",
     "output_type": "stream",
     "text": [
      "Digite o nome do produto; arrox\n",
      "Digite a quantidade do produto; 10\n",
      "Digite o nome do produto; \n"
     ]
    },
    {
     "name": "stdout",
     "output_type": "stream",
     "text": [
      "======Lista de compras:=======\n",
      "[['arrox', 10]]\n"
     ]
    }
   ],
   "source": [
    "#seu código aqui.\n",
    "vendas = []\n",
    "\n",
    "while True:\n",
    "    produto = input('Digite o nome do produto;')\n",
    "    if not produto:  #se não digitar nome de produtos\n",
    "        break  #sai do loop\n",
    "    qtde = int(input('Digite a quantidade do produto;'))\n",
    "    vendas.append([produto, qtde])\n",
    "print('======Lista de compras:=======')\n",
    "print(vendas)\n",
    "\n",
    "\n",
    "\n",
    "\n"
   ]
  },
  {
   "cell_type": "code",
   "execution_count": 20,
   "metadata": {},
   "outputs": [
    {
     "name": "stdin",
     "output_type": "stream",
     "text": [
      "Digite o nome do produto ou pressione ENTER para sair: manga\n",
      "Digite a quantidade do produto: 10\n",
      "Digite o nome do produto ou pressione ENTER para sair: maça\n",
      "Digite a quantidade do produto: 20\n",
      "Digite o nome do produto ou pressione ENTER para sair: arroz\n",
      "Digite a quantidade do produto: 3\n",
      "Digite o nome do produto ou pressione ENTER para sair: \n"
     ]
    },
    {
     "name": "stdout",
     "output_type": "stream",
     "text": [
      "======Lista de compras:=======\n",
      "Produto: manga, Quantidade: 10\n",
      "Produto: maça, Quantidade: 20\n",
      "Produto: arroz, Quantidade: 3\n"
     ]
    }
   ],
   "source": [
    "\n",
    "\n",
    "vendas = []\n",
    "\n",
    "while True:   \n",
    "    produto = input('Digite o nome do produto ou pressione ENTER para sair:')\n",
    "    if not produto:\n",
    "        break\n",
    " while\n",
    "    while True:\n",
    "        try:\n",
    "            qtde = int(input('Digite a quantidade do produto:'))\n",
    "            break\n",
    "        except ValueError:\n",
    "            print('Por favor, digite um número inteiro para a quantidade.')\n",
    "\n",
    "    vendas.append([produto, qtde])\n",
    "\n",
    "print('======Lista de compras:=======')\n",
    "for item in vendas:\n",
    "    print(f'Produto: {item[0]}, Quantidade: {item[1]}')"
   ]
  },
  {
   "cell_type": "markdown",
   "metadata": {},
   "source": [
    "### Obs: Podemos fazer o While de 2 maneiras:\n",
    "\n",
    "1. While com a condição que finalize o programa\n",
    "2. While rodando para sempre, mas com uma condição dentro do while que dê um break no código.\n",
    "\n",
    "Vamos mostrar as 2 opções"
   ]
  }
 ],
 "metadata": {
  "kernelspec": {
   "display_name": "Python 3 (ipykernel)",
   "language": "python",
   "name": "python3"
  },
  "language_info": {
   "codemirror_mode": {
    "name": "ipython",
    "version": 3
   },
   "file_extension": ".py",
   "mimetype": "text/x-python",
   "name": "python",
   "nbconvert_exporter": "python",
   "pygments_lexer": "ipython3",
   "version": "3.11.7"
  }
 },
 "nbformat": 4,
 "nbformat_minor": 4
}
