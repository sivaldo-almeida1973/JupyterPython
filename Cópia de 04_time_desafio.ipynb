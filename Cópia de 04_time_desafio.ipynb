{
 "cells": [
  {
   "cell_type": "markdown",
   "metadata": {},
   "source": [
    "## Tempo até o próximo ano\n",
    "\n",
    "Crie um script Python que calcula quantos dias, horas, minutos e segundos faltam até o próximo Ano Novo.\n",
    "\n"
   ]
  },
  {
   "cell_type": "code",
   "execution_count": 2,
   "metadata": {},
   "outputs": [
    {
     "name": "stdout",
     "output_type": "stream",
     "text": [
      "time.struct_time(tm_year=2024, tm_mon=4, tm_mday=5, tm_hour=15, tm_min=20, tm_sec=37, tm_wday=4, tm_yday=96, tm_isdst=0)\n"
     ]
    }
   ],
   "source": [
    "import time\n",
    "#achar tempo atual\n",
    "tempo_atual = time.localtime()\n",
    "print(tempo_atual)"
   ]
  },
  {
   "cell_type": "code",
   "execution_count": 3,
   "metadata": {},
   "outputs": [
    {
     "name": "stdout",
     "output_type": "stream",
     "text": [
      "2024\n"
     ]
    }
   ],
   "source": [
    "#ano atual\n",
    "print(tempo_atual.tm_year)"
   ]
  },
  {
   "cell_type": "code",
   "execution_count": 4,
   "metadata": {},
   "outputs": [
    {
     "name": "stdout",
     "output_type": "stream",
     "text": [
      "(2025, 1, 1, 0, 0, 0, 0, 0, 0)\n"
     ]
    }
   ],
   "source": [
    "#achar tempo futuro\n",
    "tempo_ano_novo = (tempo_atual.tm_year + 1 , 1, 1, 0,0,0,0,0,0)\n",
    "print(tempo_ano_novo)"
   ]
  },
  {
   "cell_type": "code",
   "execution_count": 6,
   "metadata": {},
   "outputs": [
    {
     "name": "stdout",
     "output_type": "stream",
     "text": [
      "1712341237.0\n",
      "1735700400.0\n"
     ]
    }
   ],
   "source": [
    "#converter o tempo em segundos\n",
    "print(time.mktime(tempo_atual))\n",
    "print(time.mktime(tempo_ano_novo))\n"
   ]
  },
  {
   "cell_type": "code",
   "execution_count": 9,
   "metadata": {},
   "outputs": [
    {
     "name": "stdout",
     "output_type": "stream",
     "text": [
      "23359163\n"
     ]
    }
   ],
   "source": [
    "#converter o tempo em segundos\n",
    "#resultado de quantos segundos faltam da data atual para o ano novo\n",
    "segundos_restantes = int(time.mktime(tempo_ano_novo) - time.mktime(tempo_atual))\n",
    "print(segundos_restantes)"
   ]
  },
  {
   "cell_type": "markdown",
   "metadata": {
    "tags": []
   },
   "source": [
    "Lembrar da tupla de struct_time: https://docs.python.org/3/library/time.html#time.struct_time"
   ]
  },
  {
   "cell_type": "code",
   "execution_count": 10,
   "metadata": {
    "tags": []
   },
   "outputs": [
    {
     "name": "stdout",
     "output_type": "stream",
     "text": [
      "Segundos em um minuto: 60 s\n",
      "Segundos em uma hora: 3600 s\n",
      "Segundos em um dia: 86400 s\n"
     ]
    }
   ],
   "source": [
    "# lembrando  #converter para ,dias ,horas e segundos\n",
    "\n",
    "segundos_por_minuto = 60\n",
    "segundos_por_hora = 60 * 60\n",
    "segundos_por_dia = 24 * 60 * 60\n",
    "\n",
    "print(f\"Segundos em um minuto: {segundos_por_minuto} s\")\n",
    "print(f\"Segundos em uma hora: {segundos_por_hora} s\")\n",
    "print(f\"Segundos em um dia: {segundos_por_dia} s\")"
   ]
  },
  {
   "cell_type": "markdown",
   "metadata": {
    "tags": []
   },
   "source": [
    "Lembrando de divisão:\n",
    "\n",
    "![divisao](https://escolaeducacao.com.br/wp-content/uploads/2020/01/algoritmo-divisao.png)"
   ]
  },
  {
   "cell_type": "code",
   "execution_count": 15,
   "metadata": {},
   "outputs": [
    {
     "name": "stdout",
     "output_type": "stream",
     "text": [
      "(2, 10)\n"
     ]
    }
   ],
   "source": [
    "#esta fazendo uma divisao de 130 segundos / segundos_por_minuto(60)\n",
    "#                  130/60\n",
    "print(divmod(130,segundos_por_minuto))"
   ]
  },
  {
   "cell_type": "code",
   "execution_count": 17,
   "metadata": {},
   "outputs": [
    {
     "name": "stdout",
     "output_type": "stream",
     "text": [
      "minutos: 2\n",
      "segundos: 10\n"
     ]
    }
   ],
   "source": [
    "\n",
    "resultado, resto = divmod(130, segundos_por_minuto)\n",
    "print('minutos:',resultado)\n",
    "print('segundos:',resto)"
   ]
  },
  {
   "cell_type": "code",
   "execution_count": 26,
   "metadata": {},
   "outputs": [
    {
     "name": "stdout",
     "output_type": "stream",
     "text": [
      "Dias: 270\n",
      "restos_segundos: 31163\n"
     ]
    }
   ],
   "source": [
    "#fazer divisao dos segundos_restantes por segundos_por_dia\n",
    "#23359163 / 86400\n",
    "dias , restos_segundos = divmod(segundos_restantes, segundos_por_dia)\n",
    "print('Dias:',dias)\n",
    "\n",
    "#converter em horas\n",
    "print('restos_segundos:',restos_segundos)"
   ]
  },
  {
   "cell_type": "code",
   "execution_count": 27,
   "metadata": {},
   "outputs": [
    {
     "name": "stdout",
     "output_type": "stream",
     "text": [
      "Horas: 8\n",
      "Minutos: 39\n",
      "Segundos: 23\n"
     ]
    }
   ],
   "source": [
    "#converter em horas\n",
    "#divisao => divmod(restos_segundos, segundos_por_hora)\n",
    "horas , restos_segundos2 = divmod(restos_segundos, segundos_por_hora)\n",
    "print('Horas:',horas)\n",
    "#converter em em minutos\n",
    "minutos, segundos = divmod(restos_segundos2 , segundos_por_minuto)\n",
    "print('Minutos:',minutos)\n",
    "print('Segundos:',segundos)\n",
    "\n"
   ]
  },
  {
   "cell_type": "code",
   "execution_count": 33,
   "metadata": {},
   "outputs": [
    {
     "name": "stdout",
     "output_type": "stream",
     "text": [
      "Faltam 270 Dias:8 Horas:39 Minutos:23 Segundos, para o Ano Novo!!!\n"
     ]
    }
   ],
   "source": [
    "#Resultado final\n",
    "print(f'Faltam {dias} Dias:{horas} Horas:{minutos} Minutos:{segundos} Segundos, para o Ano Novo!!!')"
   ]
  }
 ],
 "metadata": {
  "kernelspec": {
   "display_name": "Python 3 (ipykernel)",
   "language": "python",
   "name": "python3"
  },
  "language_info": {
   "codemirror_mode": {
    "name": "ipython",
    "version": 3
   },
   "file_extension": ".py",
   "mimetype": "text/x-python",
   "name": "python",
   "nbconvert_exporter": "python",
   "pygments_lexer": "ipython3",
   "version": "3.11.7"
  }
 },
 "nbformat": 4,
 "nbformat_minor": 4
}
