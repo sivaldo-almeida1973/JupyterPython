{
 "cells": [
  {
   "cell_type": "code",
   "execution_count": null,
   "id": "2c555883-0916-4eb8-b1d4-6df15609a4fc",
   "metadata": {},
   "outputs": [],
   "source": [
    "from tkinter import *\n",
    "from tkinter import messagebox\n",
    "\n",
    "class MinhaGUI:\n",
    " def __init__(self):\n",
    "  # Criamos a janela principal\n",
    "  self.janela_principal = Tk()\n",
    "  \n",
    "  # Criando o botão\n",
    "  self.botao = Button(self.janela_principal, text='Clique aqui', command=self.hello_world)\n",
    "  \n",
    "  # Empacotando o botão na janela principal\n",
    "  self.botao.pack()\n",
    "  \n",
    "  # Rodando\n",
    "  mainloop()\n",
    "\n",
    "  \n",
    " def hello_world(self):\n",
    "  messagebox.showinfo('Adoro a Apostila Python Progressivo!')\n",
    "\n",
    "\n",
    "gui = MinhaGUI()\n"
   ]
  }
 ],
 "metadata": {
  "kernelspec": {
   "display_name": "Python 3 (ipykernel)",
   "language": "python",
   "name": "python3"
  },
  "language_info": {
   "codemirror_mode": {
    "name": "ipython",
    "version": 3
   },
   "file_extension": ".py",
   "mimetype": "text/x-python",
   "name": "python",
   "nbconvert_exporter": "python",
   "pygments_lexer": "ipython3",
   "version": "3.11.7"
  }
 },
 "nbformat": 4,
 "nbformat_minor": 5
}
