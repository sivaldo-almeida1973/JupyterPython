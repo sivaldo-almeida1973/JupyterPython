{
 "cells": [
  {
   "cell_type": "markdown",
   "id": "f4e47599-ef45-4731-9be7-afb0e98b3b31",
   "metadata": {},
   "source": [
    "# Condições no Python -> If\n",
    "\n",
    "## Estrutura:\n",
    "\n",
    "### Uso mais simples:\n",
    "\n",
    "if condicao:\n",
    "   o que fazer caso a condicao seja verdadeira"
   ]
  },
  {
   "cell_type": "markdown",
   "id": "56732128-6345-4a32-8989-fb21f0b9cadb",
   "metadata": {},
   "source": [
    "### Exemplo Real (informações 100% hipotéticas e inventadas):\n",
    "\n",
    "Digamos que você trabalha na Amazon (que tem centenas de milhares, se não milhões de produtos) e está analisando o resultado de vendas dos produtos.\n",
    "\n",
    "Você precisa criar um programa que vai analisar o resultado de vendas dos produtos da Amazon em um mês. Para simplificar vamos pensar em um único produto: um Iphone.\n",
    "\n",
    "Meta de Vendas do Iphone = 50.000 unidades<br>\n",
    "Quantidade vendida no Mês = 65.300 unidades\n",
    "\n",
    "O seu programa deve avisar (usaremos o print por enquanto) caso o produto tenha batido a meta do mês. Então devemos fazer:<br>\n",
    "- Caso o produto tenha batido a meta, devemos exibir a mensagem: \"Batemos a meta de vendas de Iphone, vendemos {} unidades\" \n",
    "- Se ele não bateu a meta do mês, o seu programa não deve fazer nada"
   ]
  },
  {
   "cell_type": "code",
   "execution_count": null,
   "id": "b7613aab-6e86-4582-b911-5094746519a8",
   "metadata": {},
   "outputs": [],
   "source": []
  },
  {
   "cell_type": "markdown",
   "id": "df7c147d-c115-4e69-8e10-ca2263b652dd",
   "metadata": {},
   "source": [
    "### Tratando a condição falsa:\n",
    "Quando usamos o if, nem sempre queremos apenas analisar o caso verdadeiro, em boa parte das vezes queremos fazer alguma coisa caso a condição seja verdadeira e fazer outra coisa caso a condição seja falsa.\n",
    "\n",
    "Nesse caso usaremos:"
   ]
  },
  {
   "cell_type": "code",
   "execution_count": null,
   "id": "5bcb5de8-5220-45bd-89a5-449f868ca99d",
   "metadata": {},
   "outputs": [],
   "source": []
  },
  {
   "cell_type": "markdown",
   "id": "566f81ef-53ac-48ff-8049-f22f48f1d3f4",
   "metadata": {},
   "source": [
    "Voltando ao nosso Exemplo Real da Amazon e do Iphone, agora nossa programa deve avisar nos 2 casos:\n",
    "- Caso o produto tenha batido a meta, devemos exibir a mensagem: \"Batemos a meta de vendas de Iphone, vendemos {} unidades\" \n",
    "- Se ele não bateu a meta do mês, devemos exibir a mensagem: \"Infelizmente não batemos a meta, vendemos {} unidades. A meta era de {} unidades\""
   ]
  }
 ],
 "metadata": {
  "kernelspec": {
   "display_name": "Python 3 (ipykernel)",
   "language": "python",
   "name": "python3"
  },
  "language_info": {
   "codemirror_mode": {
    "name": "ipython",
    "version": 3
   },
   "file_extension": ".py",
   "mimetype": "text/x-python",
   "name": "python",
   "nbconvert_exporter": "python",
   "pygments_lexer": "ipython3",
   "version": "3.11.7"
  }
 },
 "nbformat": 4,
 "nbformat_minor": 5
}
