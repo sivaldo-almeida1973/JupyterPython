{
 "cells": [
  {
   "cell_type": "markdown",
   "metadata": {},
   "source": [
    "# Estrutura de Repetição: for\n",
    "\n",
    "### Funcionamento:"
   ]
  },
  {
   "cell_type": "raw",
   "metadata": {},
   "source": [
    "for i in range(n):\n",
    "    repetir código n vezes"
   ]
  },
  {
   "cell_type": "code",
   "execution_count": 2,
   "metadata": {},
   "outputs": [
    {
     "name": "stdout",
     "output_type": "stream",
     "text": [
      "Sivaldo\n",
      "Sivaldo\n",
      "Sivaldo\n",
      "Sivaldo\n",
      "Sivaldo\n"
     ]
    }
   ],
   "source": [
    "for i in range(5):\n",
    "    print('Sivaldo')\n",
    "    "
   ]
  },
  {
   "cell_type": "markdown",
   "metadata": {},
   "source": [
    "- Imagine que você está construindo uma automação para enviar todo dia por e-mail um resumo da produção de uma fábrica. Construa um código que exiba a quantidade produzida de cada os produto nesse \"e-mail\""
   ]
  },
  {
   "cell_type": "code",
   "execution_count": 4,
   "metadata": {},
   "outputs": [
    {
     "name": "stdout",
     "output_type": "stream",
     "text": [
      "Codigo: 1 ,Total: 15000 unidades produzidas de coca ,Preço: 15\n",
      "Codigo: 2 ,Total: 12000 unidades produzidas de pepsi ,Preço: 12\n",
      "Codigo: 3 ,Total: 13000 unidades produzidas de guarana ,Preço: 13\n",
      "Codigo: 4 ,Total: 5000 unidades produzidas de sprite ,Preço: 5\n",
      "Codigo: 5 ,Total: 250 unidades produzidas de fanta ,Preço: 25\n"
     ]
    }
   ],
   "source": [
    "produtos = ['coca', 'pepsi', 'guarana', 'sprite', 'fanta']\n",
    "producao = [15000, 12000, 13000, 5000, 250]\n",
    "preco = [15, 12, 13, 5, 25]\n",
    "codigo = [1, 2, 3, 4, 5]\n",
    "\n",
    "for i in range(5):\n",
    "    print('Codigo: {} ,Total: {} unidades produzidas de {} ,Preço: {}'.format(codigo[i], producao[i], produtos[i], preco[i]))"
   ]
  }
 ],
 "metadata": {
  "kernelspec": {
   "display_name": "Python 3 (ipykernel)",
   "language": "python",
   "name": "python3"
  },
  "language_info": {
   "codemirror_mode": {
    "name": "ipython",
    "version": 3
   },
   "file_extension": ".py",
   "mimetype": "text/x-python",
   "name": "python",
   "nbconvert_exporter": "python",
   "pygments_lexer": "ipython3",
   "version": "3.11.7"
  }
 },
 "nbformat": 4,
 "nbformat_minor": 4
}
