{
 "cells": [
  {
   "cell_type": "code",
   "execution_count": 6,
   "id": "25909965-f58e-4379-882c-09fdcb6e56c4",
   "metadata": {},
   "outputs": [
    {
     "name": "stdout",
     "output_type": "stream",
     "text": [
      "Lucro 1: 500\n",
      "Lucro 2: 300\n"
     ]
    }
   ],
   "source": [
    "faturamento = 1000\n",
    "custo = 500\n",
    "\n",
    "lucro = faturamento - custo\n",
    "print(\"Lucro 1:\",lucro)\n",
    "\n",
    "custo = 700 \n",
    "lucro = faturamento - custo\n",
    "print(\"Lucro 2:\" ,lucro)\n",
    "\n"
   ]
  },
  {
   "cell_type": "markdown",
   "id": "81b5095f-e3f0-4bee-b6e6-de1ae4345b8c",
   "metadata": {},
   "source": [
    "Uma variavél é um obj, afinal tudo ´um obj em Python <br>\n",
    "int -> inteiro <br>\n",
    "string -> texto <br>\n",
    "float -> num casas decimais <br>\n",
    "booolean -> true ou false <br>\n"
   ]
  },
  {
   "cell_type": "code",
   "execution_count": 8,
   "id": "19846547-48d6-4282-b437-06c8d1fbaaf1",
   "metadata": {},
   "outputs": [
    {
     "data": {
      "text/plain": [
       "int"
      ]
     },
     "execution_count": 8,
     "metadata": {},
     "output_type": "execute_result"
    }
   ],
   "source": [
    "faturamento = 100\n",
    "type(faturamento)"
   ]
  },
  {
   "cell_type": "code",
   "execution_count": 10,
   "id": "777fdd98-d9d6-4550-8aa7-f841f0d401e6",
   "metadata": {},
   "outputs": [
    {
     "data": {
      "text/plain": [
       "float"
      ]
     },
     "execution_count": 10,
     "metadata": {},
     "output_type": "execute_result"
    }
   ],
   "source": [
    "faturamento = 100.00\n",
    "type(faturamento)"
   ]
  },
  {
   "cell_type": "code",
   "execution_count": 12,
   "id": "88ed589f-2ed8-433c-854f-8d2c9656c000",
   "metadata": {},
   "outputs": [
    {
     "data": {
      "text/plain": [
       "str"
      ]
     },
     "execution_count": 12,
     "metadata": {},
     "output_type": "execute_result"
    }
   ],
   "source": [
    "faturamento = '100'\n",
    "type(faturamento)"
   ]
  },
  {
   "cell_type": "code",
   "execution_count": 16,
   "id": "194268f0-a162-4a61-91d6-7574ce8214e3",
   "metadata": {},
   "outputs": [
    {
     "data": {
      "text/plain": [
       "bool"
      ]
     },
     "execution_count": 16,
     "metadata": {},
     "output_type": "execute_result"
    }
   ],
   "source": [
    "faturamento = True\n",
    "type(faturamento)"
   ]
  },
  {
   "cell_type": "markdown",
   "id": "6e762d12-cca4-493d-961a-1be55c62709c",
   "metadata": {},
   "source": [
    "#Variaveis(str= transforma num em strings) (concatenação de textos)"
   ]
  },
  {
   "cell_type": "code",
   "execution_count": 31,
   "id": "d42a5064-79c3-4521-a0d3-b1febfeb6130",
   "metadata": {},
   "outputs": [
    {
     "name": "stdout",
     "output_type": "stream",
     "text": [
      "O faturamento da loja:1000, O custo da loja 500, Assim o lucro da loja foi 500 Reais\n",
      "O faturamento da loja:1000\n",
      "O lucro da loja foi:500\n",
      "Assim, o lucro da loja foi:500Reais\n"
     ]
    }
   ],
   "source": [
    "faturamento = 1000\n",
    "custo = 500 \n",
    "lucro = faturamento - custo\n",
    "type(faturamento)\n",
    "print('O faturamento da loja:' + str(faturamento) + ', O custo da loja ' + str(custo) + ', Assim o lucro da loja foi ' + str(lucro) + ' Reais')\n",
    "print('O faturamento da loja:' + str(faturamento))\n",
    "print(\"O lucro da loja foi:\" + str(lucro))\n",
    "print(\"Assim, o lucro da loja foi:\" + str(lucro) + \"Reais\")"
   ]
  },
  {
   "cell_type": "markdown",
   "id": "9255f938-ed6e-4b49-b960-bd3dd8cd3d54",
   "metadata": {},
   "source": [
    "#Metodo format"
   ]
  },
  {
   "cell_type": "code",
   "execution_count": 34,
   "id": "591137b4-c2a5-4550-a574-09ac45903774",
   "metadata": {},
   "outputs": [
    {
     "name": "stdout",
     "output_type": "stream",
     "text": [
      "O faturamento da loja foi: 2000 , O custo da loja foi:500 , o lucro da loja foi:1500\n"
     ]
    }
   ],
   "source": [
    "faturamento = 2000\n",
    "custo = 500 \n",
    "lucro = faturamento - custo\n",
    "\n",
    "print('O faturamento da loja foi: {} , O custo da loja foi:{} , o lucro da loja foi:{}'\n",
    "      .format(faturamento, custo, lucro))"
   ]
  },
  {
   "cell_type": "markdown",
   "id": "bc748239-9ed9-4197-af7c-6d1e6966ad68",
   "metadata": {},
   "source": [
    "#Fstrings e mudanças de tipos de variaveis"
   ]
  },
  {
   "cell_type": "code",
   "execution_count": null,
   "id": "b1d5f8f3-9c92-4964-8515-5f68304eee63",
   "metadata": {},
   "outputs": [],
   "source": []
  }
 ],
 "metadata": {
  "kernelspec": {
   "display_name": "Python 3 (ipykernel)",
   "language": "python",
   "name": "python3"
  },
  "language_info": {
   "codemirror_mode": {
    "name": "ipython",
    "version": 3
   },
   "file_extension": ".py",
   "mimetype": "text/x-python",
   "name": "python",
   "nbconvert_exporter": "python",
   "pygments_lexer": "ipython3",
   "version": "3.11.7"
  }
 },
 "nbformat": 4,
 "nbformat_minor": 5
}
